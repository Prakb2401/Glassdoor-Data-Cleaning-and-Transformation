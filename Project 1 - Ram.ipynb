{
  "cells": [
    {
      "cell_type": "code",
      "execution_count": 7,
      "id": "bdc02879",
      "metadata": {
        "noteable": {
          "output_collection_id": "8068b047-1397-4b07-af1f-161a727455b7"
        },
        "ExecuteTime": {
          "end_time": "2023-07-18T19:58:34.397160+00:00",
          "start_time": "2023-07-18T19:58:34.239186+00:00"
        }
      },
      "outputs": [],
      "source": [
        "import numpy as np\n",
        "import pandas as pd #for data processing\n",
        "import os\n",
        "import csv"
      ]
    },
    {
      "cell_type": "code",
      "execution_count": 16,
      "id": "25843b51",
      "metadata": {
        "noteable": {
          "output_collection_id": "faf206ca-c24e-46ea-a597-3b598a3425af"
        },
        "ExecuteTime": {
          "end_time": "2023-07-18T19:58:43.729134+00:00",
          "start_time": "2023-07-18T19:58:42.571937+00:00"
        }
      },
      "outputs": [],
      "source": "unclean_data = pd.read_csv('Uncleaned_DS_jobs.csv')\nunclean_df = pd.DataFrame(unclean_data)\nunclean_df.head()"
    },
    {
      "cell_type": "code",
      "execution_count": null,
      "id": "d183d8eb",
      "metadata": {},
      "outputs": [],
      "source": []
    }
  ],
  "metadata": {
    "kernelspec": {
      "display_name": "Python 3 (ipykernel)",
      "language": "python",
      "name": "python3"
    },
    "language_info": {
      "codemirror_mode": {
        "name": "ipython",
        "version": 3
      },
      "file_extension": ".py",
      "mimetype": "text/x-python",
      "name": "python",
      "nbconvert_exporter": "python",
      "pygments_lexer": "ipython3",
      "version": "3.9.16"
    },
    "selected_hardware_size": "small",
    "noteable": {
      "last_transaction_id": "716b1fae-f7b0-44b4-9270-d051d2465dc2"
    }
  },
  "nbformat": 4,
  "nbformat_minor": 5
}
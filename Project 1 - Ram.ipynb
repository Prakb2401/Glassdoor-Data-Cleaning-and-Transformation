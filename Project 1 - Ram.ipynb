{
  "cells": [
    {
      "cell_type": "code",
      "execution_count": 7,
      "id": "bdc02879",
      "metadata": {
        "noteable": {
          "output_collection_id": "e57414e7-12e0-4907-b27a-9ebc98e2b4f6"
        },
        "ExecuteTime": {
          "end_time": "2023-07-18T20:49:14.187132+00:00",
          "start_time": "2023-07-18T20:49:14.030380+00:00"
        }
      },
      "outputs": [],
      "source": [
        "import numpy as np\n",
        "import pandas as pd #for data processing\n",
        "import os\n",
        "import csv"
      ]
    },
    {
      "cell_type": "code",
      "execution_count": 16,
      "id": "25843b51",
      "metadata": {
        "noteable": {
          "output_collection_id": "f217b123-bc42-4a95-974d-7e3d50101060"
        },
        "ExecuteTime": {
          "end_time": "2023-07-18T20:49:16.869823+00:00",
          "start_time": "2023-07-18T20:49:16.571278+00:00"
        },
        "datalink": {
          "16f69847-5e7c-47d5-8fbc-e423d5206889": {
            "applied_filters": [],
            "dataframe_info": {
              "default_index_used": true,
              "orig_num_cols": 15,
              "orig_num_rows": 5,
              "orig_size_bytes": 640,
              "truncated_num_cols": 15,
              "truncated_num_rows": 5,
              "truncated_size_bytes": 640,
              "truncated_string_columns": [
                "Job Description"
              ]
            },
            "display_id": "16f69847-5e7c-47d5-8fbc-e423d5206889",
            "dx_settings": {
              "ALLOW_NOTEABLE_ATTRS": true,
              "COLUMN_SAMPLING_METHOD": "outer",
              "DB_LOCATION": ":memory:",
              "DEV_MODE": false,
              "DISPLAY_MAX_COLUMNS": 100,
              "DISPLAY_MAX_ROWS": 50000,
              "DISPLAY_MODE": "simple",
              "ENABLE_ASSIGNMENT": true,
              "ENABLE_DATALINK": true,
              "FLATTEN_COLUMN_VALUES": true,
              "FLATTEN_INDEX_VALUES": false,
              "GENERATE_DEX_METADATA": false,
              "HTML_TABLE_SCHEMA": false,
              "LOG_LEVEL": 30,
              "MAX_RENDER_SIZE_BYTES": 104857600,
              "MAX_STRING_LENGTH": 250,
              "NUM_PAST_SAMPLES_TRACKED": 3,
              "RANDOM_STATE": 12648430,
              "RESET_INDEX_VALUES": false,
              "ROW_SAMPLING_METHOD": "random",
              "SAMPLING_FACTOR": 0.1,
              "SAMPLING_METHOD": "random",
              "STRINGIFY_COLUMN_VALUES": true,
              "STRINGIFY_INDEX_VALUES": false
            },
            "sample_history": [],
            "sampling_time": "2023-07-18T19:59:57.480819",
            "user_variable_name": null,
            "variable_name": "unk_dataframe_5d9268d77adb4b5bab1ebc013a6b109a"
          },
          "b5373171-f6bb-4882-87de-6e1f78642a19": {
            "applied_filters": [],
            "dataframe_info": {
              "default_index_used": true,
              "orig_num_cols": 15,
              "orig_num_rows": 5,
              "orig_size_bytes": 640,
              "truncated_num_cols": 15,
              "truncated_num_rows": 5,
              "truncated_size_bytes": 640,
              "truncated_string_columns": [
                "Job Description"
              ]
            },
            "display_id": "b5373171-f6bb-4882-87de-6e1f78642a19",
            "dx_settings": {
              "ALLOW_NOTEABLE_ATTRS": true,
              "COLUMN_SAMPLING_METHOD": "outer",
              "DB_LOCATION": ":memory:",
              "DEV_MODE": false,
              "DISPLAY_MAX_COLUMNS": 100,
              "DISPLAY_MAX_ROWS": 50000,
              "DISPLAY_MODE": "simple",
              "ENABLE_ASSIGNMENT": true,
              "ENABLE_DATALINK": true,
              "FLATTEN_COLUMN_VALUES": true,
              "FLATTEN_INDEX_VALUES": false,
              "GENERATE_DEX_METADATA": false,
              "HTML_TABLE_SCHEMA": false,
              "LOG_LEVEL": 30,
              "MAX_RENDER_SIZE_BYTES": 104857600,
              "MAX_STRING_LENGTH": 250,
              "NUM_PAST_SAMPLES_TRACKED": 3,
              "RANDOM_STATE": 12648430,
              "RESET_INDEX_VALUES": false,
              "ROW_SAMPLING_METHOD": "random",
              "SAMPLING_FACTOR": 0.1,
              "SAMPLING_METHOD": "random",
              "STRINGIFY_COLUMN_VALUES": true,
              "STRINGIFY_INDEX_VALUES": false
            },
            "sample_history": [],
            "sampling_time": "2023-07-18T20:16:10.071578",
            "user_variable_name": null,
            "variable_name": "unk_dataframe_dc0e22f510534b61ba646099883ff65a"
          },
          "fd643d69-5d99-4e67-96f0-b962fa4cdb25": {
            "applied_filters": [],
            "dataframe_info": {
              "default_index_used": true,
              "orig_num_cols": 15,
              "orig_num_rows": 5,
              "orig_size_bytes": 640,
              "truncated_num_cols": 15,
              "truncated_num_rows": 5,
              "truncated_size_bytes": 640,
              "truncated_string_columns": [
                "Job Description"
              ]
            },
            "display_id": "fd643d69-5d99-4e67-96f0-b962fa4cdb25",
            "dx_settings": {
              "ALLOW_NOTEABLE_ATTRS": true,
              "COLUMN_SAMPLING_METHOD": "outer",
              "DB_LOCATION": ":memory:",
              "DEV_MODE": false,
              "DISPLAY_MAX_COLUMNS": 100,
              "DISPLAY_MAX_ROWS": 50000,
              "DISPLAY_MODE": "simple",
              "ENABLE_ASSIGNMENT": true,
              "ENABLE_DATALINK": true,
              "FLATTEN_COLUMN_VALUES": true,
              "FLATTEN_INDEX_VALUES": false,
              "GENERATE_DEX_METADATA": false,
              "HTML_TABLE_SCHEMA": false,
              "LOG_LEVEL": 30,
              "MAX_RENDER_SIZE_BYTES": 104857600,
              "MAX_STRING_LENGTH": 250,
              "NUM_PAST_SAMPLES_TRACKED": 3,
              "RANDOM_STATE": 12648430,
              "RESET_INDEX_VALUES": false,
              "ROW_SAMPLING_METHOD": "random",
              "SAMPLING_FACTOR": 0.1,
              "SAMPLING_METHOD": "random",
              "STRINGIFY_COLUMN_VALUES": true,
              "STRINGIFY_INDEX_VALUES": false
            },
            "sample_history": [],
            "sampling_time": "2023-07-18T20:17:51.259585",
            "user_variable_name": null,
            "variable_name": "unk_dataframe_f1057371e1d64c2c954127619176ebc3"
          },
          "81c40468-a477-40f2-a2fb-8cbcb6db15b5": {
            "applied_filters": [],
            "dataframe_info": {
              "default_index_used": true,
              "orig_num_cols": 15,
              "orig_num_rows": 5,
              "orig_size_bytes": 640,
              "truncated_num_cols": 15,
              "truncated_num_rows": 5,
              "truncated_size_bytes": 640,
              "truncated_string_columns": [
                "Job Description"
              ]
            },
            "display_id": "81c40468-a477-40f2-a2fb-8cbcb6db15b5",
            "dx_settings": {
              "ALLOW_NOTEABLE_ATTRS": true,
              "COLUMN_SAMPLING_METHOD": "outer",
              "DB_LOCATION": ":memory:",
              "DEV_MODE": false,
              "DISPLAY_MAX_COLUMNS": 100,
              "DISPLAY_MAX_ROWS": 50000,
              "DISPLAY_MODE": "simple",
              "ENABLE_ASSIGNMENT": true,
              "ENABLE_DATALINK": true,
              "FLATTEN_COLUMN_VALUES": true,
              "FLATTEN_INDEX_VALUES": false,
              "GENERATE_DEX_METADATA": false,
              "HTML_TABLE_SCHEMA": false,
              "LOG_LEVEL": 30,
              "MAX_RENDER_SIZE_BYTES": 104857600,
              "MAX_STRING_LENGTH": 250,
              "NUM_PAST_SAMPLES_TRACKED": 3,
              "RANDOM_STATE": 12648430,
              "RESET_INDEX_VALUES": false,
              "ROW_SAMPLING_METHOD": "random",
              "SAMPLING_FACTOR": 0.1,
              "SAMPLING_METHOD": "random",
              "STRINGIFY_COLUMN_VALUES": true,
              "STRINGIFY_INDEX_VALUES": false
            },
            "sample_history": [],
            "sampling_time": "2023-07-18T20:49:16.710985",
            "user_variable_name": null,
            "variable_name": "unk_dataframe_21b02fd6a7f74f29a0f7dca4efd22c02"
          }
        },
        "dx": {
          "fieldMetadata": {},
          "simpleTable": false,
          "updated": 1689711482932,
          "views": []
        },
        "scrolled": false
      },
      "outputs": [],
      "source": "unclean_data = pd.read_csv('Uncleaned_DS_jobs.csv')\nunclean_df = pd.DataFrame(unclean_data)\nunclean_df.head()"
    },
    {
      "id": "49a77e08-8f89-41ad-a0f2-3c1258a0a4be",
      "cell_type": "code",
      "metadata": {
        "noteable": {
          "cell_type": "code",
          "output_collection_id": "4fd4f444-079e-4498-94de-fc794e598420"
        },
        "ExecuteTime": {
          "end_time": "2023-07-18T20:49:21.474893+00:00",
          "start_time": "2023-07-18T20:49:21.277016+00:00"
        }
      },
      "execution_count": null,
      "source": "unclean_data = pd.read_csv('Uncleaned_DS_jobs.csv')\nunclean_df = pd.DataFrame(unclean_data)\nunclean_df.head()\nunclean_df.info()",
      "outputs": []
    },
    {
      "id": "140f4ce3-4be3-4032-b7ff-0e1d8055c1d5",
      "cell_type": "code",
      "metadata": {
        "jupyter": {
          "outputs_hidden": false,
          "source_hidden": false
        },
        "noteable": {
          "cell_type": "code",
          "output_collection_id": "e6de4480-0dbf-42f1-8c3b-3308de140d1e"
        },
        "ExecuteTime": {
          "end_time": "2023-07-18T20:49:24.560161+00:00",
          "start_time": "2023-07-18T20:49:24.367775+00:00"
        },
        "datalink": {
          "d42ff857-38ea-4219-a869-354699010ccb": {
            "applied_filters": [],
            "dataframe_info": {
              "default_index_used": false,
              "orig_num_cols": 1,
              "orig_num_rows": 15,
              "orig_size_bytes": 240,
              "truncated_num_cols": 1,
              "truncated_num_rows": 15,
              "truncated_size_bytes": 240,
              "truncated_string_columns": []
            },
            "display_id": "d42ff857-38ea-4219-a869-354699010ccb",
            "dx_settings": {
              "ALLOW_NOTEABLE_ATTRS": true,
              "COLUMN_SAMPLING_METHOD": "outer",
              "DB_LOCATION": ":memory:",
              "DEV_MODE": false,
              "DISPLAY_MAX_COLUMNS": 100,
              "DISPLAY_MAX_ROWS": 50000,
              "DISPLAY_MODE": "simple",
              "ENABLE_ASSIGNMENT": true,
              "ENABLE_DATALINK": true,
              "FLATTEN_COLUMN_VALUES": true,
              "FLATTEN_INDEX_VALUES": false,
              "GENERATE_DEX_METADATA": false,
              "HTML_TABLE_SCHEMA": false,
              "LOG_LEVEL": 30,
              "MAX_RENDER_SIZE_BYTES": 104857600,
              "MAX_STRING_LENGTH": 250,
              "NUM_PAST_SAMPLES_TRACKED": 3,
              "RANDOM_STATE": 12648430,
              "RESET_INDEX_VALUES": false,
              "ROW_SAMPLING_METHOD": "random",
              "SAMPLING_FACTOR": 0.1,
              "SAMPLING_METHOD": "random",
              "STRINGIFY_COLUMN_VALUES": true,
              "STRINGIFY_INDEX_VALUES": false
            },
            "sample_history": [],
            "sampling_time": "2023-07-18T20:09:20.598831",
            "user_variable_name": null,
            "variable_name": "unk_dataframe_30ee0ad1c26340708269ca048dcd9d73"
          },
          "eab1ecde-d3e6-4ab1-a022-b535befeda68": {
            "applied_filters": [],
            "dataframe_info": {
              "default_index_used": false,
              "orig_num_cols": 1,
              "orig_num_rows": 15,
              "orig_size_bytes": 240,
              "truncated_num_cols": 1,
              "truncated_num_rows": 15,
              "truncated_size_bytes": 240,
              "truncated_string_columns": []
            },
            "display_id": "eab1ecde-d3e6-4ab1-a022-b535befeda68",
            "dx_settings": {
              "ALLOW_NOTEABLE_ATTRS": true,
              "COLUMN_SAMPLING_METHOD": "outer",
              "DB_LOCATION": ":memory:",
              "DEV_MODE": false,
              "DISPLAY_MAX_COLUMNS": 100,
              "DISPLAY_MAX_ROWS": 50000,
              "DISPLAY_MODE": "simple",
              "ENABLE_ASSIGNMENT": true,
              "ENABLE_DATALINK": true,
              "FLATTEN_COLUMN_VALUES": true,
              "FLATTEN_INDEX_VALUES": false,
              "GENERATE_DEX_METADATA": false,
              "HTML_TABLE_SCHEMA": false,
              "LOG_LEVEL": 30,
              "MAX_RENDER_SIZE_BYTES": 104857600,
              "MAX_STRING_LENGTH": 250,
              "NUM_PAST_SAMPLES_TRACKED": 3,
              "RANDOM_STATE": 12648430,
              "RESET_INDEX_VALUES": false,
              "ROW_SAMPLING_METHOD": "random",
              "SAMPLING_FACTOR": 0.1,
              "SAMPLING_METHOD": "random",
              "STRINGIFY_COLUMN_VALUES": true,
              "STRINGIFY_INDEX_VALUES": false
            },
            "sample_history": [],
            "sampling_time": "2023-07-18T20:10:31.688091",
            "user_variable_name": null,
            "variable_name": "unk_dataframe_5e4df0fa950944289fd59cbc2ccdaee9"
          },
          "f8760eff-3e2d-44c5-96fa-33f19fc5726c": {
            "applied_filters": [],
            "dataframe_info": {
              "default_index_used": false,
              "orig_num_cols": 1,
              "orig_num_rows": 15,
              "orig_size_bytes": 240,
              "truncated_num_cols": 1,
              "truncated_num_rows": 15,
              "truncated_size_bytes": 240,
              "truncated_string_columns": []
            },
            "display_id": "f8760eff-3e2d-44c5-96fa-33f19fc5726c",
            "dx_settings": {
              "ALLOW_NOTEABLE_ATTRS": true,
              "COLUMN_SAMPLING_METHOD": "outer",
              "DB_LOCATION": ":memory:",
              "DEV_MODE": false,
              "DISPLAY_MAX_COLUMNS": 100,
              "DISPLAY_MAX_ROWS": 50000,
              "DISPLAY_MODE": "simple",
              "ENABLE_ASSIGNMENT": true,
              "ENABLE_DATALINK": true,
              "FLATTEN_COLUMN_VALUES": true,
              "FLATTEN_INDEX_VALUES": false,
              "GENERATE_DEX_METADATA": false,
              "HTML_TABLE_SCHEMA": false,
              "LOG_LEVEL": 30,
              "MAX_RENDER_SIZE_BYTES": 104857600,
              "MAX_STRING_LENGTH": 250,
              "NUM_PAST_SAMPLES_TRACKED": 3,
              "RANDOM_STATE": 12648430,
              "RESET_INDEX_VALUES": false,
              "ROW_SAMPLING_METHOD": "random",
              "SAMPLING_FACTOR": 0.1,
              "SAMPLING_METHOD": "random",
              "STRINGIFY_COLUMN_VALUES": true,
              "STRINGIFY_INDEX_VALUES": false
            },
            "sample_history": [],
            "sampling_time": "2023-07-18T20:16:24.862516",
            "user_variable_name": null,
            "variable_name": "unk_dataframe_b7b5911b8e754c4a95473182efd5b4d7"
          },
          "6402e673-ccbe-44d1-bd45-a6de8b2aa7d8": {
            "applied_filters": [],
            "dataframe_info": {
              "default_index_used": false,
              "orig_num_cols": 1,
              "orig_num_rows": 15,
              "orig_size_bytes": 240,
              "truncated_num_cols": 1,
              "truncated_num_rows": 15,
              "truncated_size_bytes": 240,
              "truncated_string_columns": []
            },
            "display_id": "6402e673-ccbe-44d1-bd45-a6de8b2aa7d8",
            "dx_settings": {
              "ALLOW_NOTEABLE_ATTRS": true,
              "COLUMN_SAMPLING_METHOD": "outer",
              "DB_LOCATION": ":memory:",
              "DEV_MODE": false,
              "DISPLAY_MAX_COLUMNS": 100,
              "DISPLAY_MAX_ROWS": 50000,
              "DISPLAY_MODE": "simple",
              "ENABLE_ASSIGNMENT": true,
              "ENABLE_DATALINK": true,
              "FLATTEN_COLUMN_VALUES": true,
              "FLATTEN_INDEX_VALUES": false,
              "GENERATE_DEX_METADATA": false,
              "HTML_TABLE_SCHEMA": false,
              "LOG_LEVEL": 30,
              "MAX_RENDER_SIZE_BYTES": 104857600,
              "MAX_STRING_LENGTH": 250,
              "NUM_PAST_SAMPLES_TRACKED": 3,
              "RANDOM_STATE": 12648430,
              "RESET_INDEX_VALUES": false,
              "ROW_SAMPLING_METHOD": "random",
              "SAMPLING_FACTOR": 0.1,
              "SAMPLING_METHOD": "random",
              "STRINGIFY_COLUMN_VALUES": true,
              "STRINGIFY_INDEX_VALUES": false
            },
            "sample_history": [],
            "sampling_time": "2023-07-18T20:18:11.588395",
            "user_variable_name": null,
            "variable_name": "unk_dataframe_b06f914d9c504d9485d965d7884806dd"
          },
          "21a069b5-20d2-4212-bb04-bd8ae02cef63": {
            "applied_filters": [],
            "dataframe_info": {
              "default_index_used": false,
              "orig_num_cols": 1,
              "orig_num_rows": 15,
              "orig_size_bytes": 240,
              "truncated_num_cols": 1,
              "truncated_num_rows": 15,
              "truncated_size_bytes": 240,
              "truncated_string_columns": []
            },
            "display_id": "21a069b5-20d2-4212-bb04-bd8ae02cef63",
            "dx_settings": {
              "ALLOW_NOTEABLE_ATTRS": true,
              "COLUMN_SAMPLING_METHOD": "outer",
              "DB_LOCATION": ":memory:",
              "DEV_MODE": false,
              "DISPLAY_MAX_COLUMNS": 100,
              "DISPLAY_MAX_ROWS": 50000,
              "DISPLAY_MODE": "simple",
              "ENABLE_ASSIGNMENT": true,
              "ENABLE_DATALINK": true,
              "FLATTEN_COLUMN_VALUES": true,
              "FLATTEN_INDEX_VALUES": false,
              "GENERATE_DEX_METADATA": false,
              "HTML_TABLE_SCHEMA": false,
              "LOG_LEVEL": 30,
              "MAX_RENDER_SIZE_BYTES": 104857600,
              "MAX_STRING_LENGTH": 250,
              "NUM_PAST_SAMPLES_TRACKED": 3,
              "RANDOM_STATE": 12648430,
              "RESET_INDEX_VALUES": false,
              "ROW_SAMPLING_METHOD": "random",
              "SAMPLING_FACTOR": 0.1,
              "SAMPLING_METHOD": "random",
              "STRINGIFY_COLUMN_VALUES": true,
              "STRINGIFY_INDEX_VALUES": false
            },
            "sample_history": [],
            "sampling_time": "2023-07-18T20:49:24.403363",
            "user_variable_name": null,
            "variable_name": "unk_dataframe_b3af0a158cad4fbbb8e7e1396b7c654c"
          }
        },
        "dx": {
          "fieldMetadata": {},
          "simpleTable": true,
          "simpleTableExpanded": false,
          "updated": 1689710964922,
          "views": []
        }
      },
      "execution_count": null,
      "source": "# check for null values\nunclean_df.isnull().sum()",
      "outputs": []
    },
    {
      "id": "e31bf01a-4538-4761-a6a8-5029562cf2ff",
      "cell_type": "code",
      "metadata": {
        "jupyter": {
          "outputs_hidden": false,
          "source_hidden": false
        },
        "noteable": {
          "cell_type": "code",
          "output_collection_id": "b23a1b2d-5093-49fc-8344-b05b7663593a"
        },
        "ExecuteTime": {
          "end_time": "2023-07-18T20:49:27.859680+00:00",
          "start_time": "2023-07-18T20:49:27.698364+00:00"
        }
      },
      "execution_count": null,
      "source": "unclean_df.drop('index',axis=1,inplace=True)\nunclean_df.shape",
      "outputs": []
    },
    {
      "id": "85f4f8e6-04b7-43ad-a631-ffcb4b16f9e4",
      "cell_type": "code",
      "metadata": {
        "noteable": {
          "cell_type": "code",
          "output_collection_id": "addb2440-1adc-455c-a966-db54ee7fefc1"
        },
        "ExecuteTime": {
          "end_time": "2023-07-18T20:49:31.908113+00:00",
          "start_time": "2023-07-18T20:49:31.634570+00:00"
        },
        "datalink": {
          "ee42736d-9639-42ca-8138-80ed5129674c": {
            "applied_filters": [],
            "dataframe_info": {
              "default_index_used": true,
              "orig_num_cols": 14,
              "orig_num_rows": 13,
              "orig_size_bytes": 1560,
              "truncated_num_cols": 14,
              "truncated_num_rows": 13,
              "truncated_size_bytes": 1560,
              "truncated_string_columns": [
                "Job Description"
              ]
            },
            "display_id": "ee42736d-9639-42ca-8138-80ed5129674c",
            "dx_settings": {
              "ALLOW_NOTEABLE_ATTRS": true,
              "COLUMN_SAMPLING_METHOD": "outer",
              "DB_LOCATION": ":memory:",
              "DEV_MODE": false,
              "DISPLAY_MAX_COLUMNS": 100,
              "DISPLAY_MAX_ROWS": 50000,
              "DISPLAY_MODE": "simple",
              "ENABLE_ASSIGNMENT": true,
              "ENABLE_DATALINK": true,
              "FLATTEN_COLUMN_VALUES": true,
              "FLATTEN_INDEX_VALUES": false,
              "GENERATE_DEX_METADATA": false,
              "HTML_TABLE_SCHEMA": false,
              "LOG_LEVEL": 30,
              "MAX_RENDER_SIZE_BYTES": 104857600,
              "MAX_STRING_LENGTH": 250,
              "NUM_PAST_SAMPLES_TRACKED": 3,
              "RANDOM_STATE": 12648430,
              "RESET_INDEX_VALUES": false,
              "ROW_SAMPLING_METHOD": "random",
              "SAMPLING_FACTOR": 0.1,
              "SAMPLING_METHOD": "random",
              "STRINGIFY_COLUMN_VALUES": true,
              "STRINGIFY_INDEX_VALUES": false
            },
            "sample_history": [],
            "sampling_time": "2023-07-18T20:18:31.400034",
            "user_variable_name": null,
            "variable_name": "unk_dataframe_f3f573f863d440d08f9b1704a8cb0c4c"
          },
          "aedd6026-3de4-4e59-83ea-8b12e6339f5d": {
            "applied_filters": [],
            "dataframe_info": {
              "default_index_used": true,
              "orig_num_cols": 14,
              "orig_num_rows": 13,
              "orig_size_bytes": 1560,
              "truncated_num_cols": 14,
              "truncated_num_rows": 13,
              "truncated_size_bytes": 1560,
              "truncated_string_columns": [
                "Job Description"
              ]
            },
            "display_id": "aedd6026-3de4-4e59-83ea-8b12e6339f5d",
            "dx_settings": {
              "ALLOW_NOTEABLE_ATTRS": true,
              "COLUMN_SAMPLING_METHOD": "outer",
              "DB_LOCATION": ":memory:",
              "DEV_MODE": false,
              "DISPLAY_MAX_COLUMNS": 100,
              "DISPLAY_MAX_ROWS": 50000,
              "DISPLAY_MODE": "simple",
              "ENABLE_ASSIGNMENT": true,
              "ENABLE_DATALINK": true,
              "FLATTEN_COLUMN_VALUES": true,
              "FLATTEN_INDEX_VALUES": false,
              "GENERATE_DEX_METADATA": false,
              "HTML_TABLE_SCHEMA": false,
              "LOG_LEVEL": 30,
              "MAX_RENDER_SIZE_BYTES": 104857600,
              "MAX_STRING_LENGTH": 250,
              "NUM_PAST_SAMPLES_TRACKED": 3,
              "RANDOM_STATE": 12648430,
              "RESET_INDEX_VALUES": false,
              "ROW_SAMPLING_METHOD": "random",
              "SAMPLING_FACTOR": 0.1,
              "SAMPLING_METHOD": "random",
              "STRINGIFY_COLUMN_VALUES": true,
              "STRINGIFY_INDEX_VALUES": false
            },
            "sample_history": [],
            "sampling_time": "2023-07-18T20:19:13.058155",
            "user_variable_name": null,
            "variable_name": "unk_dataframe_74bc472025094a04b18ca5229126b016"
          },
          "4c695686-b4ed-4ae0-9414-ebce7bd6e10d": {
            "applied_filters": [],
            "dataframe_info": {
              "default_index_used": true,
              "orig_num_cols": 14,
              "orig_num_rows": 13,
              "orig_size_bytes": 1560,
              "truncated_num_cols": 14,
              "truncated_num_rows": 13,
              "truncated_size_bytes": 1560,
              "truncated_string_columns": [
                "Job Description"
              ]
            },
            "display_id": "4c695686-b4ed-4ae0-9414-ebce7bd6e10d",
            "dx_settings": {
              "ALLOW_NOTEABLE_ATTRS": true,
              "COLUMN_SAMPLING_METHOD": "outer",
              "DB_LOCATION": ":memory:",
              "DEV_MODE": false,
              "DISPLAY_MAX_COLUMNS": 100,
              "DISPLAY_MAX_ROWS": 50000,
              "DISPLAY_MODE": "simple",
              "ENABLE_ASSIGNMENT": true,
              "ENABLE_DATALINK": true,
              "FLATTEN_COLUMN_VALUES": true,
              "FLATTEN_INDEX_VALUES": false,
              "GENERATE_DEX_METADATA": false,
              "HTML_TABLE_SCHEMA": false,
              "LOG_LEVEL": 30,
              "MAX_RENDER_SIZE_BYTES": 104857600,
              "MAX_STRING_LENGTH": 250,
              "NUM_PAST_SAMPLES_TRACKED": 3,
              "RANDOM_STATE": 12648430,
              "RESET_INDEX_VALUES": false,
              "ROW_SAMPLING_METHOD": "random",
              "SAMPLING_FACTOR": 0.1,
              "SAMPLING_METHOD": "random",
              "STRINGIFY_COLUMN_VALUES": true,
              "STRINGIFY_INDEX_VALUES": false
            },
            "sample_history": [],
            "sampling_time": "2023-07-18T20:49:31.748384",
            "user_variable_name": null,
            "variable_name": "unk_dataframe_d810cef9446d4975aa577fedea644a16"
          }
        }
      },
      "execution_count": null,
      "source": "print(unclean_df[unclean_df.duplicated()].shape)\n\nunclean_df[unclean_df.duplicated()]",
      "outputs": []
    },
    {
      "id": "66fcb0e5-20bc-43b3-b52e-5e07a282eafe",
      "cell_type": "code",
      "metadata": {
        "jupyter": {
          "outputs_hidden": false,
          "source_hidden": false
        },
        "noteable": {
          "cell_type": "code",
          "output_collection_id": "ecf5b9c1-d949-4818-a42e-ea0f22bf25bf"
        },
        "ExecuteTime": {
          "end_time": "2023-07-18T20:49:35.254562+00:00",
          "start_time": "2023-07-18T20:49:35.088273+00:00"
        }
      },
      "execution_count": null,
      "source": "unclean_df.drop_duplicates(inplace=True)",
      "outputs": []
    },
    {
      "id": "14964866-be51-46a1-82b6-51a867dd41a1",
      "cell_type": "code",
      "metadata": {
        "jupyter": {
          "outputs_hidden": false,
          "source_hidden": false
        },
        "noteable": {
          "cell_type": "code",
          "output_collection_id": "fd5e2824-ae1b-4807-85ee-fbed45c5f38d"
        },
        "ExecuteTime": {
          "end_time": "2023-07-18T20:49:38.657987+00:00",
          "start_time": "2023-07-18T20:49:38.498035+00:00"
        }
      },
      "execution_count": null,
      "source": "unclean_df.shape",
      "outputs": []
    },
    {
      "id": "87357b88-46e0-482f-b689-31211fb3070a",
      "cell_type": "code",
      "metadata": {
        "jupyter": {
          "outputs_hidden": false,
          "source_hidden": false
        },
        "noteable": {
          "cell_type": "code",
          "output_collection_id": "346943c2-d488-4e3c-a2a4-a02c12bf6264"
        },
        "ExecuteTime": {
          "end_time": "2023-07-18T20:49:40.809766+00:00",
          "start_time": "2023-07-18T20:49:40.650099+00:00"
        }
      },
      "execution_count": null,
      "source": "unclean_df.reset_index(inplace=True)\nunclean_df.shape",
      "outputs": []
    },
    {
      "id": "b1410c72-3f05-4a63-ae94-b208cddbfc03",
      "cell_type": "code",
      "metadata": {
        "jupyter": {
          "outputs_hidden": false,
          "source_hidden": false
        },
        "noteable": {
          "cell_type": "code",
          "output_collection_id": "3ef1ba56-3663-4f20-a4e0-6b9daf5994c0"
        },
        "ExecuteTime": {
          "end_time": "2023-07-18T20:49:44.339960+00:00",
          "start_time": "2023-07-18T20:49:44.032455+00:00"
        },
        "datalink": {
          "b2ef382d-0457-4d28-a610-e94443bf5384": {
            "applied_filters": [],
            "dataframe_info": {
              "default_index_used": true,
              "orig_num_cols": 15,
              "orig_num_rows": 659,
              "orig_size_bytes": 84352,
              "truncated_num_cols": 15,
              "truncated_num_rows": 659,
              "truncated_size_bytes": 84352,
              "truncated_string_columns": [
                "Job Description"
              ]
            },
            "display_id": "b2ef382d-0457-4d28-a610-e94443bf5384",
            "dx_settings": {
              "ALLOW_NOTEABLE_ATTRS": true,
              "COLUMN_SAMPLING_METHOD": "outer",
              "DB_LOCATION": ":memory:",
              "DEV_MODE": false,
              "DISPLAY_MAX_COLUMNS": 100,
              "DISPLAY_MAX_ROWS": 50000,
              "DISPLAY_MODE": "simple",
              "ENABLE_ASSIGNMENT": true,
              "ENABLE_DATALINK": true,
              "FLATTEN_COLUMN_VALUES": true,
              "FLATTEN_INDEX_VALUES": false,
              "GENERATE_DEX_METADATA": false,
              "HTML_TABLE_SCHEMA": false,
              "LOG_LEVEL": 30,
              "MAX_RENDER_SIZE_BYTES": 104857600,
              "MAX_STRING_LENGTH": 250,
              "NUM_PAST_SAMPLES_TRACKED": 3,
              "RANDOM_STATE": 12648430,
              "RESET_INDEX_VALUES": false,
              "ROW_SAMPLING_METHOD": "random",
              "SAMPLING_FACTOR": 0.1,
              "SAMPLING_METHOD": "random",
              "STRINGIFY_COLUMN_VALUES": true,
              "STRINGIFY_INDEX_VALUES": false
            },
            "sample_history": [],
            "sampling_time": "2023-07-18T20:42:32.260681",
            "user_variable_name": "unclean_df",
            "variable_name": "unclean_df"
          },
          "1fff91c9-1368-4cf7-8b89-13c97e578022": {
            "applied_filters": [],
            "dataframe_info": {
              "default_index_used": true,
              "orig_num_cols": 15,
              "orig_num_rows": 659,
              "orig_size_bytes": 84352,
              "truncated_num_cols": 15,
              "truncated_num_rows": 659,
              "truncated_size_bytes": 84352,
              "truncated_string_columns": [
                "Job Description"
              ]
            },
            "display_id": "1fff91c9-1368-4cf7-8b89-13c97e578022",
            "dx_settings": {
              "ALLOW_NOTEABLE_ATTRS": true,
              "COLUMN_SAMPLING_METHOD": "outer",
              "DB_LOCATION": ":memory:",
              "DEV_MODE": false,
              "DISPLAY_MAX_COLUMNS": 100,
              "DISPLAY_MAX_ROWS": 50000,
              "DISPLAY_MODE": "simple",
              "ENABLE_ASSIGNMENT": true,
              "ENABLE_DATALINK": true,
              "FLATTEN_COLUMN_VALUES": true,
              "FLATTEN_INDEX_VALUES": false,
              "GENERATE_DEX_METADATA": false,
              "HTML_TABLE_SCHEMA": false,
              "LOG_LEVEL": 30,
              "MAX_RENDER_SIZE_BYTES": 104857600,
              "MAX_STRING_LENGTH": 250,
              "NUM_PAST_SAMPLES_TRACKED": 3,
              "RANDOM_STATE": 12648430,
              "RESET_INDEX_VALUES": false,
              "ROW_SAMPLING_METHOD": "random",
              "SAMPLING_FACTOR": 0.1,
              "SAMPLING_METHOD": "random",
              "STRINGIFY_COLUMN_VALUES": true,
              "STRINGIFY_INDEX_VALUES": false
            },
            "sample_history": [],
            "sampling_time": "2023-07-18T20:49:44.157023",
            "user_variable_name": "unclean_df",
            "variable_name": "unclean_df"
          }
        }
      },
      "execution_count": null,
      "source": "unclean_df",
      "outputs": []
    },
    {
      "id": "3e82cb24-cde5-4d04-9b6c-b9b59ccd68a2",
      "cell_type": "markdown",
      "source": "### Removing Number in Company Name columns",
      "metadata": {
        "noteable": {
          "cell_type": "markdown"
        }
      }
    },
    {
      "id": "9264c6de-7379-4db0-9c95-71d16b3da3e1",
      "cell_type": "code",
      "metadata": {
        "noteable": {
          "cell_type": "python",
          "output_collection_id": "1ba90247-b6be-4ffc-a563-0249b05c1a1f"
        },
        "ExecuteTime": {
          "end_time": "2023-07-18T20:51:42.356344+00:00",
          "start_time": "2023-07-18T20:51:42.197599+00:00"
        }
      },
      "execution_count": null,
      "source": "unclean_df['Company Name']=unclean_df['Company Name'].apply(lambda x:x.split(\"\\n\")[0])",
      "outputs": []
    },
    {
      "id": "5827ccf0-2308-42a1-a35b-82cceb6eca3b",
      "cell_type": "markdown",
      "source": "## Salary Estimate Column\n- Check Values in ('Salary Estimate').column\n- Create New columns (min salary,max salary,avg salary)\n- Remove Extra symbols And character in Values",
      "metadata": {
        "noteable": {
          "cell_type": "markdown"
        }
      }
    },
    {
      "id": "f9564f5c-f454-41c3-8c0a-5b194275484e",
      "cell_type": "code",
      "metadata": {
        "noteable": {
          "cell_type": "python",
          "output_collection_id": "604eb9ca-bd8f-45b8-b583-bafe2f15c7d5"
        },
        "ExecuteTime": {
          "end_time": "2023-07-18T21:07:43.459317+00:00",
          "start_time": "2023-07-18T21:07:43.268968+00:00"
        },
        "datalink": {
          "8806e994-1e21-41c4-b843-fb15ac437a3e": {
            "applied_filters": [],
            "dataframe_info": {
              "default_index_used": false,
              "orig_num_cols": 1,
              "orig_num_rows": 30,
              "orig_size_bytes": 480,
              "truncated_num_cols": 1,
              "truncated_num_rows": 30,
              "truncated_size_bytes": 480,
              "truncated_string_columns": []
            },
            "display_id": "8806e994-1e21-41c4-b843-fb15ac437a3e",
            "dx_settings": {
              "ALLOW_NOTEABLE_ATTRS": true,
              "COLUMN_SAMPLING_METHOD": "outer",
              "DB_LOCATION": ":memory:",
              "DEV_MODE": false,
              "DISPLAY_MAX_COLUMNS": 100,
              "DISPLAY_MAX_ROWS": 50000,
              "DISPLAY_MODE": "simple",
              "ENABLE_ASSIGNMENT": true,
              "ENABLE_DATALINK": true,
              "FLATTEN_COLUMN_VALUES": true,
              "FLATTEN_INDEX_VALUES": false,
              "GENERATE_DEX_METADATA": false,
              "HTML_TABLE_SCHEMA": false,
              "LOG_LEVEL": 30,
              "MAX_RENDER_SIZE_BYTES": 104857600,
              "MAX_STRING_LENGTH": 250,
              "NUM_PAST_SAMPLES_TRACKED": 3,
              "RANDOM_STATE": 12648430,
              "RESET_INDEX_VALUES": false,
              "ROW_SAMPLING_METHOD": "random",
              "SAMPLING_FACTOR": 0.1,
              "SAMPLING_METHOD": "random",
              "STRINGIFY_COLUMN_VALUES": true,
              "STRINGIFY_INDEX_VALUES": false
            },
            "sample_history": [],
            "sampling_time": "2023-07-18T21:07:43.303070",
            "user_variable_name": null,
            "variable_name": "unk_dataframe_ea0ff9bbea2f4cc6babca025c14c69a3"
          }
        }
      },
      "execution_count": null,
      "source": "unclean_df['Salary Estimate'].value_counts()",
      "outputs": []
    },
    {
      "id": "d54aa14c-4aa7-4195-b585-da9f93badc2b",
      "cell_type": "code",
      "metadata": {
        "noteable": {
          "cell_type": "code",
          "output_collection_id": "0c0c5dee-e269-4515-98a6-bf815b014445"
        },
        "ExecuteTime": {
          "end_time": "2023-07-18T21:15:39.553930+00:00",
          "start_time": "2023-07-18T21:15:38.792652+00:00"
        }
      },
      "execution_count": null,
      "source": "unclean_df['min_salary'] = 0\nunclean_df['max_salary'] = 0\nunclean_df['avg_salary'] = 0\nfor i in range(len(unclean_df)):\n    try:\n        unclean_df.loc[i, 'min_salary'] = int(unclean_df['Salary Estimate'][i].split(' ')[0].split('-')[0].replace('$', '').replace('K', ''))\n        unclean_df.loc[i, 'max_salary'] = int(unclean_df['Salary Estimate'][i].split(' ')[0].split('-')[1].replace('$', '').replace('K', ''))\n    except:\n        unclean_df.loc[i, 'min_salary'] = int(unclean_df['Salary Estimate'][i].split('(E')[0].split('-')[0].replace('$', '').replace('K', ''))\n        unclean_df.loc[i, 'max_salary'] = int(unclean_df['Salary Estimate'][i].split('(E')[0].split('-')[1].replace('$', '').replace('K', ''))\n    finally:\n        unclean_df.loc[i, 'Salary Estimate'] = str(unclean_df.loc[i, 'min_salary']) + '-' + str(unclean_df.loc[i, 'max_salary'])\n        unclean_df.loc[i, 'avg_salary'] = np.mean([unclean_df.loc[i, 'min_salary'], unclean_df.loc[i, 'max_salary']])",
      "outputs": []
    },
    {
      "id": "4e35b120-9072-4f7c-9ec6-aeb9b7790263",
      "cell_type": "code",
      "metadata": {
        "jupyter": {
          "outputs_hidden": false,
          "source_hidden": false
        },
        "noteable": {
          "cell_type": "code",
          "output_collection_id": "e82664d0-fb47-4e7c-a215-180ac4ead73f"
        },
        "ExecuteTime": {
          "end_time": "2023-07-18T21:16:11.071147+00:00",
          "start_time": "2023-07-18T21:16:10.811016+00:00"
        },
        "datalink": {
          "e9de32a8-8401-43ea-be26-17007d402087": {
            "applied_filters": [],
            "dataframe_info": {
              "default_index_used": true,
              "orig_num_cols": 18,
              "orig_num_rows": 5,
              "orig_size_bytes": 760,
              "truncated_num_cols": 18,
              "truncated_num_rows": 5,
              "truncated_size_bytes": 760,
              "truncated_string_columns": [
                "Job Description"
              ]
            },
            "display_id": "e9de32a8-8401-43ea-be26-17007d402087",
            "dx_settings": {
              "ALLOW_NOTEABLE_ATTRS": true,
              "COLUMN_SAMPLING_METHOD": "outer",
              "DB_LOCATION": ":memory:",
              "DEV_MODE": false,
              "DISPLAY_MAX_COLUMNS": 100,
              "DISPLAY_MAX_ROWS": 50000,
              "DISPLAY_MODE": "simple",
              "ENABLE_ASSIGNMENT": true,
              "ENABLE_DATALINK": true,
              "FLATTEN_COLUMN_VALUES": true,
              "FLATTEN_INDEX_VALUES": false,
              "GENERATE_DEX_METADATA": false,
              "HTML_TABLE_SCHEMA": false,
              "LOG_LEVEL": 30,
              "MAX_RENDER_SIZE_BYTES": 104857600,
              "MAX_STRING_LENGTH": 250,
              "NUM_PAST_SAMPLES_TRACKED": 3,
              "RANDOM_STATE": 12648430,
              "RESET_INDEX_VALUES": false,
              "ROW_SAMPLING_METHOD": "random",
              "SAMPLING_FACTOR": 0.1,
              "SAMPLING_METHOD": "random",
              "STRINGIFY_COLUMN_VALUES": true,
              "STRINGIFY_INDEX_VALUES": false
            },
            "sample_history": [],
            "sampling_time": "2023-07-18T21:16:10.910713",
            "user_variable_name": null,
            "variable_name": "unk_dataframe_0eb5a3dab0844ddda5de3eca25a21b77"
          }
        }
      },
      "execution_count": null,
      "source": "unclean_df.head()",
      "outputs": []
    },
    {
      "id": "dda5ec0c-2e2e-4d37-8eee-b316fe6e6c42",
      "cell_type": "markdown",
      "source": "### Exctract Data Job Description\n- Create New Columns Based on Skill required for Job (Python,Excel,Sql,Tableau,Sparx,mechine learing,Aws) If Job description Contain Those skill in column print '1' otherwise '0' will print",
      "metadata": {
        "noteable": {
          "cell_type": "markdown"
        }
      }
    },
    {
      "id": "fc49a053-8fdb-45b6-9dc5-4da74de1b6a6",
      "cell_type": "code",
      "metadata": {
        "noteable": {
          "cell_type": "python",
          "output_collection_id": "b2e1ce27-7335-43f8-ac8c-bac0782e8811"
        },
        "ExecuteTime": {
          "end_time": "2023-07-18T21:43:31.733641+00:00",
          "start_time": "2023-07-18T21:43:31.572272+00:00"
        }
      },
      "execution_count": null,
      "source": "unclean_df['Job Description'][0].split(\"\\n\\n\")",
      "outputs": []
    },
    {
      "id": "99ca18e4-5985-4996-95f6-6b36cd997dd7",
      "cell_type": "markdown",
      "source": "## Create New Binary Features\n- ",
      "metadata": {
        "noteable": {
          "cell_type": "markdown"
        }
      }
    },
    {
      "id": "fa9c64d9-d61f-4c43-b701-799fff4822b6",
      "cell_type": "code",
      "metadata": {
        "jupyter": {
          "outputs_hidden": false,
          "source_hidden": false
        },
        "noteable": {
          "cell_type": "code",
          "output_collection_id": "4948e102-974c-4bcc-9168-1f5e66838042"
        },
        "ExecuteTime": {
          "end_time": "2023-07-18T21:53:11.027830+00:00",
          "start_time": "2023-07-18T21:53:10.746716+00:00"
        }
      },
      "execution_count": null,
      "source": "unclean_df['python']=unclean_df['Job Description'].apply(lambda x: 1 if \"python\" in x.lower() else 0)\nunclean_df['excel']=unclean_df['Job Description'].apply(lambda x: 1 if \"excel\" in x.lower() else 0)\nunclean_df['Sql']=unclean_df['Job Description'].apply(lambda x: 1 if \"sql\" in x.lower() else 0)\nunclean_df['tableau']=unclean_df['Job Description'].apply(lambda x: 1 if \"tableau\" in x.lower() else 0)\nunclean_df['Sparx']=unclean_df['Job Description'].apply(lambda x: 1 if \"Sparx\" in x.lower() else 0)\nunclean_df['machine learing']=unclean_df['Job Description'].apply(lambda x: 1 if \"mechine learing\" in x.lower() else 0)\nunclean_df['aws']=unclean_df['Job Description'].apply(lambda x: 1 if \"aws\" in x.lower() else 0)",
      "outputs": []
    },
    {
      "id": "ee5f97c6-f668-48f3-aa80-36df31b317cc",
      "cell_type": "code",
      "metadata": {
        "jupyter": {
          "outputs_hidden": false,
          "source_hidden": false
        },
        "noteable": {
          "cell_type": "code",
          "output_collection_id": "f2ca2e70-4a01-4d12-9c64-810475e277d9"
        },
        "ExecuteTime": {
          "end_time": "2023-07-18T21:53:23.334817+00:00",
          "start_time": "2023-07-18T21:53:22.984016+00:00"
        },
        "datalink": {
          "14ce3902-4787-4527-b196-1d667eecf7db": {
            "applied_filters": [],
            "dataframe_info": {
              "default_index_used": true,
              "orig_num_cols": 25,
              "orig_num_rows": 659,
              "orig_size_bytes": 137072,
              "truncated_num_cols": 25,
              "truncated_num_rows": 659,
              "truncated_size_bytes": 137072,
              "truncated_string_columns": [
                "Job Description"
              ]
            },
            "display_id": "14ce3902-4787-4527-b196-1d667eecf7db",
            "dx_settings": {
              "ALLOW_NOTEABLE_ATTRS": true,
              "COLUMN_SAMPLING_METHOD": "outer",
              "DB_LOCATION": ":memory:",
              "DEV_MODE": false,
              "DISPLAY_MAX_COLUMNS": 100,
              "DISPLAY_MAX_ROWS": 50000,
              "DISPLAY_MODE": "simple",
              "ENABLE_ASSIGNMENT": true,
              "ENABLE_DATALINK": true,
              "FLATTEN_COLUMN_VALUES": true,
              "FLATTEN_INDEX_VALUES": false,
              "GENERATE_DEX_METADATA": false,
              "HTML_TABLE_SCHEMA": false,
              "LOG_LEVEL": 30,
              "MAX_RENDER_SIZE_BYTES": 104857600,
              "MAX_STRING_LENGTH": 250,
              "NUM_PAST_SAMPLES_TRACKED": 3,
              "RANDOM_STATE": 12648430,
              "RESET_INDEX_VALUES": false,
              "ROW_SAMPLING_METHOD": "random",
              "SAMPLING_FACTOR": 0.1,
              "SAMPLING_METHOD": "random",
              "STRINGIFY_COLUMN_VALUES": true,
              "STRINGIFY_INDEX_VALUES": false
            },
            "sample_history": [],
            "sampling_time": "2023-07-18T21:53:23.147437",
            "user_variable_name": "unclean_df",
            "variable_name": "unclean_df"
          }
        }
      },
      "execution_count": null,
      "source": "unclean_df",
      "outputs": []
    }
  ],
  "metadata": {
    "kernelspec": {
      "display_name": "Python 3 (ipykernel)",
      "language": "python",
      "name": "python3"
    },
    "language_info": {
      "codemirror_mode": {
        "name": "ipython",
        "version": 3
      },
      "file_extension": ".py",
      "mimetype": "text/x-python",
      "name": "python",
      "nbconvert_exporter": "python",
      "pygments_lexer": "ipython3",
      "version": "3.9.16"
    },
    "selected_hardware_size": "small",
    "noteable": {
      "last_transaction_id": "091af2c0-6973-4329-aa8f-cce135e6717a"
    }
  },
  "nbformat": 4,
  "nbformat_minor": 5
}
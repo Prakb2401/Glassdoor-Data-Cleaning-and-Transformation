{
  "cells": [
    {
      "cell_type": "code",
      "execution_count": 7,
      "id": "bdc02879",
      "metadata": {
        "noteable": {
          "output_collection_id": "8068b047-1397-4b07-af1f-161a727455b7"
        },
        "ExecuteTime": {
          "end_time": "2023-07-18T19:58:34.397160+00:00",
          "start_time": "2023-07-18T19:58:34.239186+00:00"
        }
      },
      "outputs": [],
      "source": [
        "import numpy as np\n",
        "import pandas as pd #for data processing\n",
        "import os\n",
        "import csv"
      ]
    },
    {
      "cell_type": "code",
      "execution_count": 16,
      "id": "25843b51",
      "metadata": {
        "noteable": {
          "output_collection_id": "0fc4c340-3e2c-4d5b-9138-8f987a40b882"
        },
        "ExecuteTime": {
          "end_time": "2023-07-18T19:59:57.640869+00:00",
          "start_time": "2023-07-18T19:59:57.343317+00:00"
        },
        "datalink": {
          "16f69847-5e7c-47d5-8fbc-e423d5206889": {
            "applied_filters": [],
            "dataframe_info": {
              "default_index_used": true,
              "orig_num_cols": 15,
              "orig_num_rows": 5,
              "orig_size_bytes": 640,
              "truncated_num_cols": 15,
              "truncated_num_rows": 5,
              "truncated_size_bytes": 640,
              "truncated_string_columns": [
                "Job Description"
              ]
            },
            "display_id": "16f69847-5e7c-47d5-8fbc-e423d5206889",
            "dx_settings": {
              "ALLOW_NOTEABLE_ATTRS": true,
              "COLUMN_SAMPLING_METHOD": "outer",
              "DB_LOCATION": ":memory:",
              "DEV_MODE": false,
              "DISPLAY_MAX_COLUMNS": 100,
              "DISPLAY_MAX_ROWS": 50000,
              "DISPLAY_MODE": "simple",
              "ENABLE_ASSIGNMENT": true,
              "ENABLE_DATALINK": true,
              "FLATTEN_COLUMN_VALUES": true,
              "FLATTEN_INDEX_VALUES": false,
              "GENERATE_DEX_METADATA": false,
              "HTML_TABLE_SCHEMA": false,
              "LOG_LEVEL": 30,
              "MAX_RENDER_SIZE_BYTES": 104857600,
              "MAX_STRING_LENGTH": 250,
              "NUM_PAST_SAMPLES_TRACKED": 3,
              "RANDOM_STATE": 12648430,
              "RESET_INDEX_VALUES": false,
              "ROW_SAMPLING_METHOD": "random",
              "SAMPLING_FACTOR": 0.1,
              "SAMPLING_METHOD": "random",
              "STRINGIFY_COLUMN_VALUES": true,
              "STRINGIFY_INDEX_VALUES": false
            },
            "sample_history": [],
            "sampling_time": "2023-07-18T19:59:57.480819",
            "user_variable_name": null,
            "variable_name": "unk_dataframe_5d9268d77adb4b5bab1ebc013a6b109a"
          }
        }
      },
      "outputs": [],
      "source": "unclean_data = pd.read_csv('Uncleaned_DS_jobs.csv')\nunclean_df = pd.DataFrame(unclean_data)\nunclean_df.head()"
    },
    {
      "cell_type": "code",
      "execution_count": null,
      "id": "d183d8eb",
      "metadata": {},
      "outputs": [],
      "source": []
    }
  ],
  "metadata": {
    "kernelspec": {
      "display_name": "Python 3 (ipykernel)",
      "language": "python",
      "name": "python3"
    },
    "language_info": {
      "codemirror_mode": {
        "name": "ipython",
        "version": 3
      },
      "file_extension": ".py",
      "mimetype": "text/x-python",
      "name": "python",
      "nbconvert_exporter": "python",
      "pygments_lexer": "ipython3",
      "version": "3.9.16"
    },
    "selected_hardware_size": "small",
    "noteable": {
      "last_transaction_id": "8140bd3c-0ff4-482a-918f-619e002effc1"
    }
  },
  "nbformat": 4,
  "nbformat_minor": 5
}
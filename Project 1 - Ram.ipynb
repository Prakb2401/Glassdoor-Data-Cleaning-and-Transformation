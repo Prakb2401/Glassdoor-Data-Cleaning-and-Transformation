{
  "cells": [
    {
      "cell_type": "code",
      "execution_count": 7,
      "id": "bdc02879",
      "metadata": {
        "noteable": {
          "output_collection_id": "24dd0d12-a8b1-4297-b5ba-0b601b4b2ae0"
        },
        "ExecuteTime": {
          "end_time": "2023-07-18T23:49:18.969899+00:00",
          "start_time": "2023-07-18T23:49:18.813374+00:00"
        }
      },
      "outputs": [],
      "source": [
        "import numpy as np\n",
        "import pandas as pd #for data processing\n",
        "import os\n",
        "import csv"
      ]
    },
    {
      "cell_type": "code",
      "execution_count": 16,
      "id": "25843b51",
      "metadata": {
        "noteable": {
          "output_collection_id": "00df5b8b-26d2-4bbd-9b44-d8b33ea39bc4"
        },
        "ExecuteTime": {
          "end_time": "2023-07-18T23:49:19.268615+00:00",
          "start_time": "2023-07-18T23:49:18.978432+00:00"
        },
        "datalink": {
          "16f69847-5e7c-47d5-8fbc-e423d5206889": {
            "applied_filters": [],
            "dataframe_info": {
              "default_index_used": true,
              "orig_num_cols": 15,
              "orig_num_rows": 5,
              "orig_size_bytes": 640,
              "truncated_num_cols": 15,
              "truncated_num_rows": 5,
              "truncated_size_bytes": 640,
              "truncated_string_columns": [
                "Job Description"
              ]
            },
            "display_id": "16f69847-5e7c-47d5-8fbc-e423d5206889",
            "dx_settings": {
              "ALLOW_NOTEABLE_ATTRS": true,
              "COLUMN_SAMPLING_METHOD": "outer",
              "DB_LOCATION": ":memory:",
              "DEV_MODE": false,
              "DISPLAY_MAX_COLUMNS": 100,
              "DISPLAY_MAX_ROWS": 50000,
              "DISPLAY_MODE": "simple",
              "ENABLE_ASSIGNMENT": true,
              "ENABLE_DATALINK": true,
              "FLATTEN_COLUMN_VALUES": true,
              "FLATTEN_INDEX_VALUES": false,
              "GENERATE_DEX_METADATA": false,
              "HTML_TABLE_SCHEMA": false,
              "LOG_LEVEL": 30,
              "MAX_RENDER_SIZE_BYTES": 104857600,
              "MAX_STRING_LENGTH": 250,
              "NUM_PAST_SAMPLES_TRACKED": 3,
              "RANDOM_STATE": 12648430,
              "RESET_INDEX_VALUES": false,
              "ROW_SAMPLING_METHOD": "random",
              "SAMPLING_FACTOR": 0.1,
              "SAMPLING_METHOD": "random",
              "STRINGIFY_COLUMN_VALUES": true,
              "STRINGIFY_INDEX_VALUES": false
            },
            "sample_history": [],
            "sampling_time": "2023-07-18T19:59:57.480819",
            "user_variable_name": null,
            "variable_name": "unk_dataframe_5d9268d77adb4b5bab1ebc013a6b109a"
          },
          "b5373171-f6bb-4882-87de-6e1f78642a19": {
            "applied_filters": [],
            "dataframe_info": {
              "default_index_used": true,
              "orig_num_cols": 15,
              "orig_num_rows": 5,
              "orig_size_bytes": 640,
              "truncated_num_cols": 15,
              "truncated_num_rows": 5,
              "truncated_size_bytes": 640,
              "truncated_string_columns": [
                "Job Description"
              ]
            },
            "display_id": "b5373171-f6bb-4882-87de-6e1f78642a19",
            "dx_settings": {
              "ALLOW_NOTEABLE_ATTRS": true,
              "COLUMN_SAMPLING_METHOD": "outer",
              "DB_LOCATION": ":memory:",
              "DEV_MODE": false,
              "DISPLAY_MAX_COLUMNS": 100,
              "DISPLAY_MAX_ROWS": 50000,
              "DISPLAY_MODE": "simple",
              "ENABLE_ASSIGNMENT": true,
              "ENABLE_DATALINK": true,
              "FLATTEN_COLUMN_VALUES": true,
              "FLATTEN_INDEX_VALUES": false,
              "GENERATE_DEX_METADATA": false,
              "HTML_TABLE_SCHEMA": false,
              "LOG_LEVEL": 30,
              "MAX_RENDER_SIZE_BYTES": 104857600,
              "MAX_STRING_LENGTH": 250,
              "NUM_PAST_SAMPLES_TRACKED": 3,
              "RANDOM_STATE": 12648430,
              "RESET_INDEX_VALUES": false,
              "ROW_SAMPLING_METHOD": "random",
              "SAMPLING_FACTOR": 0.1,
              "SAMPLING_METHOD": "random",
              "STRINGIFY_COLUMN_VALUES": true,
              "STRINGIFY_INDEX_VALUES": false
            },
            "sample_history": [],
            "sampling_time": "2023-07-18T20:16:10.071578",
            "user_variable_name": null,
            "variable_name": "unk_dataframe_dc0e22f510534b61ba646099883ff65a"
          },
          "fd643d69-5d99-4e67-96f0-b962fa4cdb25": {
            "applied_filters": [],
            "dataframe_info": {
              "default_index_used": true,
              "orig_num_cols": 15,
              "orig_num_rows": 5,
              "orig_size_bytes": 640,
              "truncated_num_cols": 15,
              "truncated_num_rows": 5,
              "truncated_size_bytes": 640,
              "truncated_string_columns": [
                "Job Description"
              ]
            },
            "display_id": "fd643d69-5d99-4e67-96f0-b962fa4cdb25",
            "dx_settings": {
              "ALLOW_NOTEABLE_ATTRS": true,
              "COLUMN_SAMPLING_METHOD": "outer",
              "DB_LOCATION": ":memory:",
              "DEV_MODE": false,
              "DISPLAY_MAX_COLUMNS": 100,
              "DISPLAY_MAX_ROWS": 50000,
              "DISPLAY_MODE": "simple",
              "ENABLE_ASSIGNMENT": true,
              "ENABLE_DATALINK": true,
              "FLATTEN_COLUMN_VALUES": true,
              "FLATTEN_INDEX_VALUES": false,
              "GENERATE_DEX_METADATA": false,
              "HTML_TABLE_SCHEMA": false,
              "LOG_LEVEL": 30,
              "MAX_RENDER_SIZE_BYTES": 104857600,
              "MAX_STRING_LENGTH": 250,
              "NUM_PAST_SAMPLES_TRACKED": 3,
              "RANDOM_STATE": 12648430,
              "RESET_INDEX_VALUES": false,
              "ROW_SAMPLING_METHOD": "random",
              "SAMPLING_FACTOR": 0.1,
              "SAMPLING_METHOD": "random",
              "STRINGIFY_COLUMN_VALUES": true,
              "STRINGIFY_INDEX_VALUES": false
            },
            "sample_history": [],
            "sampling_time": "2023-07-18T20:17:51.259585",
            "user_variable_name": null,
            "variable_name": "unk_dataframe_f1057371e1d64c2c954127619176ebc3"
          },
          "81c40468-a477-40f2-a2fb-8cbcb6db15b5": {
            "applied_filters": [],
            "dataframe_info": {
              "default_index_used": true,
              "orig_num_cols": 15,
              "orig_num_rows": 5,
              "orig_size_bytes": 640,
              "truncated_num_cols": 15,
              "truncated_num_rows": 5,
              "truncated_size_bytes": 640,
              "truncated_string_columns": [
                "Job Description"
              ]
            },
            "display_id": "81c40468-a477-40f2-a2fb-8cbcb6db15b5",
            "dx_settings": {
              "ALLOW_NOTEABLE_ATTRS": true,
              "COLUMN_SAMPLING_METHOD": "outer",
              "DB_LOCATION": ":memory:",
              "DEV_MODE": false,
              "DISPLAY_MAX_COLUMNS": 100,
              "DISPLAY_MAX_ROWS": 50000,
              "DISPLAY_MODE": "simple",
              "ENABLE_ASSIGNMENT": true,
              "ENABLE_DATALINK": true,
              "FLATTEN_COLUMN_VALUES": true,
              "FLATTEN_INDEX_VALUES": false,
              "GENERATE_DEX_METADATA": false,
              "HTML_TABLE_SCHEMA": false,
              "LOG_LEVEL": 30,
              "MAX_RENDER_SIZE_BYTES": 104857600,
              "MAX_STRING_LENGTH": 250,
              "NUM_PAST_SAMPLES_TRACKED": 3,
              "RANDOM_STATE": 12648430,
              "RESET_INDEX_VALUES": false,
              "ROW_SAMPLING_METHOD": "random",
              "SAMPLING_FACTOR": 0.1,
              "SAMPLING_METHOD": "random",
              "STRINGIFY_COLUMN_VALUES": true,
              "STRINGIFY_INDEX_VALUES": false
            },
            "sample_history": [],
            "sampling_time": "2023-07-18T20:49:16.710985",
            "user_variable_name": null,
            "variable_name": "unk_dataframe_21b02fd6a7f74f29a0f7dca4efd22c02"
          },
          "ec2351cd-86b1-4afa-8827-6af6070d4545": {
            "applied_filters": [],
            "dataframe_info": {
              "default_index_used": true,
              "orig_num_cols": 15,
              "orig_num_rows": 5,
              "orig_size_bytes": 640,
              "truncated_num_cols": 15,
              "truncated_num_rows": 5,
              "truncated_size_bytes": 640,
              "truncated_string_columns": [
                "Job Description"
              ]
            },
            "display_id": "ec2351cd-86b1-4afa-8827-6af6070d4545",
            "dx_settings": {
              "ALLOW_NOTEABLE_ATTRS": true,
              "COLUMN_SAMPLING_METHOD": "outer",
              "DB_LOCATION": ":memory:",
              "DEV_MODE": false,
              "DISPLAY_MAX_COLUMNS": 100,
              "DISPLAY_MAX_ROWS": 50000,
              "DISPLAY_MODE": "simple",
              "ENABLE_ASSIGNMENT": true,
              "ENABLE_DATALINK": true,
              "FLATTEN_COLUMN_VALUES": true,
              "FLATTEN_INDEX_VALUES": false,
              "GENERATE_DEX_METADATA": false,
              "HTML_TABLE_SCHEMA": false,
              "LOG_LEVEL": 30,
              "MAX_RENDER_SIZE_BYTES": 104857600,
              "MAX_STRING_LENGTH": 250,
              "NUM_PAST_SAMPLES_TRACKED": 3,
              "RANDOM_STATE": 12648430,
              "RESET_INDEX_VALUES": false,
              "ROW_SAMPLING_METHOD": "random",
              "SAMPLING_FACTOR": 0.1,
              "SAMPLING_METHOD": "random",
              "STRINGIFY_COLUMN_VALUES": true,
              "STRINGIFY_INDEX_VALUES": false
            },
            "sample_history": [],
            "sampling_time": "2023-07-18T22:05:07.967250",
            "user_variable_name": null,
            "variable_name": "unk_dataframe_8faa8e09fa97419dafe600b49c24e1fa"
          },
          "49cffd3f-17ca-46a4-a4fe-13643a40d7fd": {
            "applied_filters": [],
            "dataframe_info": {
              "default_index_used": true,
              "orig_num_cols": 15,
              "orig_num_rows": 5,
              "orig_size_bytes": 640,
              "truncated_num_cols": 15,
              "truncated_num_rows": 5,
              "truncated_size_bytes": 640,
              "truncated_string_columns": [
                "Job Description"
              ]
            },
            "display_id": "49cffd3f-17ca-46a4-a4fe-13643a40d7fd",
            "dx_settings": {
              "ALLOW_NOTEABLE_ATTRS": true,
              "COLUMN_SAMPLING_METHOD": "outer",
              "DB_LOCATION": ":memory:",
              "DEV_MODE": false,
              "DISPLAY_MAX_COLUMNS": 100,
              "DISPLAY_MAX_ROWS": 50000,
              "DISPLAY_MODE": "simple",
              "ENABLE_ASSIGNMENT": true,
              "ENABLE_DATALINK": true,
              "FLATTEN_COLUMN_VALUES": true,
              "FLATTEN_INDEX_VALUES": false,
              "GENERATE_DEX_METADATA": false,
              "HTML_TABLE_SCHEMA": false,
              "LOG_LEVEL": 30,
              "MAX_RENDER_SIZE_BYTES": 104857600,
              "MAX_STRING_LENGTH": 250,
              "NUM_PAST_SAMPLES_TRACKED": 3,
              "RANDOM_STATE": 12648430,
              "RESET_INDEX_VALUES": false,
              "ROW_SAMPLING_METHOD": "random",
              "SAMPLING_FACTOR": 0.1,
              "SAMPLING_METHOD": "random",
              "STRINGIFY_COLUMN_VALUES": true,
              "STRINGIFY_INDEX_VALUES": false
            },
            "sample_history": [],
            "sampling_time": "2023-07-18T22:05:15.765266",
            "user_variable_name": null,
            "variable_name": "unk_dataframe_7e85084f899a4c739f837aba35bdd0e8"
          },
          "947d36c3-749c-45c7-9eef-831b1744e4fb": {
            "applied_filters": [],
            "dataframe_info": {
              "default_index_used": true,
              "orig_num_cols": 15,
              "orig_num_rows": 5,
              "orig_size_bytes": 640,
              "truncated_num_cols": 15,
              "truncated_num_rows": 5,
              "truncated_size_bytes": 640,
              "truncated_string_columns": [
                "Job Description"
              ]
            },
            "display_id": "947d36c3-749c-45c7-9eef-831b1744e4fb",
            "dx_settings": {
              "ALLOW_NOTEABLE_ATTRS": true,
              "COLUMN_SAMPLING_METHOD": "outer",
              "DB_LOCATION": ":memory:",
              "DEV_MODE": false,
              "DISPLAY_MAX_COLUMNS": 100,
              "DISPLAY_MAX_ROWS": 50000,
              "DISPLAY_MODE": "simple",
              "ENABLE_ASSIGNMENT": true,
              "ENABLE_DATALINK": true,
              "FLATTEN_COLUMN_VALUES": true,
              "FLATTEN_INDEX_VALUES": false,
              "GENERATE_DEX_METADATA": false,
              "HTML_TABLE_SCHEMA": false,
              "LOG_LEVEL": 30,
              "MAX_RENDER_SIZE_BYTES": 104857600,
              "MAX_STRING_LENGTH": 250,
              "NUM_PAST_SAMPLES_TRACKED": 3,
              "RANDOM_STATE": 12648430,
              "RESET_INDEX_VALUES": false,
              "ROW_SAMPLING_METHOD": "random",
              "SAMPLING_FACTOR": 0.1,
              "SAMPLING_METHOD": "random",
              "STRINGIFY_COLUMN_VALUES": true,
              "STRINGIFY_INDEX_VALUES": false
            },
            "sample_history": [],
            "sampling_time": "2023-07-18T23:09:33.055440",
            "user_variable_name": null,
            "variable_name": "unk_dataframe_d0e339f3df6c49118606835ea171e2bf"
          },
          "f48a4660-826e-432f-b629-1aa026a772c0": {
            "applied_filters": [],
            "dataframe_info": {
              "default_index_used": true,
              "orig_num_cols": 15,
              "orig_num_rows": 5,
              "orig_size_bytes": 640,
              "truncated_num_cols": 15,
              "truncated_num_rows": 5,
              "truncated_size_bytes": 640,
              "truncated_string_columns": [
                "Job Description"
              ]
            },
            "display_id": "f48a4660-826e-432f-b629-1aa026a772c0",
            "dx_settings": {
              "ALLOW_NOTEABLE_ATTRS": true,
              "COLUMN_SAMPLING_METHOD": "outer",
              "DB_LOCATION": ":memory:",
              "DEV_MODE": false,
              "DISPLAY_MAX_COLUMNS": 100,
              "DISPLAY_MAX_ROWS": 50000,
              "DISPLAY_MODE": "simple",
              "ENABLE_ASSIGNMENT": true,
              "ENABLE_DATALINK": true,
              "FLATTEN_COLUMN_VALUES": true,
              "FLATTEN_INDEX_VALUES": false,
              "GENERATE_DEX_METADATA": false,
              "HTML_TABLE_SCHEMA": false,
              "LOG_LEVEL": 30,
              "MAX_RENDER_SIZE_BYTES": 104857600,
              "MAX_STRING_LENGTH": 250,
              "NUM_PAST_SAMPLES_TRACKED": 3,
              "RANDOM_STATE": 12648430,
              "RESET_INDEX_VALUES": false,
              "ROW_SAMPLING_METHOD": "random",
              "SAMPLING_FACTOR": 0.1,
              "SAMPLING_METHOD": "random",
              "STRINGIFY_COLUMN_VALUES": true,
              "STRINGIFY_INDEX_VALUES": false
            },
            "sample_history": [],
            "sampling_time": "2023-07-18T23:44:36.076964",
            "user_variable_name": null,
            "variable_name": "unk_dataframe_cda96710059f41a99dfd22bdf126615b"
          },
          "465c0103-676d-48e9-a6ad-53c8e1f79ebf": {
            "applied_filters": [],
            "dataframe_info": {
              "default_index_used": true,
              "orig_num_cols": 15,
              "orig_num_rows": 5,
              "orig_size_bytes": 640,
              "truncated_num_cols": 15,
              "truncated_num_rows": 5,
              "truncated_size_bytes": 640,
              "truncated_string_columns": [
                "Job Description"
              ]
            },
            "display_id": "465c0103-676d-48e9-a6ad-53c8e1f79ebf",
            "dx_settings": {
              "ALLOW_NOTEABLE_ATTRS": true,
              "COLUMN_SAMPLING_METHOD": "outer",
              "DB_LOCATION": ":memory:",
              "DEV_MODE": false,
              "DISPLAY_MAX_COLUMNS": 100,
              "DISPLAY_MAX_ROWS": 50000,
              "DISPLAY_MODE": "simple",
              "ENABLE_ASSIGNMENT": true,
              "ENABLE_DATALINK": true,
              "FLATTEN_COLUMN_VALUES": true,
              "FLATTEN_INDEX_VALUES": false,
              "GENERATE_DEX_METADATA": false,
              "HTML_TABLE_SCHEMA": false,
              "LOG_LEVEL": 30,
              "MAX_RENDER_SIZE_BYTES": 104857600,
              "MAX_STRING_LENGTH": 250,
              "NUM_PAST_SAMPLES_TRACKED": 3,
              "RANDOM_STATE": 12648430,
              "RESET_INDEX_VALUES": false,
              "ROW_SAMPLING_METHOD": "random",
              "SAMPLING_FACTOR": 0.1,
              "SAMPLING_METHOD": "random",
              "STRINGIFY_COLUMN_VALUES": true,
              "STRINGIFY_INDEX_VALUES": false
            },
            "sample_history": [],
            "sampling_time": "2023-07-18T23:49:19.108974",
            "user_variable_name": null,
            "variable_name": "unk_dataframe_9704c3cd68ed4b50a571bba2c0611be7"
          }
        },
        "dx": {
          "fieldMetadata": {},
          "simpleTable": false,
          "updated": 1689711482932,
          "views": []
        },
        "scrolled": false
      },
      "outputs": [],
      "source": "unclean_data = pd.read_csv('Uncleaned_DS_jobs.csv')\nunclean_df = pd.DataFrame(unclean_data)\nunclean_df.head()"
    },
    {
      "id": "49a77e08-8f89-41ad-a0f2-3c1258a0a4be",
      "cell_type": "code",
      "metadata": {
        "noteable": {
          "cell_type": "code",
          "output_collection_id": "faef33e1-604a-487b-98cb-050117fbdec8"
        },
        "ExecuteTime": {
          "end_time": "2023-07-18T23:49:19.475089+00:00",
          "start_time": "2023-07-18T23:49:19.277459+00:00"
        }
      },
      "execution_count": null,
      "source": "unclean_data = pd.read_csv('Uncleaned_DS_jobs.csv')\nunclean_df = pd.DataFrame(unclean_data)\nunclean_df.head()\nunclean_df.info()",
      "outputs": []
    },
    {
      "id": "140f4ce3-4be3-4032-b7ff-0e1d8055c1d5",
      "cell_type": "code",
      "metadata": {
        "jupyter": {
          "outputs_hidden": false,
          "source_hidden": false
        },
        "noteable": {
          "cell_type": "code",
          "output_collection_id": "5ff1300e-cf5b-4372-a380-3b6ce6e5bc80"
        },
        "ExecuteTime": {
          "end_time": "2023-07-18T23:49:19.680649+00:00",
          "start_time": "2023-07-18T23:49:19.483880+00:00"
        },
        "datalink": {
          "d42ff857-38ea-4219-a869-354699010ccb": {
            "applied_filters": [],
            "dataframe_info": {
              "default_index_used": false,
              "orig_num_cols": 1,
              "orig_num_rows": 15,
              "orig_size_bytes": 240,
              "truncated_num_cols": 1,
              "truncated_num_rows": 15,
              "truncated_size_bytes": 240,
              "truncated_string_columns": []
            },
            "display_id": "d42ff857-38ea-4219-a869-354699010ccb",
            "dx_settings": {
              "ALLOW_NOTEABLE_ATTRS": true,
              "COLUMN_SAMPLING_METHOD": "outer",
              "DB_LOCATION": ":memory:",
              "DEV_MODE": false,
              "DISPLAY_MAX_COLUMNS": 100,
              "DISPLAY_MAX_ROWS": 50000,
              "DISPLAY_MODE": "simple",
              "ENABLE_ASSIGNMENT": true,
              "ENABLE_DATALINK": true,
              "FLATTEN_COLUMN_VALUES": true,
              "FLATTEN_INDEX_VALUES": false,
              "GENERATE_DEX_METADATA": false,
              "HTML_TABLE_SCHEMA": false,
              "LOG_LEVEL": 30,
              "MAX_RENDER_SIZE_BYTES": 104857600,
              "MAX_STRING_LENGTH": 250,
              "NUM_PAST_SAMPLES_TRACKED": 3,
              "RANDOM_STATE": 12648430,
              "RESET_INDEX_VALUES": false,
              "ROW_SAMPLING_METHOD": "random",
              "SAMPLING_FACTOR": 0.1,
              "SAMPLING_METHOD": "random",
              "STRINGIFY_COLUMN_VALUES": true,
              "STRINGIFY_INDEX_VALUES": false
            },
            "sample_history": [],
            "sampling_time": "2023-07-18T20:09:20.598831",
            "user_variable_name": null,
            "variable_name": "unk_dataframe_30ee0ad1c26340708269ca048dcd9d73"
          },
          "eab1ecde-d3e6-4ab1-a022-b535befeda68": {
            "applied_filters": [],
            "dataframe_info": {
              "default_index_used": false,
              "orig_num_cols": 1,
              "orig_num_rows": 15,
              "orig_size_bytes": 240,
              "truncated_num_cols": 1,
              "truncated_num_rows": 15,
              "truncated_size_bytes": 240,
              "truncated_string_columns": []
            },
            "display_id": "eab1ecde-d3e6-4ab1-a022-b535befeda68",
            "dx_settings": {
              "ALLOW_NOTEABLE_ATTRS": true,
              "COLUMN_SAMPLING_METHOD": "outer",
              "DB_LOCATION": ":memory:",
              "DEV_MODE": false,
              "DISPLAY_MAX_COLUMNS": 100,
              "DISPLAY_MAX_ROWS": 50000,
              "DISPLAY_MODE": "simple",
              "ENABLE_ASSIGNMENT": true,
              "ENABLE_DATALINK": true,
              "FLATTEN_COLUMN_VALUES": true,
              "FLATTEN_INDEX_VALUES": false,
              "GENERATE_DEX_METADATA": false,
              "HTML_TABLE_SCHEMA": false,
              "LOG_LEVEL": 30,
              "MAX_RENDER_SIZE_BYTES": 104857600,
              "MAX_STRING_LENGTH": 250,
              "NUM_PAST_SAMPLES_TRACKED": 3,
              "RANDOM_STATE": 12648430,
              "RESET_INDEX_VALUES": false,
              "ROW_SAMPLING_METHOD": "random",
              "SAMPLING_FACTOR": 0.1,
              "SAMPLING_METHOD": "random",
              "STRINGIFY_COLUMN_VALUES": true,
              "STRINGIFY_INDEX_VALUES": false
            },
            "sample_history": [],
            "sampling_time": "2023-07-18T20:10:31.688091",
            "user_variable_name": null,
            "variable_name": "unk_dataframe_5e4df0fa950944289fd59cbc2ccdaee9"
          },
          "f8760eff-3e2d-44c5-96fa-33f19fc5726c": {
            "applied_filters": [],
            "dataframe_info": {
              "default_index_used": false,
              "orig_num_cols": 1,
              "orig_num_rows": 15,
              "orig_size_bytes": 240,
              "truncated_num_cols": 1,
              "truncated_num_rows": 15,
              "truncated_size_bytes": 240,
              "truncated_string_columns": []
            },
            "display_id": "f8760eff-3e2d-44c5-96fa-33f19fc5726c",
            "dx_settings": {
              "ALLOW_NOTEABLE_ATTRS": true,
              "COLUMN_SAMPLING_METHOD": "outer",
              "DB_LOCATION": ":memory:",
              "DEV_MODE": false,
              "DISPLAY_MAX_COLUMNS": 100,
              "DISPLAY_MAX_ROWS": 50000,
              "DISPLAY_MODE": "simple",
              "ENABLE_ASSIGNMENT": true,
              "ENABLE_DATALINK": true,
              "FLATTEN_COLUMN_VALUES": true,
              "FLATTEN_INDEX_VALUES": false,
              "GENERATE_DEX_METADATA": false,
              "HTML_TABLE_SCHEMA": false,
              "LOG_LEVEL": 30,
              "MAX_RENDER_SIZE_BYTES": 104857600,
              "MAX_STRING_LENGTH": 250,
              "NUM_PAST_SAMPLES_TRACKED": 3,
              "RANDOM_STATE": 12648430,
              "RESET_INDEX_VALUES": false,
              "ROW_SAMPLING_METHOD": "random",
              "SAMPLING_FACTOR": 0.1,
              "SAMPLING_METHOD": "random",
              "STRINGIFY_COLUMN_VALUES": true,
              "STRINGIFY_INDEX_VALUES": false
            },
            "sample_history": [],
            "sampling_time": "2023-07-18T20:16:24.862516",
            "user_variable_name": null,
            "variable_name": "unk_dataframe_b7b5911b8e754c4a95473182efd5b4d7"
          },
          "6402e673-ccbe-44d1-bd45-a6de8b2aa7d8": {
            "applied_filters": [],
            "dataframe_info": {
              "default_index_used": false,
              "orig_num_cols": 1,
              "orig_num_rows": 15,
              "orig_size_bytes": 240,
              "truncated_num_cols": 1,
              "truncated_num_rows": 15,
              "truncated_size_bytes": 240,
              "truncated_string_columns": []
            },
            "display_id": "6402e673-ccbe-44d1-bd45-a6de8b2aa7d8",
            "dx_settings": {
              "ALLOW_NOTEABLE_ATTRS": true,
              "COLUMN_SAMPLING_METHOD": "outer",
              "DB_LOCATION": ":memory:",
              "DEV_MODE": false,
              "DISPLAY_MAX_COLUMNS": 100,
              "DISPLAY_MAX_ROWS": 50000,
              "DISPLAY_MODE": "simple",
              "ENABLE_ASSIGNMENT": true,
              "ENABLE_DATALINK": true,
              "FLATTEN_COLUMN_VALUES": true,
              "FLATTEN_INDEX_VALUES": false,
              "GENERATE_DEX_METADATA": false,
              "HTML_TABLE_SCHEMA": false,
              "LOG_LEVEL": 30,
              "MAX_RENDER_SIZE_BYTES": 104857600,
              "MAX_STRING_LENGTH": 250,
              "NUM_PAST_SAMPLES_TRACKED": 3,
              "RANDOM_STATE": 12648430,
              "RESET_INDEX_VALUES": false,
              "ROW_SAMPLING_METHOD": "random",
              "SAMPLING_FACTOR": 0.1,
              "SAMPLING_METHOD": "random",
              "STRINGIFY_COLUMN_VALUES": true,
              "STRINGIFY_INDEX_VALUES": false
            },
            "sample_history": [],
            "sampling_time": "2023-07-18T20:18:11.588395",
            "user_variable_name": null,
            "variable_name": "unk_dataframe_b06f914d9c504d9485d965d7884806dd"
          },
          "21a069b5-20d2-4212-bb04-bd8ae02cef63": {
            "applied_filters": [],
            "dataframe_info": {
              "default_index_used": false,
              "orig_num_cols": 1,
              "orig_num_rows": 15,
              "orig_size_bytes": 240,
              "truncated_num_cols": 1,
              "truncated_num_rows": 15,
              "truncated_size_bytes": 240,
              "truncated_string_columns": []
            },
            "display_id": "21a069b5-20d2-4212-bb04-bd8ae02cef63",
            "dx_settings": {
              "ALLOW_NOTEABLE_ATTRS": true,
              "COLUMN_SAMPLING_METHOD": "outer",
              "DB_LOCATION": ":memory:",
              "DEV_MODE": false,
              "DISPLAY_MAX_COLUMNS": 100,
              "DISPLAY_MAX_ROWS": 50000,
              "DISPLAY_MODE": "simple",
              "ENABLE_ASSIGNMENT": true,
              "ENABLE_DATALINK": true,
              "FLATTEN_COLUMN_VALUES": true,
              "FLATTEN_INDEX_VALUES": false,
              "GENERATE_DEX_METADATA": false,
              "HTML_TABLE_SCHEMA": false,
              "LOG_LEVEL": 30,
              "MAX_RENDER_SIZE_BYTES": 104857600,
              "MAX_STRING_LENGTH": 250,
              "NUM_PAST_SAMPLES_TRACKED": 3,
              "RANDOM_STATE": 12648430,
              "RESET_INDEX_VALUES": false,
              "ROW_SAMPLING_METHOD": "random",
              "SAMPLING_FACTOR": 0.1,
              "SAMPLING_METHOD": "random",
              "STRINGIFY_COLUMN_VALUES": true,
              "STRINGIFY_INDEX_VALUES": false
            },
            "sample_history": [],
            "sampling_time": "2023-07-18T20:49:24.403363",
            "user_variable_name": null,
            "variable_name": "unk_dataframe_b3af0a158cad4fbbb8e7e1396b7c654c"
          },
          "328cef02-3b54-47a7-9172-4fa91b8bf1da": {
            "applied_filters": [],
            "dataframe_info": {
              "default_index_used": false,
              "orig_num_cols": 1,
              "orig_num_rows": 15,
              "orig_size_bytes": 240,
              "truncated_num_cols": 1,
              "truncated_num_rows": 15,
              "truncated_size_bytes": 240,
              "truncated_string_columns": []
            },
            "display_id": "328cef02-3b54-47a7-9172-4fa91b8bf1da",
            "dx_settings": {
              "ALLOW_NOTEABLE_ATTRS": true,
              "COLUMN_SAMPLING_METHOD": "outer",
              "DB_LOCATION": ":memory:",
              "DEV_MODE": false,
              "DISPLAY_MAX_COLUMNS": 100,
              "DISPLAY_MAX_ROWS": 50000,
              "DISPLAY_MODE": "simple",
              "ENABLE_ASSIGNMENT": true,
              "ENABLE_DATALINK": true,
              "FLATTEN_COLUMN_VALUES": true,
              "FLATTEN_INDEX_VALUES": false,
              "GENERATE_DEX_METADATA": false,
              "HTML_TABLE_SCHEMA": false,
              "LOG_LEVEL": 30,
              "MAX_RENDER_SIZE_BYTES": 104857600,
              "MAX_STRING_LENGTH": 250,
              "NUM_PAST_SAMPLES_TRACKED": 3,
              "RANDOM_STATE": 12648430,
              "RESET_INDEX_VALUES": false,
              "ROW_SAMPLING_METHOD": "random",
              "SAMPLING_FACTOR": 0.1,
              "SAMPLING_METHOD": "random",
              "STRINGIFY_COLUMN_VALUES": true,
              "STRINGIFY_INDEX_VALUES": false
            },
            "sample_history": [],
            "sampling_time": "2023-07-18T22:05:08.386931",
            "user_variable_name": null,
            "variable_name": "unk_dataframe_19f10356beec4d6f9d887e744e0493d5"
          },
          "e15cfc84-721a-40a3-b447-bd6239d25b96": {
            "applied_filters": [],
            "dataframe_info": {
              "default_index_used": false,
              "orig_num_cols": 1,
              "orig_num_rows": 15,
              "orig_size_bytes": 240,
              "truncated_num_cols": 1,
              "truncated_num_rows": 15,
              "truncated_size_bytes": 240,
              "truncated_string_columns": []
            },
            "display_id": "e15cfc84-721a-40a3-b447-bd6239d25b96",
            "dx_settings": {
              "ALLOW_NOTEABLE_ATTRS": true,
              "COLUMN_SAMPLING_METHOD": "outer",
              "DB_LOCATION": ":memory:",
              "DEV_MODE": false,
              "DISPLAY_MAX_COLUMNS": 100,
              "DISPLAY_MAX_ROWS": 50000,
              "DISPLAY_MODE": "simple",
              "ENABLE_ASSIGNMENT": true,
              "ENABLE_DATALINK": true,
              "FLATTEN_COLUMN_VALUES": true,
              "FLATTEN_INDEX_VALUES": false,
              "GENERATE_DEX_METADATA": false,
              "HTML_TABLE_SCHEMA": false,
              "LOG_LEVEL": 30,
              "MAX_RENDER_SIZE_BYTES": 104857600,
              "MAX_STRING_LENGTH": 250,
              "NUM_PAST_SAMPLES_TRACKED": 3,
              "RANDOM_STATE": 12648430,
              "RESET_INDEX_VALUES": false,
              "ROW_SAMPLING_METHOD": "random",
              "SAMPLING_FACTOR": 0.1,
              "SAMPLING_METHOD": "random",
              "STRINGIFY_COLUMN_VALUES": true,
              "STRINGIFY_INDEX_VALUES": false
            },
            "sample_history": [],
            "sampling_time": "2023-07-18T22:05:16.205912",
            "user_variable_name": null,
            "variable_name": "unk_dataframe_0386c4d8349540c8b9304c2bab5eb9b0"
          },
          "1c9aa8d3-24e0-4a78-9e46-dcf3f3789482": {
            "applied_filters": [],
            "dataframe_info": {
              "default_index_used": false,
              "orig_num_cols": 1,
              "orig_num_rows": 15,
              "orig_size_bytes": 240,
              "truncated_num_cols": 1,
              "truncated_num_rows": 15,
              "truncated_size_bytes": 240,
              "truncated_string_columns": []
            },
            "display_id": "1c9aa8d3-24e0-4a78-9e46-dcf3f3789482",
            "dx_settings": {
              "ALLOW_NOTEABLE_ATTRS": true,
              "COLUMN_SAMPLING_METHOD": "outer",
              "DB_LOCATION": ":memory:",
              "DEV_MODE": false,
              "DISPLAY_MAX_COLUMNS": 100,
              "DISPLAY_MAX_ROWS": 50000,
              "DISPLAY_MODE": "simple",
              "ENABLE_ASSIGNMENT": true,
              "ENABLE_DATALINK": true,
              "FLATTEN_COLUMN_VALUES": true,
              "FLATTEN_INDEX_VALUES": false,
              "GENERATE_DEX_METADATA": false,
              "HTML_TABLE_SCHEMA": false,
              "LOG_LEVEL": 30,
              "MAX_RENDER_SIZE_BYTES": 104857600,
              "MAX_STRING_LENGTH": 250,
              "NUM_PAST_SAMPLES_TRACKED": 3,
              "RANDOM_STATE": 12648430,
              "RESET_INDEX_VALUES": false,
              "ROW_SAMPLING_METHOD": "random",
              "SAMPLING_FACTOR": 0.1,
              "SAMPLING_METHOD": "random",
              "STRINGIFY_COLUMN_VALUES": true,
              "STRINGIFY_INDEX_VALUES": false
            },
            "sample_history": [],
            "sampling_time": "2023-07-18T23:09:33.488263",
            "user_variable_name": null,
            "variable_name": "unk_dataframe_31ef0728c72b4d688aa6f9ff4215084d"
          },
          "146f0ebf-f339-48ae-93e9-10da42734550": {
            "applied_filters": [],
            "dataframe_info": {
              "default_index_used": false,
              "orig_num_cols": 1,
              "orig_num_rows": 15,
              "orig_size_bytes": 240,
              "truncated_num_cols": 1,
              "truncated_num_rows": 15,
              "truncated_size_bytes": 240,
              "truncated_string_columns": []
            },
            "display_id": "146f0ebf-f339-48ae-93e9-10da42734550",
            "dx_settings": {
              "ALLOW_NOTEABLE_ATTRS": true,
              "COLUMN_SAMPLING_METHOD": "outer",
              "DB_LOCATION": ":memory:",
              "DEV_MODE": false,
              "DISPLAY_MAX_COLUMNS": 100,
              "DISPLAY_MAX_ROWS": 50000,
              "DISPLAY_MODE": "simple",
              "ENABLE_ASSIGNMENT": true,
              "ENABLE_DATALINK": true,
              "FLATTEN_COLUMN_VALUES": true,
              "FLATTEN_INDEX_VALUES": false,
              "GENERATE_DEX_METADATA": false,
              "HTML_TABLE_SCHEMA": false,
              "LOG_LEVEL": 30,
              "MAX_RENDER_SIZE_BYTES": 104857600,
              "MAX_STRING_LENGTH": 250,
              "NUM_PAST_SAMPLES_TRACKED": 3,
              "RANDOM_STATE": 12648430,
              "RESET_INDEX_VALUES": false,
              "ROW_SAMPLING_METHOD": "random",
              "SAMPLING_FACTOR": 0.1,
              "SAMPLING_METHOD": "random",
              "STRINGIFY_COLUMN_VALUES": true,
              "STRINGIFY_INDEX_VALUES": false
            },
            "sample_history": [],
            "sampling_time": "2023-07-18T23:44:36.496874",
            "user_variable_name": null,
            "variable_name": "unk_dataframe_8018117cd9d44af88956be8a088dc86d"
          },
          "1d6f553e-7322-40da-bda7-229c46cd7839": {
            "applied_filters": [],
            "dataframe_info": {
              "default_index_used": false,
              "orig_num_cols": 1,
              "orig_num_rows": 15,
              "orig_size_bytes": 240,
              "truncated_num_cols": 1,
              "truncated_num_rows": 15,
              "truncated_size_bytes": 240,
              "truncated_string_columns": []
            },
            "display_id": "1d6f553e-7322-40da-bda7-229c46cd7839",
            "dx_settings": {
              "ALLOW_NOTEABLE_ATTRS": true,
              "COLUMN_SAMPLING_METHOD": "outer",
              "DB_LOCATION": ":memory:",
              "DEV_MODE": false,
              "DISPLAY_MAX_COLUMNS": 100,
              "DISPLAY_MAX_ROWS": 50000,
              "DISPLAY_MODE": "simple",
              "ENABLE_ASSIGNMENT": true,
              "ENABLE_DATALINK": true,
              "FLATTEN_COLUMN_VALUES": true,
              "FLATTEN_INDEX_VALUES": false,
              "GENERATE_DEX_METADATA": false,
              "HTML_TABLE_SCHEMA": false,
              "LOG_LEVEL": 30,
              "MAX_RENDER_SIZE_BYTES": 104857600,
              "MAX_STRING_LENGTH": 250,
              "NUM_PAST_SAMPLES_TRACKED": 3,
              "RANDOM_STATE": 12648430,
              "RESET_INDEX_VALUES": false,
              "ROW_SAMPLING_METHOD": "random",
              "SAMPLING_FACTOR": 0.1,
              "SAMPLING_METHOD": "random",
              "STRINGIFY_COLUMN_VALUES": true,
              "STRINGIFY_INDEX_VALUES": false
            },
            "sample_history": [],
            "sampling_time": "2023-07-18T23:49:19.524819",
            "user_variable_name": null,
            "variable_name": "unk_dataframe_7ed6c4dd2e0e488bbf85c10797e4b319"
          }
        },
        "dx": {
          "fieldMetadata": {},
          "simpleTable": true,
          "simpleTableExpanded": false,
          "updated": 1689710964922,
          "views": []
        }
      },
      "execution_count": null,
      "source": "# check for null values\nunclean_df.isnull().sum()",
      "outputs": []
    },
    {
      "id": "e31bf01a-4538-4761-a6a8-5029562cf2ff",
      "cell_type": "code",
      "metadata": {
        "jupyter": {
          "outputs_hidden": false,
          "source_hidden": false
        },
        "noteable": {
          "cell_type": "code",
          "output_collection_id": "3c21d94a-8152-4c62-910f-2bf5d826a4f7"
        },
        "ExecuteTime": {
          "end_time": "2023-07-18T23:49:19.927026+00:00",
          "start_time": "2023-07-18T23:49:19.767870+00:00"
        }
      },
      "execution_count": null,
      "source": "unclean_df.drop('index',axis=1,inplace=True)\nunclean_df.shape",
      "outputs": []
    },
    {
      "id": "85f4f8e6-04b7-43ad-a631-ffcb4b16f9e4",
      "cell_type": "code",
      "metadata": {
        "noteable": {
          "cell_type": "code",
          "output_collection_id": "9c3c606f-7764-4cdc-a3dc-3d2a2c710628"
        },
        "ExecuteTime": {
          "end_time": "2023-07-18T23:49:20.243005+00:00",
          "start_time": "2023-07-18T23:49:19.964386+00:00"
        },
        "datalink": {
          "ee42736d-9639-42ca-8138-80ed5129674c": {
            "applied_filters": [],
            "dataframe_info": {
              "default_index_used": true,
              "orig_num_cols": 14,
              "orig_num_rows": 13,
              "orig_size_bytes": 1560,
              "truncated_num_cols": 14,
              "truncated_num_rows": 13,
              "truncated_size_bytes": 1560,
              "truncated_string_columns": [
                "Job Description"
              ]
            },
            "display_id": "ee42736d-9639-42ca-8138-80ed5129674c",
            "dx_settings": {
              "ALLOW_NOTEABLE_ATTRS": true,
              "COLUMN_SAMPLING_METHOD": "outer",
              "DB_LOCATION": ":memory:",
              "DEV_MODE": false,
              "DISPLAY_MAX_COLUMNS": 100,
              "DISPLAY_MAX_ROWS": 50000,
              "DISPLAY_MODE": "simple",
              "ENABLE_ASSIGNMENT": true,
              "ENABLE_DATALINK": true,
              "FLATTEN_COLUMN_VALUES": true,
              "FLATTEN_INDEX_VALUES": false,
              "GENERATE_DEX_METADATA": false,
              "HTML_TABLE_SCHEMA": false,
              "LOG_LEVEL": 30,
              "MAX_RENDER_SIZE_BYTES": 104857600,
              "MAX_STRING_LENGTH": 250,
              "NUM_PAST_SAMPLES_TRACKED": 3,
              "RANDOM_STATE": 12648430,
              "RESET_INDEX_VALUES": false,
              "ROW_SAMPLING_METHOD": "random",
              "SAMPLING_FACTOR": 0.1,
              "SAMPLING_METHOD": "random",
              "STRINGIFY_COLUMN_VALUES": true,
              "STRINGIFY_INDEX_VALUES": false
            },
            "sample_history": [],
            "sampling_time": "2023-07-18T20:18:31.400034",
            "user_variable_name": null,
            "variable_name": "unk_dataframe_f3f573f863d440d08f9b1704a8cb0c4c"
          },
          "aedd6026-3de4-4e59-83ea-8b12e6339f5d": {
            "applied_filters": [],
            "dataframe_info": {
              "default_index_used": true,
              "orig_num_cols": 14,
              "orig_num_rows": 13,
              "orig_size_bytes": 1560,
              "truncated_num_cols": 14,
              "truncated_num_rows": 13,
              "truncated_size_bytes": 1560,
              "truncated_string_columns": [
                "Job Description"
              ]
            },
            "display_id": "aedd6026-3de4-4e59-83ea-8b12e6339f5d",
            "dx_settings": {
              "ALLOW_NOTEABLE_ATTRS": true,
              "COLUMN_SAMPLING_METHOD": "outer",
              "DB_LOCATION": ":memory:",
              "DEV_MODE": false,
              "DISPLAY_MAX_COLUMNS": 100,
              "DISPLAY_MAX_ROWS": 50000,
              "DISPLAY_MODE": "simple",
              "ENABLE_ASSIGNMENT": true,
              "ENABLE_DATALINK": true,
              "FLATTEN_COLUMN_VALUES": true,
              "FLATTEN_INDEX_VALUES": false,
              "GENERATE_DEX_METADATA": false,
              "HTML_TABLE_SCHEMA": false,
              "LOG_LEVEL": 30,
              "MAX_RENDER_SIZE_BYTES": 104857600,
              "MAX_STRING_LENGTH": 250,
              "NUM_PAST_SAMPLES_TRACKED": 3,
              "RANDOM_STATE": 12648430,
              "RESET_INDEX_VALUES": false,
              "ROW_SAMPLING_METHOD": "random",
              "SAMPLING_FACTOR": 0.1,
              "SAMPLING_METHOD": "random",
              "STRINGIFY_COLUMN_VALUES": true,
              "STRINGIFY_INDEX_VALUES": false
            },
            "sample_history": [],
            "sampling_time": "2023-07-18T20:19:13.058155",
            "user_variable_name": null,
            "variable_name": "unk_dataframe_74bc472025094a04b18ca5229126b016"
          },
          "4c695686-b4ed-4ae0-9414-ebce7bd6e10d": {
            "applied_filters": [],
            "dataframe_info": {
              "default_index_used": true,
              "orig_num_cols": 14,
              "orig_num_rows": 13,
              "orig_size_bytes": 1560,
              "truncated_num_cols": 14,
              "truncated_num_rows": 13,
              "truncated_size_bytes": 1560,
              "truncated_string_columns": [
                "Job Description"
              ]
            },
            "display_id": "4c695686-b4ed-4ae0-9414-ebce7bd6e10d",
            "dx_settings": {
              "ALLOW_NOTEABLE_ATTRS": true,
              "COLUMN_SAMPLING_METHOD": "outer",
              "DB_LOCATION": ":memory:",
              "DEV_MODE": false,
              "DISPLAY_MAX_COLUMNS": 100,
              "DISPLAY_MAX_ROWS": 50000,
              "DISPLAY_MODE": "simple",
              "ENABLE_ASSIGNMENT": true,
              "ENABLE_DATALINK": true,
              "FLATTEN_COLUMN_VALUES": true,
              "FLATTEN_INDEX_VALUES": false,
              "GENERATE_DEX_METADATA": false,
              "HTML_TABLE_SCHEMA": false,
              "LOG_LEVEL": 30,
              "MAX_RENDER_SIZE_BYTES": 104857600,
              "MAX_STRING_LENGTH": 250,
              "NUM_PAST_SAMPLES_TRACKED": 3,
              "RANDOM_STATE": 12648430,
              "RESET_INDEX_VALUES": false,
              "ROW_SAMPLING_METHOD": "random",
              "SAMPLING_FACTOR": 0.1,
              "SAMPLING_METHOD": "random",
              "STRINGIFY_COLUMN_VALUES": true,
              "STRINGIFY_INDEX_VALUES": false
            },
            "sample_history": [],
            "sampling_time": "2023-07-18T20:49:31.748384",
            "user_variable_name": null,
            "variable_name": "unk_dataframe_d810cef9446d4975aa577fedea644a16"
          },
          "f35fc7d9-e1ed-4b10-a146-bca14802d06b": {
            "applied_filters": [],
            "dataframe_info": {
              "default_index_used": true,
              "orig_num_cols": 14,
              "orig_num_rows": 13,
              "orig_size_bytes": 1560,
              "truncated_num_cols": 14,
              "truncated_num_rows": 13,
              "truncated_size_bytes": 1560,
              "truncated_string_columns": [
                "Job Description"
              ]
            },
            "display_id": "f35fc7d9-e1ed-4b10-a146-bca14802d06b",
            "dx_settings": {
              "ALLOW_NOTEABLE_ATTRS": true,
              "COLUMN_SAMPLING_METHOD": "outer",
              "DB_LOCATION": ":memory:",
              "DEV_MODE": false,
              "DISPLAY_MAX_COLUMNS": 100,
              "DISPLAY_MAX_ROWS": 50000,
              "DISPLAY_MODE": "simple",
              "ENABLE_ASSIGNMENT": true,
              "ENABLE_DATALINK": true,
              "FLATTEN_COLUMN_VALUES": true,
              "FLATTEN_INDEX_VALUES": false,
              "GENERATE_DEX_METADATA": false,
              "HTML_TABLE_SCHEMA": false,
              "LOG_LEVEL": 30,
              "MAX_RENDER_SIZE_BYTES": 104857600,
              "MAX_STRING_LENGTH": 250,
              "NUM_PAST_SAMPLES_TRACKED": 3,
              "RANDOM_STATE": 12648430,
              "RESET_INDEX_VALUES": false,
              "ROW_SAMPLING_METHOD": "random",
              "SAMPLING_FACTOR": 0.1,
              "SAMPLING_METHOD": "random",
              "STRINGIFY_COLUMN_VALUES": true,
              "STRINGIFY_INDEX_VALUES": false
            },
            "sample_history": [],
            "sampling_time": "2023-07-18T22:05:08.830236",
            "user_variable_name": null,
            "variable_name": "unk_dataframe_63c93f0b113340c1babfac13c0dfd398"
          },
          "95083bb7-96af-421b-b0c2-8485685df66a": {
            "applied_filters": [],
            "dataframe_info": {
              "default_index_used": true,
              "orig_num_cols": 14,
              "orig_num_rows": 13,
              "orig_size_bytes": 1560,
              "truncated_num_cols": 14,
              "truncated_num_rows": 13,
              "truncated_size_bytes": 1560,
              "truncated_string_columns": [
                "Job Description"
              ]
            },
            "display_id": "95083bb7-96af-421b-b0c2-8485685df66a",
            "dx_settings": {
              "ALLOW_NOTEABLE_ATTRS": true,
              "COLUMN_SAMPLING_METHOD": "outer",
              "DB_LOCATION": ":memory:",
              "DEV_MODE": false,
              "DISPLAY_MAX_COLUMNS": 100,
              "DISPLAY_MAX_ROWS": 50000,
              "DISPLAY_MODE": "simple",
              "ENABLE_ASSIGNMENT": true,
              "ENABLE_DATALINK": true,
              "FLATTEN_COLUMN_VALUES": true,
              "FLATTEN_INDEX_VALUES": false,
              "GENERATE_DEX_METADATA": false,
              "HTML_TABLE_SCHEMA": false,
              "LOG_LEVEL": 30,
              "MAX_RENDER_SIZE_BYTES": 104857600,
              "MAX_STRING_LENGTH": 250,
              "NUM_PAST_SAMPLES_TRACKED": 3,
              "RANDOM_STATE": 12648430,
              "RESET_INDEX_VALUES": false,
              "ROW_SAMPLING_METHOD": "random",
              "SAMPLING_FACTOR": 0.1,
              "SAMPLING_METHOD": "random",
              "STRINGIFY_COLUMN_VALUES": true,
              "STRINGIFY_INDEX_VALUES": false
            },
            "sample_history": [],
            "sampling_time": "2023-07-18T22:05:16.845091",
            "user_variable_name": null,
            "variable_name": "unk_dataframe_2e470bfb0199431fbc7898de14df79fd"
          },
          "a1462217-eb6e-4490-af56-b2ebe3661142": {
            "applied_filters": [],
            "dataframe_info": {
              "default_index_used": true,
              "orig_num_cols": 14,
              "orig_num_rows": 13,
              "orig_size_bytes": 1560,
              "truncated_num_cols": 14,
              "truncated_num_rows": 13,
              "truncated_size_bytes": 1560,
              "truncated_string_columns": [
                "Job Description"
              ]
            },
            "display_id": "a1462217-eb6e-4490-af56-b2ebe3661142",
            "dx_settings": {
              "ALLOW_NOTEABLE_ATTRS": true,
              "COLUMN_SAMPLING_METHOD": "outer",
              "DB_LOCATION": ":memory:",
              "DEV_MODE": false,
              "DISPLAY_MAX_COLUMNS": 100,
              "DISPLAY_MAX_ROWS": 50000,
              "DISPLAY_MODE": "simple",
              "ENABLE_ASSIGNMENT": true,
              "ENABLE_DATALINK": true,
              "FLATTEN_COLUMN_VALUES": true,
              "FLATTEN_INDEX_VALUES": false,
              "GENERATE_DEX_METADATA": false,
              "HTML_TABLE_SCHEMA": false,
              "LOG_LEVEL": 30,
              "MAX_RENDER_SIZE_BYTES": 104857600,
              "MAX_STRING_LENGTH": 250,
              "NUM_PAST_SAMPLES_TRACKED": 3,
              "RANDOM_STATE": 12648430,
              "RESET_INDEX_VALUES": false,
              "ROW_SAMPLING_METHOD": "random",
              "SAMPLING_FACTOR": 0.1,
              "SAMPLING_METHOD": "random",
              "STRINGIFY_COLUMN_VALUES": true,
              "STRINGIFY_INDEX_VALUES": false
            },
            "sample_history": [],
            "sampling_time": "2023-07-18T23:09:34.004843",
            "user_variable_name": null,
            "variable_name": "unk_dataframe_9013d3e746ab48f68df94a491e719203"
          },
          "c09e0f30-ba6d-497e-b55d-f1bf9b1400e9": {
            "applied_filters": [],
            "dataframe_info": {
              "default_index_used": true,
              "orig_num_cols": 14,
              "orig_num_rows": 13,
              "orig_size_bytes": 1560,
              "truncated_num_cols": 14,
              "truncated_num_rows": 13,
              "truncated_size_bytes": 1560,
              "truncated_string_columns": [
                "Job Description"
              ]
            },
            "display_id": "c09e0f30-ba6d-497e-b55d-f1bf9b1400e9",
            "dx_settings": {
              "ALLOW_NOTEABLE_ATTRS": true,
              "COLUMN_SAMPLING_METHOD": "outer",
              "DB_LOCATION": ":memory:",
              "DEV_MODE": false,
              "DISPLAY_MAX_COLUMNS": 100,
              "DISPLAY_MAX_ROWS": 50000,
              "DISPLAY_MODE": "simple",
              "ENABLE_ASSIGNMENT": true,
              "ENABLE_DATALINK": true,
              "FLATTEN_COLUMN_VALUES": true,
              "FLATTEN_INDEX_VALUES": false,
              "GENERATE_DEX_METADATA": false,
              "HTML_TABLE_SCHEMA": false,
              "LOG_LEVEL": 30,
              "MAX_RENDER_SIZE_BYTES": 104857600,
              "MAX_STRING_LENGTH": 250,
              "NUM_PAST_SAMPLES_TRACKED": 3,
              "RANDOM_STATE": 12648430,
              "RESET_INDEX_VALUES": false,
              "ROW_SAMPLING_METHOD": "random",
              "SAMPLING_FACTOR": 0.1,
              "SAMPLING_METHOD": "random",
              "STRINGIFY_COLUMN_VALUES": true,
              "STRINGIFY_INDEX_VALUES": false
            },
            "sample_history": [],
            "sampling_time": "2023-07-18T23:44:39.148801",
            "user_variable_name": null,
            "variable_name": "unk_dataframe_1f6bcd95974d433188e531201706d983"
          },
          "9253032f-e2d4-43c7-8e5d-14d8f0c662eb": {
            "applied_filters": [],
            "dataframe_info": {
              "default_index_used": true,
              "orig_num_cols": 14,
              "orig_num_rows": 13,
              "orig_size_bytes": 1560,
              "truncated_num_cols": 14,
              "truncated_num_rows": 13,
              "truncated_size_bytes": 1560,
              "truncated_string_columns": [
                "Job Description"
              ]
            },
            "display_id": "9253032f-e2d4-43c7-8e5d-14d8f0c662eb",
            "dx_settings": {
              "ALLOW_NOTEABLE_ATTRS": true,
              "COLUMN_SAMPLING_METHOD": "outer",
              "DB_LOCATION": ":memory:",
              "DEV_MODE": false,
              "DISPLAY_MAX_COLUMNS": 100,
              "DISPLAY_MAX_ROWS": 50000,
              "DISPLAY_MODE": "simple",
              "ENABLE_ASSIGNMENT": true,
              "ENABLE_DATALINK": true,
              "FLATTEN_COLUMN_VALUES": true,
              "FLATTEN_INDEX_VALUES": false,
              "GENERATE_DEX_METADATA": false,
              "HTML_TABLE_SCHEMA": false,
              "LOG_LEVEL": 30,
              "MAX_RENDER_SIZE_BYTES": 104857600,
              "MAX_STRING_LENGTH": 250,
              "NUM_PAST_SAMPLES_TRACKED": 3,
              "RANDOM_STATE": 12648430,
              "RESET_INDEX_VALUES": false,
              "ROW_SAMPLING_METHOD": "random",
              "SAMPLING_FACTOR": 0.1,
              "SAMPLING_METHOD": "random",
              "STRINGIFY_COLUMN_VALUES": true,
              "STRINGIFY_INDEX_VALUES": false
            },
            "sample_history": [],
            "sampling_time": "2023-07-18T23:49:20.083150",
            "user_variable_name": null,
            "variable_name": "unk_dataframe_b0ed3f91369a400497b4153a4f0d00ae"
          }
        }
      },
      "execution_count": null,
      "source": "print(unclean_df[unclean_df.duplicated()].shape)\n\nunclean_df[unclean_df.duplicated()]",
      "outputs": []
    },
    {
      "id": "66fcb0e5-20bc-43b3-b52e-5e07a282eafe",
      "cell_type": "code",
      "metadata": {
        "jupyter": {
          "outputs_hidden": false,
          "source_hidden": false
        },
        "noteable": {
          "cell_type": "code",
          "output_collection_id": "f2c18ef8-6a2c-493e-a5bf-45b8f09f0f53"
        },
        "ExecuteTime": {
          "end_time": "2023-07-18T23:49:20.481506+00:00",
          "start_time": "2023-07-18T23:49:20.316625+00:00"
        }
      },
      "execution_count": null,
      "source": "unclean_df.drop_duplicates(inplace=True)",
      "outputs": []
    },
    {
      "id": "14964866-be51-46a1-82b6-51a867dd41a1",
      "cell_type": "code",
      "metadata": {
        "jupyter": {
          "outputs_hidden": false,
          "source_hidden": false
        },
        "noteable": {
          "cell_type": "code",
          "output_collection_id": "a1683cb1-ece5-4b2e-90e2-69a9c0aa4eff"
        },
        "ExecuteTime": {
          "end_time": "2023-07-18T23:49:20.648462+00:00",
          "start_time": "2023-07-18T23:49:20.490298+00:00"
        }
      },
      "execution_count": null,
      "source": "unclean_df.shape",
      "outputs": []
    },
    {
      "id": "87357b88-46e0-482f-b689-31211fb3070a",
      "cell_type": "code",
      "metadata": {
        "jupyter": {
          "outputs_hidden": false,
          "source_hidden": false
        },
        "noteable": {
          "cell_type": "code",
          "output_collection_id": "0369da94-ac65-4257-9a38-c64c48bfe40a"
        },
        "ExecuteTime": {
          "end_time": "2023-07-18T23:49:20.816065+00:00",
          "start_time": "2023-07-18T23:49:20.657172+00:00"
        }
      },
      "execution_count": null,
      "source": "unclean_df.reset_index(inplace=True)\nunclean_df.shape",
      "outputs": []
    },
    {
      "id": "b1410c72-3f05-4a63-ae94-b208cddbfc03",
      "cell_type": "code",
      "metadata": {
        "jupyter": {
          "outputs_hidden": false,
          "source_hidden": false
        },
        "noteable": {
          "cell_type": "code",
          "output_collection_id": "0557fda6-a321-41ce-8a96-ebd8c59d4a4e"
        },
        "ExecuteTime": {
          "end_time": "2023-07-18T23:49:21.141532+00:00",
          "start_time": "2023-07-18T23:49:20.822716+00:00"
        },
        "datalink": {
          "b2ef382d-0457-4d28-a610-e94443bf5384": {
            "applied_filters": [],
            "dataframe_info": {
              "default_index_used": true,
              "orig_num_cols": 15,
              "orig_num_rows": 659,
              "orig_size_bytes": 84352,
              "truncated_num_cols": 15,
              "truncated_num_rows": 659,
              "truncated_size_bytes": 84352,
              "truncated_string_columns": [
                "Job Description"
              ]
            },
            "display_id": "b2ef382d-0457-4d28-a610-e94443bf5384",
            "dx_settings": {
              "ALLOW_NOTEABLE_ATTRS": true,
              "COLUMN_SAMPLING_METHOD": "outer",
              "DB_LOCATION": ":memory:",
              "DEV_MODE": false,
              "DISPLAY_MAX_COLUMNS": 100,
              "DISPLAY_MAX_ROWS": 50000,
              "DISPLAY_MODE": "simple",
              "ENABLE_ASSIGNMENT": true,
              "ENABLE_DATALINK": true,
              "FLATTEN_COLUMN_VALUES": true,
              "FLATTEN_INDEX_VALUES": false,
              "GENERATE_DEX_METADATA": false,
              "HTML_TABLE_SCHEMA": false,
              "LOG_LEVEL": 30,
              "MAX_RENDER_SIZE_BYTES": 104857600,
              "MAX_STRING_LENGTH": 250,
              "NUM_PAST_SAMPLES_TRACKED": 3,
              "RANDOM_STATE": 12648430,
              "RESET_INDEX_VALUES": false,
              "ROW_SAMPLING_METHOD": "random",
              "SAMPLING_FACTOR": 0.1,
              "SAMPLING_METHOD": "random",
              "STRINGIFY_COLUMN_VALUES": true,
              "STRINGIFY_INDEX_VALUES": false
            },
            "sample_history": [],
            "sampling_time": "2023-07-18T20:42:32.260681",
            "user_variable_name": "unclean_df",
            "variable_name": "unclean_df"
          },
          "1fff91c9-1368-4cf7-8b89-13c97e578022": {
            "applied_filters": [],
            "dataframe_info": {
              "default_index_used": true,
              "orig_num_cols": 15,
              "orig_num_rows": 659,
              "orig_size_bytes": 84352,
              "truncated_num_cols": 15,
              "truncated_num_rows": 659,
              "truncated_size_bytes": 84352,
              "truncated_string_columns": [
                "Job Description"
              ]
            },
            "display_id": "1fff91c9-1368-4cf7-8b89-13c97e578022",
            "dx_settings": {
              "ALLOW_NOTEABLE_ATTRS": true,
              "COLUMN_SAMPLING_METHOD": "outer",
              "DB_LOCATION": ":memory:",
              "DEV_MODE": false,
              "DISPLAY_MAX_COLUMNS": 100,
              "DISPLAY_MAX_ROWS": 50000,
              "DISPLAY_MODE": "simple",
              "ENABLE_ASSIGNMENT": true,
              "ENABLE_DATALINK": true,
              "FLATTEN_COLUMN_VALUES": true,
              "FLATTEN_INDEX_VALUES": false,
              "GENERATE_DEX_METADATA": false,
              "HTML_TABLE_SCHEMA": false,
              "LOG_LEVEL": 30,
              "MAX_RENDER_SIZE_BYTES": 104857600,
              "MAX_STRING_LENGTH": 250,
              "NUM_PAST_SAMPLES_TRACKED": 3,
              "RANDOM_STATE": 12648430,
              "RESET_INDEX_VALUES": false,
              "ROW_SAMPLING_METHOD": "random",
              "SAMPLING_FACTOR": 0.1,
              "SAMPLING_METHOD": "random",
              "STRINGIFY_COLUMN_VALUES": true,
              "STRINGIFY_INDEX_VALUES": false
            },
            "sample_history": [],
            "sampling_time": "2023-07-18T20:49:44.157023",
            "user_variable_name": "unclean_df",
            "variable_name": "unclean_df"
          },
          "8c46849f-fb97-483f-943c-88c4cfcf4b32": {
            "applied_filters": [],
            "dataframe_info": {
              "default_index_used": true,
              "orig_num_cols": 15,
              "orig_num_rows": 659,
              "orig_size_bytes": 84352,
              "truncated_num_cols": 15,
              "truncated_num_rows": 659,
              "truncated_size_bytes": 84352,
              "truncated_string_columns": [
                "Job Description"
              ]
            },
            "display_id": "8c46849f-fb97-483f-943c-88c4cfcf4b32",
            "dx_settings": {
              "ALLOW_NOTEABLE_ATTRS": true,
              "COLUMN_SAMPLING_METHOD": "outer",
              "DB_LOCATION": ":memory:",
              "DEV_MODE": false,
              "DISPLAY_MAX_COLUMNS": 100,
              "DISPLAY_MAX_ROWS": 50000,
              "DISPLAY_MODE": "simple",
              "ENABLE_ASSIGNMENT": true,
              "ENABLE_DATALINK": true,
              "FLATTEN_COLUMN_VALUES": true,
              "FLATTEN_INDEX_VALUES": false,
              "GENERATE_DEX_METADATA": false,
              "HTML_TABLE_SCHEMA": false,
              "LOG_LEVEL": 30,
              "MAX_RENDER_SIZE_BYTES": 104857600,
              "MAX_STRING_LENGTH": 250,
              "NUM_PAST_SAMPLES_TRACKED": 3,
              "RANDOM_STATE": 12648430,
              "RESET_INDEX_VALUES": false,
              "ROW_SAMPLING_METHOD": "random",
              "SAMPLING_FACTOR": 0.1,
              "SAMPLING_METHOD": "random",
              "STRINGIFY_COLUMN_VALUES": true,
              "STRINGIFY_INDEX_VALUES": false
            },
            "sample_history": [],
            "sampling_time": "2023-07-18T22:05:11.772629",
            "user_variable_name": "unclean_df",
            "variable_name": "unclean_df"
          },
          "0f4391e3-ce1f-41ab-ab4c-2914d690ab7b": {
            "applied_filters": [],
            "dataframe_info": {
              "default_index_used": true,
              "orig_num_cols": 15,
              "orig_num_rows": 659,
              "orig_size_bytes": 84352,
              "truncated_num_cols": 15,
              "truncated_num_rows": 659,
              "truncated_size_bytes": 84352,
              "truncated_string_columns": [
                "Job Description"
              ]
            },
            "display_id": "0f4391e3-ce1f-41ab-ab4c-2914d690ab7b",
            "dx_settings": {
              "ALLOW_NOTEABLE_ATTRS": true,
              "COLUMN_SAMPLING_METHOD": "outer",
              "DB_LOCATION": ":memory:",
              "DEV_MODE": false,
              "DISPLAY_MAX_COLUMNS": 100,
              "DISPLAY_MAX_ROWS": 50000,
              "DISPLAY_MODE": "simple",
              "ENABLE_ASSIGNMENT": true,
              "ENABLE_DATALINK": true,
              "FLATTEN_COLUMN_VALUES": true,
              "FLATTEN_INDEX_VALUES": false,
              "GENERATE_DEX_METADATA": false,
              "HTML_TABLE_SCHEMA": false,
              "LOG_LEVEL": 30,
              "MAX_RENDER_SIZE_BYTES": 104857600,
              "MAX_STRING_LENGTH": 250,
              "NUM_PAST_SAMPLES_TRACKED": 3,
              "RANDOM_STATE": 12648430,
              "RESET_INDEX_VALUES": false,
              "ROW_SAMPLING_METHOD": "random",
              "SAMPLING_FACTOR": 0.1,
              "SAMPLING_METHOD": "random",
              "STRINGIFY_COLUMN_VALUES": true,
              "STRINGIFY_INDEX_VALUES": false
            },
            "sample_history": [],
            "sampling_time": "2023-07-18T22:05:17.750656",
            "user_variable_name": "unclean_df",
            "variable_name": "unclean_df"
          },
          "cc1c47b1-db58-4212-b68b-8d58a04b2f6a": {
            "applied_filters": [],
            "dataframe_info": {
              "default_index_used": true,
              "orig_num_cols": 15,
              "orig_num_rows": 659,
              "orig_size_bytes": 84352,
              "truncated_num_cols": 15,
              "truncated_num_rows": 659,
              "truncated_size_bytes": 84352,
              "truncated_string_columns": [
                "Job Description"
              ]
            },
            "display_id": "cc1c47b1-db58-4212-b68b-8d58a04b2f6a",
            "dx_settings": {
              "ALLOW_NOTEABLE_ATTRS": true,
              "COLUMN_SAMPLING_METHOD": "outer",
              "DB_LOCATION": ":memory:",
              "DEV_MODE": false,
              "DISPLAY_MAX_COLUMNS": 100,
              "DISPLAY_MAX_ROWS": 50000,
              "DISPLAY_MODE": "simple",
              "ENABLE_ASSIGNMENT": true,
              "ENABLE_DATALINK": true,
              "FLATTEN_COLUMN_VALUES": true,
              "FLATTEN_INDEX_VALUES": false,
              "GENERATE_DEX_METADATA": false,
              "HTML_TABLE_SCHEMA": false,
              "LOG_LEVEL": 30,
              "MAX_RENDER_SIZE_BYTES": 104857600,
              "MAX_STRING_LENGTH": 250,
              "NUM_PAST_SAMPLES_TRACKED": 3,
              "RANDOM_STATE": 12648430,
              "RESET_INDEX_VALUES": false,
              "ROW_SAMPLING_METHOD": "random",
              "SAMPLING_FACTOR": 0.1,
              "SAMPLING_METHOD": "random",
              "STRINGIFY_COLUMN_VALUES": true,
              "STRINGIFY_INDEX_VALUES": false
            },
            "sample_history": [],
            "sampling_time": "2023-07-18T23:09:37.083878",
            "user_variable_name": "unclean_df",
            "variable_name": "unclean_df"
          },
          "f5d64464-159b-48de-afa3-ad34604c0b4d": {
            "applied_filters": [],
            "dataframe_info": {
              "default_index_used": true,
              "orig_num_cols": 15,
              "orig_num_rows": 659,
              "orig_size_bytes": 84352,
              "truncated_num_cols": 15,
              "truncated_num_rows": 659,
              "truncated_size_bytes": 84352,
              "truncated_string_columns": [
                "Job Description"
              ]
            },
            "display_id": "f5d64464-159b-48de-afa3-ad34604c0b4d",
            "dx_settings": {
              "ALLOW_NOTEABLE_ATTRS": true,
              "COLUMN_SAMPLING_METHOD": "outer",
              "DB_LOCATION": ":memory:",
              "DEV_MODE": false,
              "DISPLAY_MAX_COLUMNS": 100,
              "DISPLAY_MAX_ROWS": 50000,
              "DISPLAY_MODE": "simple",
              "ENABLE_ASSIGNMENT": true,
              "ENABLE_DATALINK": true,
              "FLATTEN_COLUMN_VALUES": true,
              "FLATTEN_INDEX_VALUES": false,
              "GENERATE_DEX_METADATA": false,
              "HTML_TABLE_SCHEMA": false,
              "LOG_LEVEL": 30,
              "MAX_RENDER_SIZE_BYTES": 104857600,
              "MAX_STRING_LENGTH": 250,
              "NUM_PAST_SAMPLES_TRACKED": 3,
              "RANDOM_STATE": 12648430,
              "RESET_INDEX_VALUES": false,
              "ROW_SAMPLING_METHOD": "random",
              "SAMPLING_FACTOR": 0.1,
              "SAMPLING_METHOD": "random",
              "STRINGIFY_COLUMN_VALUES": true,
              "STRINGIFY_INDEX_VALUES": false
            },
            "sample_history": [],
            "sampling_time": "2023-07-18T23:44:42.111974",
            "user_variable_name": "unclean_df",
            "variable_name": "unclean_df"
          },
          "f9f65386-77a4-4d6e-b956-e0c9e629d463": {
            "applied_filters": [],
            "dataframe_info": {
              "default_index_used": true,
              "orig_num_cols": 15,
              "orig_num_rows": 659,
              "orig_size_bytes": 84352,
              "truncated_num_cols": 15,
              "truncated_num_rows": 659,
              "truncated_size_bytes": 84352,
              "truncated_string_columns": [
                "Job Description"
              ]
            },
            "display_id": "f9f65386-77a4-4d6e-b956-e0c9e629d463",
            "dx_settings": {
              "ALLOW_NOTEABLE_ATTRS": true,
              "COLUMN_SAMPLING_METHOD": "outer",
              "DB_LOCATION": ":memory:",
              "DEV_MODE": false,
              "DISPLAY_MAX_COLUMNS": 100,
              "DISPLAY_MAX_ROWS": 50000,
              "DISPLAY_MODE": "simple",
              "ENABLE_ASSIGNMENT": true,
              "ENABLE_DATALINK": true,
              "FLATTEN_COLUMN_VALUES": true,
              "FLATTEN_INDEX_VALUES": false,
              "GENERATE_DEX_METADATA": false,
              "HTML_TABLE_SCHEMA": false,
              "LOG_LEVEL": 30,
              "MAX_RENDER_SIZE_BYTES": 104857600,
              "MAX_STRING_LENGTH": 250,
              "NUM_PAST_SAMPLES_TRACKED": 3,
              "RANDOM_STATE": 12648430,
              "RESET_INDEX_VALUES": false,
              "ROW_SAMPLING_METHOD": "random",
              "SAMPLING_FACTOR": 0.1,
              "SAMPLING_METHOD": "random",
              "STRINGIFY_COLUMN_VALUES": true,
              "STRINGIFY_INDEX_VALUES": false
            },
            "sample_history": [],
            "sampling_time": "2023-07-18T23:49:20.959281",
            "user_variable_name": "unclean_df",
            "variable_name": "unclean_df"
          }
        }
      },
      "execution_count": null,
      "source": "unclean_df",
      "outputs": []
    },
    {
      "id": "3e82cb24-cde5-4d04-9b6c-b9b59ccd68a2",
      "cell_type": "markdown",
      "source": "## Removing Number in Company Name columns",
      "metadata": {
        "noteable": {
          "cell_type": "markdown"
        }
      }
    },
    {
      "id": "9264c6de-7379-4db0-9c95-71d16b3da3e1",
      "cell_type": "code",
      "metadata": {
        "noteable": {
          "cell_type": "python",
          "output_collection_id": "01e75ca3-afdd-4b1e-a014-3dc7c700c6f2"
        },
        "ExecuteTime": {
          "end_time": "2023-07-18T23:49:21.789799+00:00",
          "start_time": "2023-07-18T23:49:21.631354+00:00"
        }
      },
      "execution_count": null,
      "source": "unclean_df['Company Name']=unclean_df['Company Name'].apply(lambda x:x.split(\"\\n\")[0])",
      "outputs": []
    },
    {
      "id": "5827ccf0-2308-42a1-a35b-82cceb6eca3b",
      "cell_type": "markdown",
      "source": "## Convert Salary Estimate Column into Intergers\n- Check values in ('Salary Estimate').column\n- Create new columns (min salary, max salary, avg salary)\n- Remove extra symbols and character in 'Salary Estimate' column",
      "metadata": {
        "noteable": {
          "cell_type": "markdown"
        }
      }
    },
    {
      "id": "f9564f5c-f454-41c3-8c0a-5b194275484e",
      "cell_type": "code",
      "metadata": {
        "noteable": {
          "cell_type": "python",
          "output_collection_id": "55c6e446-8953-4735-84ae-2ec69c9e9c5f"
        },
        "ExecuteTime": {
          "end_time": "2023-07-18T23:49:22.037870+00:00",
          "start_time": "2023-07-18T23:49:21.833124+00:00"
        },
        "datalink": {
          "8806e994-1e21-41c4-b843-fb15ac437a3e": {
            "applied_filters": [],
            "dataframe_info": {
              "default_index_used": false,
              "orig_num_cols": 1,
              "orig_num_rows": 30,
              "orig_size_bytes": 480,
              "truncated_num_cols": 1,
              "truncated_num_rows": 30,
              "truncated_size_bytes": 480,
              "truncated_string_columns": []
            },
            "display_id": "8806e994-1e21-41c4-b843-fb15ac437a3e",
            "dx_settings": {
              "ALLOW_NOTEABLE_ATTRS": true,
              "COLUMN_SAMPLING_METHOD": "outer",
              "DB_LOCATION": ":memory:",
              "DEV_MODE": false,
              "DISPLAY_MAX_COLUMNS": 100,
              "DISPLAY_MAX_ROWS": 50000,
              "DISPLAY_MODE": "simple",
              "ENABLE_ASSIGNMENT": true,
              "ENABLE_DATALINK": true,
              "FLATTEN_COLUMN_VALUES": true,
              "FLATTEN_INDEX_VALUES": false,
              "GENERATE_DEX_METADATA": false,
              "HTML_TABLE_SCHEMA": false,
              "LOG_LEVEL": 30,
              "MAX_RENDER_SIZE_BYTES": 104857600,
              "MAX_STRING_LENGTH": 250,
              "NUM_PAST_SAMPLES_TRACKED": 3,
              "RANDOM_STATE": 12648430,
              "RESET_INDEX_VALUES": false,
              "ROW_SAMPLING_METHOD": "random",
              "SAMPLING_FACTOR": 0.1,
              "SAMPLING_METHOD": "random",
              "STRINGIFY_COLUMN_VALUES": true,
              "STRINGIFY_INDEX_VALUES": false
            },
            "sample_history": [],
            "sampling_time": "2023-07-18T21:07:43.303070",
            "user_variable_name": null,
            "variable_name": "unk_dataframe_ea0ff9bbea2f4cc6babca025c14c69a3"
          },
          "674ff286-172b-4c74-a3cc-cbe97c796638": {
            "applied_filters": [],
            "dataframe_info": {
              "default_index_used": false,
              "orig_num_cols": 1,
              "orig_num_rows": 30,
              "orig_size_bytes": 480,
              "truncated_num_cols": 1,
              "truncated_num_rows": 30,
              "truncated_size_bytes": 480,
              "truncated_string_columns": []
            },
            "display_id": "674ff286-172b-4c74-a3cc-cbe97c796638",
            "dx_settings": {
              "ALLOW_NOTEABLE_ATTRS": true,
              "COLUMN_SAMPLING_METHOD": "outer",
              "DB_LOCATION": ":memory:",
              "DEV_MODE": false,
              "DISPLAY_MAX_COLUMNS": 100,
              "DISPLAY_MAX_ROWS": 50000,
              "DISPLAY_MODE": "simple",
              "ENABLE_ASSIGNMENT": true,
              "ENABLE_DATALINK": true,
              "FLATTEN_COLUMN_VALUES": true,
              "FLATTEN_INDEX_VALUES": false,
              "GENERATE_DEX_METADATA": false,
              "HTML_TABLE_SCHEMA": false,
              "LOG_LEVEL": 30,
              "MAX_RENDER_SIZE_BYTES": 104857600,
              "MAX_STRING_LENGTH": 250,
              "NUM_PAST_SAMPLES_TRACKED": 3,
              "RANDOM_STATE": 12648430,
              "RESET_INDEX_VALUES": false,
              "ROW_SAMPLING_METHOD": "random",
              "SAMPLING_FACTOR": 0.1,
              "SAMPLING_METHOD": "random",
              "STRINGIFY_COLUMN_VALUES": true,
              "STRINGIFY_INDEX_VALUES": false
            },
            "sample_history": [],
            "sampling_time": "2023-07-18T22:05:12.673391",
            "user_variable_name": null,
            "variable_name": "unk_dataframe_9df3eec7ddd9474e9eef036d00834890"
          },
          "fd21d584-9fc2-46a3-bdc2-3c2a809248b1": {
            "applied_filters": [],
            "dataframe_info": {
              "default_index_used": false,
              "orig_num_cols": 1,
              "orig_num_rows": 30,
              "orig_size_bytes": 480,
              "truncated_num_cols": 1,
              "truncated_num_rows": 30,
              "truncated_size_bytes": 480,
              "truncated_string_columns": []
            },
            "display_id": "fd21d584-9fc2-46a3-bdc2-3c2a809248b1",
            "dx_settings": {
              "ALLOW_NOTEABLE_ATTRS": true,
              "COLUMN_SAMPLING_METHOD": "outer",
              "DB_LOCATION": ":memory:",
              "DEV_MODE": false,
              "DISPLAY_MAX_COLUMNS": 100,
              "DISPLAY_MAX_ROWS": 50000,
              "DISPLAY_MODE": "simple",
              "ENABLE_ASSIGNMENT": true,
              "ENABLE_DATALINK": true,
              "FLATTEN_COLUMN_VALUES": true,
              "FLATTEN_INDEX_VALUES": false,
              "GENERATE_DEX_METADATA": false,
              "HTML_TABLE_SCHEMA": false,
              "LOG_LEVEL": 30,
              "MAX_RENDER_SIZE_BYTES": 104857600,
              "MAX_STRING_LENGTH": 250,
              "NUM_PAST_SAMPLES_TRACKED": 3,
              "RANDOM_STATE": 12648430,
              "RESET_INDEX_VALUES": false,
              "ROW_SAMPLING_METHOD": "random",
              "SAMPLING_FACTOR": 0.1,
              "SAMPLING_METHOD": "random",
              "STRINGIFY_COLUMN_VALUES": true,
              "STRINGIFY_INDEX_VALUES": false
            },
            "sample_history": [],
            "sampling_time": "2023-07-18T22:05:18.659242",
            "user_variable_name": null,
            "variable_name": "unk_dataframe_248d810f382d43439045bd0dbb92a371"
          },
          "d48edd9a-4bab-4f44-9042-438ddb7ac373": {
            "applied_filters": [],
            "dataframe_info": {
              "default_index_used": false,
              "orig_num_cols": 1,
              "orig_num_rows": 30,
              "orig_size_bytes": 480,
              "truncated_num_cols": 1,
              "truncated_num_rows": 30,
              "truncated_size_bytes": 480,
              "truncated_string_columns": []
            },
            "display_id": "d48edd9a-4bab-4f44-9042-438ddb7ac373",
            "dx_settings": {
              "ALLOW_NOTEABLE_ATTRS": true,
              "COLUMN_SAMPLING_METHOD": "outer",
              "DB_LOCATION": ":memory:",
              "DEV_MODE": false,
              "DISPLAY_MAX_COLUMNS": 100,
              "DISPLAY_MAX_ROWS": 50000,
              "DISPLAY_MODE": "simple",
              "ENABLE_ASSIGNMENT": true,
              "ENABLE_DATALINK": true,
              "FLATTEN_COLUMN_VALUES": true,
              "FLATTEN_INDEX_VALUES": false,
              "GENERATE_DEX_METADATA": false,
              "HTML_TABLE_SCHEMA": false,
              "LOG_LEVEL": 30,
              "MAX_RENDER_SIZE_BYTES": 104857600,
              "MAX_STRING_LENGTH": 250,
              "NUM_PAST_SAMPLES_TRACKED": 3,
              "RANDOM_STATE": 12648430,
              "RESET_INDEX_VALUES": false,
              "ROW_SAMPLING_METHOD": "random",
              "SAMPLING_FACTOR": 0.1,
              "SAMPLING_METHOD": "random",
              "STRINGIFY_COLUMN_VALUES": true,
              "STRINGIFY_INDEX_VALUES": false
            },
            "sample_history": [],
            "sampling_time": "2023-07-18T23:09:38.087815",
            "user_variable_name": null,
            "variable_name": "unk_dataframe_7c380a68b1a1471ea5d92f84027ad288"
          },
          "2cddc17d-63a1-463d-800b-f756e88557d3": {
            "applied_filters": [],
            "dataframe_info": {
              "default_index_used": false,
              "orig_num_cols": 1,
              "orig_num_rows": 30,
              "orig_size_bytes": 480,
              "truncated_num_cols": 1,
              "truncated_num_rows": 30,
              "truncated_size_bytes": 480,
              "truncated_string_columns": []
            },
            "display_id": "2cddc17d-63a1-463d-800b-f756e88557d3",
            "dx_settings": {
              "ALLOW_NOTEABLE_ATTRS": true,
              "COLUMN_SAMPLING_METHOD": "outer",
              "DB_LOCATION": ":memory:",
              "DEV_MODE": false,
              "DISPLAY_MAX_COLUMNS": 100,
              "DISPLAY_MAX_ROWS": 50000,
              "DISPLAY_MODE": "simple",
              "ENABLE_ASSIGNMENT": true,
              "ENABLE_DATALINK": true,
              "FLATTEN_COLUMN_VALUES": true,
              "FLATTEN_INDEX_VALUES": false,
              "GENERATE_DEX_METADATA": false,
              "HTML_TABLE_SCHEMA": false,
              "LOG_LEVEL": 30,
              "MAX_RENDER_SIZE_BYTES": 104857600,
              "MAX_STRING_LENGTH": 250,
              "NUM_PAST_SAMPLES_TRACKED": 3,
              "RANDOM_STATE": 12648430,
              "RESET_INDEX_VALUES": false,
              "ROW_SAMPLING_METHOD": "random",
              "SAMPLING_FACTOR": 0.1,
              "SAMPLING_METHOD": "random",
              "STRINGIFY_COLUMN_VALUES": true,
              "STRINGIFY_INDEX_VALUES": false
            },
            "sample_history": [],
            "sampling_time": "2023-07-18T23:44:42.868264",
            "user_variable_name": null,
            "variable_name": "unk_dataframe_396f312c85d04069875b6983fae77676"
          },
          "4c908ea0-78d9-42f0-a3cd-1a6f59ccd23f": {
            "applied_filters": [],
            "dataframe_info": {
              "default_index_used": false,
              "orig_num_cols": 1,
              "orig_num_rows": 30,
              "orig_size_bytes": 480,
              "truncated_num_cols": 1,
              "truncated_num_rows": 30,
              "truncated_size_bytes": 480,
              "truncated_string_columns": []
            },
            "display_id": "4c908ea0-78d9-42f0-a3cd-1a6f59ccd23f",
            "dx_settings": {
              "ALLOW_NOTEABLE_ATTRS": true,
              "COLUMN_SAMPLING_METHOD": "outer",
              "DB_LOCATION": ":memory:",
              "DEV_MODE": false,
              "DISPLAY_MAX_COLUMNS": 100,
              "DISPLAY_MAX_ROWS": 50000,
              "DISPLAY_MODE": "simple",
              "ENABLE_ASSIGNMENT": true,
              "ENABLE_DATALINK": true,
              "FLATTEN_COLUMN_VALUES": true,
              "FLATTEN_INDEX_VALUES": false,
              "GENERATE_DEX_METADATA": false,
              "HTML_TABLE_SCHEMA": false,
              "LOG_LEVEL": 30,
              "MAX_RENDER_SIZE_BYTES": 104857600,
              "MAX_STRING_LENGTH": 250,
              "NUM_PAST_SAMPLES_TRACKED": 3,
              "RANDOM_STATE": 12648430,
              "RESET_INDEX_VALUES": false,
              "ROW_SAMPLING_METHOD": "random",
              "SAMPLING_FACTOR": 0.1,
              "SAMPLING_METHOD": "random",
              "STRINGIFY_COLUMN_VALUES": true,
              "STRINGIFY_INDEX_VALUES": false
            },
            "sample_history": [],
            "sampling_time": "2023-07-18T23:49:21.881317",
            "user_variable_name": null,
            "variable_name": "unk_dataframe_d119d34172ad47d78ad71dbb924bbd88"
          }
        }
      },
      "execution_count": null,
      "source": "unclean_df['Salary Estimate'].value_counts()",
      "outputs": []
    },
    {
      "id": "d54aa14c-4aa7-4195-b585-da9f93badc2b",
      "cell_type": "code",
      "metadata": {
        "noteable": {
          "cell_type": "code",
          "output_collection_id": "f2fbec5d-40ae-41e8-a597-1ab3d2a4ea87"
        },
        "ExecuteTime": {
          "end_time": "2023-07-18T23:49:22.770023+00:00",
          "start_time": "2023-07-18T23:49:22.046324+00:00"
        }
      },
      "execution_count": null,
      "source": "unclean_df['min_salary'] = 0\nunclean_df['max_salary'] = 0\nunclean_df['avg_salary'] = 0\nfor i in range(len(unclean_df)):\n    try:\n        unclean_df.loc[i, 'min_salary'] = int(unclean_df['Salary Estimate'][i].split(' ')[0].split('-')[0].replace('$', '').replace('K', ''))\n        unclean_df.loc[i, 'max_salary'] = int(unclean_df['Salary Estimate'][i].split(' ')[0].split('-')[1].replace('$', '').replace('K', ''))\n    except:\n        unclean_df.loc[i, 'min_salary'] = int(unclean_df['Salary Estimate'][i].split('(E')[0].split('-')[0].replace('$', '').replace('K', ''))\n        unclean_df.loc[i, 'max_salary'] = int(unclean_df['Salary Estimate'][i].split('(E')[0].split('-')[1].replace('$', '').replace('K', ''))\n    finally:\n        unclean_df.loc[i, 'Salary Estimate'] = str(unclean_df.loc[i, 'min_salary']) + '-' + str(unclean_df.loc[i, 'max_salary'])\n        unclean_df.loc[i, 'avg_salary'] = np.mean([unclean_df.loc[i, 'min_salary'], unclean_df.loc[i, 'max_salary']])",
      "outputs": []
    },
    {
      "id": "4e35b120-9072-4f7c-9ec6-aeb9b7790263",
      "cell_type": "code",
      "metadata": {
        "jupyter": {
          "outputs_hidden": false,
          "source_hidden": false
        },
        "noteable": {
          "cell_type": "code",
          "output_collection_id": "2889a7b4-084a-4c54-9903-0d20d09c8b77"
        },
        "ExecuteTime": {
          "end_time": "2023-07-18T23:49:23.237606+00:00",
          "start_time": "2023-07-18T23:49:22.961773+00:00"
        },
        "datalink": {
          "e9de32a8-8401-43ea-be26-17007d402087": {
            "applied_filters": [],
            "dataframe_info": {
              "default_index_used": true,
              "orig_num_cols": 18,
              "orig_num_rows": 5,
              "orig_size_bytes": 760,
              "truncated_num_cols": 18,
              "truncated_num_rows": 5,
              "truncated_size_bytes": 760,
              "truncated_string_columns": [
                "Job Description"
              ]
            },
            "display_id": "e9de32a8-8401-43ea-be26-17007d402087",
            "dx_settings": {
              "ALLOW_NOTEABLE_ATTRS": true,
              "COLUMN_SAMPLING_METHOD": "outer",
              "DB_LOCATION": ":memory:",
              "DEV_MODE": false,
              "DISPLAY_MAX_COLUMNS": 100,
              "DISPLAY_MAX_ROWS": 50000,
              "DISPLAY_MODE": "simple",
              "ENABLE_ASSIGNMENT": true,
              "ENABLE_DATALINK": true,
              "FLATTEN_COLUMN_VALUES": true,
              "FLATTEN_INDEX_VALUES": false,
              "GENERATE_DEX_METADATA": false,
              "HTML_TABLE_SCHEMA": false,
              "LOG_LEVEL": 30,
              "MAX_RENDER_SIZE_BYTES": 104857600,
              "MAX_STRING_LENGTH": 250,
              "NUM_PAST_SAMPLES_TRACKED": 3,
              "RANDOM_STATE": 12648430,
              "RESET_INDEX_VALUES": false,
              "ROW_SAMPLING_METHOD": "random",
              "SAMPLING_FACTOR": 0.1,
              "SAMPLING_METHOD": "random",
              "STRINGIFY_COLUMN_VALUES": true,
              "STRINGIFY_INDEX_VALUES": false
            },
            "sample_history": [],
            "sampling_time": "2023-07-18T21:16:10.910713",
            "user_variable_name": null,
            "variable_name": "unk_dataframe_0eb5a3dab0844ddda5de3eca25a21b77"
          },
          "b75ae121-189f-406b-b155-c4253374e534": {
            "applied_filters": [],
            "dataframe_info": {
              "default_index_used": true,
              "orig_num_cols": 18,
              "orig_num_rows": 5,
              "orig_size_bytes": 760,
              "truncated_num_cols": 18,
              "truncated_num_rows": 5,
              "truncated_size_bytes": 760,
              "truncated_string_columns": [
                "Job Description"
              ]
            },
            "display_id": "b75ae121-189f-406b-b155-c4253374e534",
            "dx_settings": {
              "ALLOW_NOTEABLE_ATTRS": true,
              "COLUMN_SAMPLING_METHOD": "outer",
              "DB_LOCATION": ":memory:",
              "DEV_MODE": false,
              "DISPLAY_MAX_COLUMNS": 100,
              "DISPLAY_MAX_ROWS": 50000,
              "DISPLAY_MODE": "simple",
              "ENABLE_ASSIGNMENT": true,
              "ENABLE_DATALINK": true,
              "FLATTEN_COLUMN_VALUES": true,
              "FLATTEN_INDEX_VALUES": false,
              "GENERATE_DEX_METADATA": false,
              "HTML_TABLE_SCHEMA": false,
              "LOG_LEVEL": 30,
              "MAX_RENDER_SIZE_BYTES": 104857600,
              "MAX_STRING_LENGTH": 250,
              "NUM_PAST_SAMPLES_TRACKED": 3,
              "RANDOM_STATE": 12648430,
              "RESET_INDEX_VALUES": false,
              "ROW_SAMPLING_METHOD": "random",
              "SAMPLING_FACTOR": 0.1,
              "SAMPLING_METHOD": "random",
              "STRINGIFY_COLUMN_VALUES": true,
              "STRINGIFY_INDEX_VALUES": false
            },
            "sample_history": [],
            "sampling_time": "2023-07-18T22:05:13.778090",
            "user_variable_name": null,
            "variable_name": "unk_dataframe_68b9e6ea3e8d4c14b48f6a32da89fcf2"
          },
          "8b7893fd-3a1d-4a0d-8e29-149265723ccb": {
            "applied_filters": [],
            "dataframe_info": {
              "default_index_used": true,
              "orig_num_cols": 18,
              "orig_num_rows": 5,
              "orig_size_bytes": 760,
              "truncated_num_cols": 18,
              "truncated_num_rows": 5,
              "truncated_size_bytes": 760,
              "truncated_string_columns": [
                "Job Description"
              ]
            },
            "display_id": "8b7893fd-3a1d-4a0d-8e29-149265723ccb",
            "dx_settings": {
              "ALLOW_NOTEABLE_ATTRS": true,
              "COLUMN_SAMPLING_METHOD": "outer",
              "DB_LOCATION": ":memory:",
              "DEV_MODE": false,
              "DISPLAY_MAX_COLUMNS": 100,
              "DISPLAY_MAX_ROWS": 50000,
              "DISPLAY_MODE": "simple",
              "ENABLE_ASSIGNMENT": true,
              "ENABLE_DATALINK": true,
              "FLATTEN_COLUMN_VALUES": true,
              "FLATTEN_INDEX_VALUES": false,
              "GENERATE_DEX_METADATA": false,
              "HTML_TABLE_SCHEMA": false,
              "LOG_LEVEL": 30,
              "MAX_RENDER_SIZE_BYTES": 104857600,
              "MAX_STRING_LENGTH": 250,
              "NUM_PAST_SAMPLES_TRACKED": 3,
              "RANDOM_STATE": 12648430,
              "RESET_INDEX_VALUES": false,
              "ROW_SAMPLING_METHOD": "random",
              "SAMPLING_FACTOR": 0.1,
              "SAMPLING_METHOD": "random",
              "STRINGIFY_COLUMN_VALUES": true,
              "STRINGIFY_INDEX_VALUES": false
            },
            "sample_history": [],
            "sampling_time": "2023-07-18T22:05:19.826096",
            "user_variable_name": null,
            "variable_name": "unk_dataframe_83e08f032c204647b6f5959a008792c4"
          },
          "259fcf98-7bd7-4fe8-bc41-a6d7c3089e14": {
            "applied_filters": [],
            "dataframe_info": {
              "default_index_used": true,
              "orig_num_cols": 18,
              "orig_num_rows": 5,
              "orig_size_bytes": 760,
              "truncated_num_cols": 18,
              "truncated_num_rows": 5,
              "truncated_size_bytes": 760,
              "truncated_string_columns": [
                "Job Description"
              ]
            },
            "display_id": "259fcf98-7bd7-4fe8-bc41-a6d7c3089e14",
            "dx_settings": {
              "ALLOW_NOTEABLE_ATTRS": true,
              "COLUMN_SAMPLING_METHOD": "outer",
              "DB_LOCATION": ":memory:",
              "DEV_MODE": false,
              "DISPLAY_MAX_COLUMNS": 100,
              "DISPLAY_MAX_ROWS": 50000,
              "DISPLAY_MODE": "simple",
              "ENABLE_ASSIGNMENT": true,
              "ENABLE_DATALINK": true,
              "FLATTEN_COLUMN_VALUES": true,
              "FLATTEN_INDEX_VALUES": false,
              "GENERATE_DEX_METADATA": false,
              "HTML_TABLE_SCHEMA": false,
              "LOG_LEVEL": 30,
              "MAX_RENDER_SIZE_BYTES": 104857600,
              "MAX_STRING_LENGTH": 250,
              "NUM_PAST_SAMPLES_TRACKED": 3,
              "RANDOM_STATE": 12648430,
              "RESET_INDEX_VALUES": false,
              "ROW_SAMPLING_METHOD": "random",
              "SAMPLING_FACTOR": 0.1,
              "SAMPLING_METHOD": "random",
              "STRINGIFY_COLUMN_VALUES": true,
              "STRINGIFY_INDEX_VALUES": false
            },
            "sample_history": [],
            "sampling_time": "2023-07-18T23:09:39.262375",
            "user_variable_name": null,
            "variable_name": "unk_dataframe_1c25467387a74f5094fb1854faa8093b"
          },
          "be67cd19-bb50-4d24-8b85-1e8261c68d06": {
            "applied_filters": [],
            "dataframe_info": {
              "default_index_used": true,
              "orig_num_cols": 18,
              "orig_num_rows": 5,
              "orig_size_bytes": 760,
              "truncated_num_cols": 18,
              "truncated_num_rows": 5,
              "truncated_size_bytes": 760,
              "truncated_string_columns": [
                "Job Description"
              ]
            },
            "display_id": "be67cd19-bb50-4d24-8b85-1e8261c68d06",
            "dx_settings": {
              "ALLOW_NOTEABLE_ATTRS": true,
              "COLUMN_SAMPLING_METHOD": "outer",
              "DB_LOCATION": ":memory:",
              "DEV_MODE": false,
              "DISPLAY_MAX_COLUMNS": 100,
              "DISPLAY_MAX_ROWS": 50000,
              "DISPLAY_MODE": "simple",
              "ENABLE_ASSIGNMENT": true,
              "ENABLE_DATALINK": true,
              "FLATTEN_COLUMN_VALUES": true,
              "FLATTEN_INDEX_VALUES": false,
              "GENERATE_DEX_METADATA": false,
              "HTML_TABLE_SCHEMA": false,
              "LOG_LEVEL": 30,
              "MAX_RENDER_SIZE_BYTES": 104857600,
              "MAX_STRING_LENGTH": 250,
              "NUM_PAST_SAMPLES_TRACKED": 3,
              "RANDOM_STATE": 12648430,
              "RESET_INDEX_VALUES": false,
              "ROW_SAMPLING_METHOD": "random",
              "SAMPLING_FACTOR": 0.1,
              "SAMPLING_METHOD": "random",
              "STRINGIFY_COLUMN_VALUES": true,
              "STRINGIFY_INDEX_VALUES": false
            },
            "sample_history": [],
            "sampling_time": "2023-07-18T23:44:43.948309",
            "user_variable_name": null,
            "variable_name": "unk_dataframe_1a22a55409dc415aa0c17d85bc218f63"
          },
          "23ba51d6-80e6-4238-b026-8412ccba4ac3": {
            "applied_filters": [],
            "dataframe_info": {
              "default_index_used": true,
              "orig_num_cols": 18,
              "orig_num_rows": 5,
              "orig_size_bytes": 760,
              "truncated_num_cols": 18,
              "truncated_num_rows": 5,
              "truncated_size_bytes": 760,
              "truncated_string_columns": [
                "Job Description"
              ]
            },
            "display_id": "23ba51d6-80e6-4238-b026-8412ccba4ac3",
            "dx_settings": {
              "ALLOW_NOTEABLE_ATTRS": true,
              "COLUMN_SAMPLING_METHOD": "outer",
              "DB_LOCATION": ":memory:",
              "DEV_MODE": false,
              "DISPLAY_MAX_COLUMNS": 100,
              "DISPLAY_MAX_ROWS": 50000,
              "DISPLAY_MODE": "simple",
              "ENABLE_ASSIGNMENT": true,
              "ENABLE_DATALINK": true,
              "FLATTEN_COLUMN_VALUES": true,
              "FLATTEN_INDEX_VALUES": false,
              "GENERATE_DEX_METADATA": false,
              "HTML_TABLE_SCHEMA": false,
              "LOG_LEVEL": 30,
              "MAX_RENDER_SIZE_BYTES": 104857600,
              "MAX_STRING_LENGTH": 250,
              "NUM_PAST_SAMPLES_TRACKED": 3,
              "RANDOM_STATE": 12648430,
              "RESET_INDEX_VALUES": false,
              "ROW_SAMPLING_METHOD": "random",
              "SAMPLING_FACTOR": 0.1,
              "SAMPLING_METHOD": "random",
              "STRINGIFY_COLUMN_VALUES": true,
              "STRINGIFY_INDEX_VALUES": false
            },
            "sample_history": [],
            "sampling_time": "2023-07-18T23:49:23.076487",
            "user_variable_name": null,
            "variable_name": "unk_dataframe_44dada7fe27f4b5382f7a0e67c3929e6"
          }
        }
      },
      "execution_count": null,
      "source": "unclean_df.head()",
      "outputs": []
    },
    {
      "id": "dda5ec0c-2e2e-4d37-8eee-b316fe6e6c42",
      "cell_type": "markdown",
      "source": "## Exctract Data Job Description\n- Create New Columns based on skills required for the job (Python,Excel,Sql,Tableau,Sparx,mechine learing,Aws).\n- If the job description contains those skill in column, print '1' otherwise print '0'.",
      "metadata": {
        "noteable": {
          "cell_type": "markdown"
        }
      }
    },
    {
      "id": "fc49a053-8fdb-45b6-9dc5-4da74de1b6a6",
      "cell_type": "code",
      "metadata": {
        "noteable": {
          "cell_type": "python",
          "output_collection_id": "bbed374d-327e-4786-a266-58ee44579b54"
        },
        "ExecuteTime": {
          "end_time": "2023-07-18T23:49:23.407831+00:00",
          "start_time": "2023-07-18T23:49:23.245914+00:00"
        }
      },
      "execution_count": null,
      "source": "unclean_df['Job Description'][0].split(\"\\n\\n\")",
      "outputs": []
    },
    {
      "id": "99ca18e4-5985-4996-95f6-6b36cd997dd7",
      "cell_type": "markdown",
      "source": "## Create New Binary Features for Select Keywords\n- New columns created for specific keywords that might appear in the 'Job Description' column.\n- Each new column represents a different keyword.\n- The value in each row is determined by whether the corresponding job description contains that keyword.",
      "metadata": {
        "noteable": {
          "cell_type": "markdown"
        }
      }
    },
    {
      "id": "fa9c64d9-d61f-4c43-b701-799fff4822b6",
      "cell_type": "code",
      "metadata": {
        "jupyter": {
          "outputs_hidden": false,
          "source_hidden": false
        },
        "noteable": {
          "cell_type": "code",
          "output_collection_id": "a6515d90-bb9c-41dd-bb3d-fb5ff72c69c0"
        },
        "ExecuteTime": {
          "end_time": "2023-07-18T23:49:23.726374+00:00",
          "start_time": "2023-07-18T23:49:23.440412+00:00"
        }
      },
      "execution_count": null,
      "source": "unclean_df['Python']=unclean_df['Job Description'].apply(lambda x: 1 if \"python\" in x.lower() else 0)\nunclean_df['Excel']=unclean_df['Job Description'].apply(lambda x: 1 if \"excel\" in x.lower() else 0)\nunclean_df['SQL']=unclean_df['Job Description'].apply(lambda x: 1 if \"sql\" in x.lower() else 0)\nunclean_df['Tableau']=unclean_df['Job Description'].apply(lambda x: 1 if \"tableau\" in x.lower() else 0)\nunclean_df['Sparx']=unclean_df['Job Description'].apply(lambda x: 1 if \"Sparx\" in x.lower() else 0)\nunclean_df['Machine Learing']=unclean_df['Job Description'].apply(lambda x: 1 if \"machine learing\" in x.lower() else 0)\nunclean_df['AWS']=unclean_df['Job Description'].apply(lambda x: 1 if \"aws\" in x.lower() else 0)",
      "outputs": []
    },
    {
      "id": "ee5f97c6-f668-48f3-aa80-36df31b317cc",
      "cell_type": "code",
      "metadata": {
        "jupyter": {
          "outputs_hidden": false,
          "source_hidden": false
        },
        "noteable": {
          "cell_type": "code",
          "output_collection_id": "e97c01ee-86be-4c55-a290-0a1ee80c93e2"
        },
        "ExecuteTime": {
          "end_time": "2023-07-18T23:49:24.104557+00:00",
          "start_time": "2023-07-18T23:49:23.735171+00:00"
        },
        "datalink": {
          "14ce3902-4787-4527-b196-1d667eecf7db": {
            "applied_filters": [],
            "dataframe_info": {
              "default_index_used": true,
              "orig_num_cols": 25,
              "orig_num_rows": 659,
              "orig_size_bytes": 137072,
              "truncated_num_cols": 25,
              "truncated_num_rows": 659,
              "truncated_size_bytes": 137072,
              "truncated_string_columns": [
                "Job Description"
              ]
            },
            "display_id": "14ce3902-4787-4527-b196-1d667eecf7db",
            "dx_settings": {
              "ALLOW_NOTEABLE_ATTRS": true,
              "COLUMN_SAMPLING_METHOD": "outer",
              "DB_LOCATION": ":memory:",
              "DEV_MODE": false,
              "DISPLAY_MAX_COLUMNS": 100,
              "DISPLAY_MAX_ROWS": 50000,
              "DISPLAY_MODE": "simple",
              "ENABLE_ASSIGNMENT": true,
              "ENABLE_DATALINK": true,
              "FLATTEN_COLUMN_VALUES": true,
              "FLATTEN_INDEX_VALUES": false,
              "GENERATE_DEX_METADATA": false,
              "HTML_TABLE_SCHEMA": false,
              "LOG_LEVEL": 30,
              "MAX_RENDER_SIZE_BYTES": 104857600,
              "MAX_STRING_LENGTH": 250,
              "NUM_PAST_SAMPLES_TRACKED": 3,
              "RANDOM_STATE": 12648430,
              "RESET_INDEX_VALUES": false,
              "ROW_SAMPLING_METHOD": "random",
              "SAMPLING_FACTOR": 0.1,
              "SAMPLING_METHOD": "random",
              "STRINGIFY_COLUMN_VALUES": true,
              "STRINGIFY_INDEX_VALUES": false
            },
            "sample_history": [],
            "sampling_time": "2023-07-18T21:53:23.147437",
            "user_variable_name": "unclean_df",
            "variable_name": "unclean_df"
          },
          "a47029ce-d909-45db-a9b9-0ffc39603403": {
            "applied_filters": [],
            "dataframe_info": {
              "default_index_used": true,
              "orig_num_cols": 25,
              "orig_num_rows": 659,
              "orig_size_bytes": 137072,
              "truncated_num_cols": 25,
              "truncated_num_rows": 659,
              "truncated_size_bytes": 137072,
              "truncated_string_columns": [
                "Job Description"
              ]
            },
            "display_id": "a47029ce-d909-45db-a9b9-0ffc39603403",
            "dx_settings": {
              "ALLOW_NOTEABLE_ATTRS": true,
              "COLUMN_SAMPLING_METHOD": "outer",
              "DB_LOCATION": ":memory:",
              "DEV_MODE": false,
              "DISPLAY_MAX_COLUMNS": 100,
              "DISPLAY_MAX_ROWS": 50000,
              "DISPLAY_MODE": "simple",
              "ENABLE_ASSIGNMENT": true,
              "ENABLE_DATALINK": true,
              "FLATTEN_COLUMN_VALUES": true,
              "FLATTEN_INDEX_VALUES": false,
              "GENERATE_DEX_METADATA": false,
              "HTML_TABLE_SCHEMA": false,
              "LOG_LEVEL": 30,
              "MAX_RENDER_SIZE_BYTES": 104857600,
              "MAX_STRING_LENGTH": 250,
              "NUM_PAST_SAMPLES_TRACKED": 3,
              "RANDOM_STATE": 12648430,
              "RESET_INDEX_VALUES": false,
              "ROW_SAMPLING_METHOD": "random",
              "SAMPLING_FACTOR": 0.1,
              "SAMPLING_METHOD": "random",
              "STRINGIFY_COLUMN_VALUES": true,
              "STRINGIFY_INDEX_VALUES": false
            },
            "sample_history": [],
            "sampling_time": "2023-07-18T22:05:14.594877",
            "user_variable_name": "unclean_df",
            "variable_name": "unclean_df"
          },
          "b2e2266e-0819-4ca1-ac09-5b98ef30dcc9": {
            "applied_filters": [],
            "dataframe_info": {
              "default_index_used": true,
              "orig_num_cols": 25,
              "orig_num_rows": 659,
              "orig_size_bytes": 137072,
              "truncated_num_cols": 25,
              "truncated_num_rows": 659,
              "truncated_size_bytes": 137072,
              "truncated_string_columns": [
                "Job Description"
              ]
            },
            "display_id": "b2e2266e-0819-4ca1-ac09-5b98ef30dcc9",
            "dx_settings": {
              "ALLOW_NOTEABLE_ATTRS": true,
              "COLUMN_SAMPLING_METHOD": "outer",
              "DB_LOCATION": ":memory:",
              "DEV_MODE": false,
              "DISPLAY_MAX_COLUMNS": 100,
              "DISPLAY_MAX_ROWS": 50000,
              "DISPLAY_MODE": "simple",
              "ENABLE_ASSIGNMENT": true,
              "ENABLE_DATALINK": true,
              "FLATTEN_COLUMN_VALUES": true,
              "FLATTEN_INDEX_VALUES": false,
              "GENERATE_DEX_METADATA": false,
              "HTML_TABLE_SCHEMA": false,
              "LOG_LEVEL": 30,
              "MAX_RENDER_SIZE_BYTES": 104857600,
              "MAX_STRING_LENGTH": 250,
              "NUM_PAST_SAMPLES_TRACKED": 3,
              "RANDOM_STATE": 12648430,
              "RESET_INDEX_VALUES": false,
              "ROW_SAMPLING_METHOD": "random",
              "SAMPLING_FACTOR": 0.1,
              "SAMPLING_METHOD": "random",
              "STRINGIFY_COLUMN_VALUES": true,
              "STRINGIFY_INDEX_VALUES": false
            },
            "sample_history": [],
            "sampling_time": "2023-07-18T22:05:20.654530",
            "user_variable_name": "unclean_df",
            "variable_name": "unclean_df"
          },
          "cb5ee173-0d23-48e4-9868-04b2a52085f4": {
            "applied_filters": [],
            "dataframe_info": {
              "default_index_used": true,
              "orig_num_cols": 25,
              "orig_num_rows": 659,
              "orig_size_bytes": 137072,
              "truncated_num_cols": 25,
              "truncated_num_rows": 659,
              "truncated_size_bytes": 137072,
              "truncated_string_columns": [
                "Job Description"
              ]
            },
            "display_id": "cb5ee173-0d23-48e4-9868-04b2a52085f4",
            "dx_settings": {
              "ALLOW_NOTEABLE_ATTRS": true,
              "COLUMN_SAMPLING_METHOD": "outer",
              "DB_LOCATION": ":memory:",
              "DEV_MODE": false,
              "DISPLAY_MAX_COLUMNS": 100,
              "DISPLAY_MAX_ROWS": 50000,
              "DISPLAY_MODE": "simple",
              "ENABLE_ASSIGNMENT": true,
              "ENABLE_DATALINK": true,
              "FLATTEN_COLUMN_VALUES": true,
              "FLATTEN_INDEX_VALUES": false,
              "GENERATE_DEX_METADATA": false,
              "HTML_TABLE_SCHEMA": false,
              "LOG_LEVEL": 30,
              "MAX_RENDER_SIZE_BYTES": 104857600,
              "MAX_STRING_LENGTH": 250,
              "NUM_PAST_SAMPLES_TRACKED": 3,
              "RANDOM_STATE": 12648430,
              "RESET_INDEX_VALUES": false,
              "ROW_SAMPLING_METHOD": "random",
              "SAMPLING_FACTOR": 0.1,
              "SAMPLING_METHOD": "random",
              "STRINGIFY_COLUMN_VALUES": true,
              "STRINGIFY_INDEX_VALUES": false
            },
            "sample_history": [],
            "sampling_time": "2023-07-18T23:09:40.066171",
            "user_variable_name": "unclean_df",
            "variable_name": "unclean_df"
          },
          "7ec6f05c-2189-4c04-917a-91ad4c289bfe": {
            "applied_filters": [],
            "dataframe_info": {
              "default_index_used": true,
              "orig_num_cols": 25,
              "orig_num_rows": 659,
              "orig_size_bytes": 137072,
              "truncated_num_cols": 25,
              "truncated_num_rows": 659,
              "truncated_size_bytes": 137072,
              "truncated_string_columns": [
                "Job Description"
              ]
            },
            "display_id": "7ec6f05c-2189-4c04-917a-91ad4c289bfe",
            "dx_settings": {
              "ALLOW_NOTEABLE_ATTRS": true,
              "COLUMN_SAMPLING_METHOD": "outer",
              "DB_LOCATION": ":memory:",
              "DEV_MODE": false,
              "DISPLAY_MAX_COLUMNS": 100,
              "DISPLAY_MAX_ROWS": 50000,
              "DISPLAY_MODE": "simple",
              "ENABLE_ASSIGNMENT": true,
              "ENABLE_DATALINK": true,
              "FLATTEN_COLUMN_VALUES": true,
              "FLATTEN_INDEX_VALUES": false,
              "GENERATE_DEX_METADATA": false,
              "HTML_TABLE_SCHEMA": false,
              "LOG_LEVEL": 30,
              "MAX_RENDER_SIZE_BYTES": 104857600,
              "MAX_STRING_LENGTH": 250,
              "NUM_PAST_SAMPLES_TRACKED": 3,
              "RANDOM_STATE": 12648430,
              "RESET_INDEX_VALUES": false,
              "ROW_SAMPLING_METHOD": "random",
              "SAMPLING_FACTOR": 0.1,
              "SAMPLING_METHOD": "random",
              "STRINGIFY_COLUMN_VALUES": true,
              "STRINGIFY_INDEX_VALUES": false
            },
            "sample_history": [],
            "sampling_time": "2023-07-18T23:44:44.837733",
            "user_variable_name": "unclean_df",
            "variable_name": "unclean_df"
          },
          "070edd75-40cb-4d31-a233-197b45624819": {
            "applied_filters": [],
            "dataframe_info": {
              "default_index_used": true,
              "orig_num_cols": 25,
              "orig_num_rows": 659,
              "orig_size_bytes": 137072,
              "truncated_num_cols": 25,
              "truncated_num_rows": 659,
              "truncated_size_bytes": 137072,
              "truncated_string_columns": [
                "Job Description"
              ]
            },
            "display_id": "070edd75-40cb-4d31-a233-197b45624819",
            "dx_settings": {
              "ALLOW_NOTEABLE_ATTRS": true,
              "COLUMN_SAMPLING_METHOD": "outer",
              "DB_LOCATION": ":memory:",
              "DEV_MODE": false,
              "DISPLAY_MAX_COLUMNS": 100,
              "DISPLAY_MAX_ROWS": 50000,
              "DISPLAY_MODE": "simple",
              "ENABLE_ASSIGNMENT": true,
              "ENABLE_DATALINK": true,
              "FLATTEN_COLUMN_VALUES": true,
              "FLATTEN_INDEX_VALUES": false,
              "GENERATE_DEX_METADATA": false,
              "HTML_TABLE_SCHEMA": false,
              "LOG_LEVEL": 30,
              "MAX_RENDER_SIZE_BYTES": 104857600,
              "MAX_STRING_LENGTH": 250,
              "NUM_PAST_SAMPLES_TRACKED": 3,
              "RANDOM_STATE": 12648430,
              "RESET_INDEX_VALUES": false,
              "ROW_SAMPLING_METHOD": "random",
              "SAMPLING_FACTOR": 0.1,
              "SAMPLING_METHOD": "random",
              "STRINGIFY_COLUMN_VALUES": true,
              "STRINGIFY_INDEX_VALUES": false
            },
            "sample_history": [],
            "sampling_time": "2023-07-18T23:49:23.916967",
            "user_variable_name": "unclean_df",
            "variable_name": "unclean_df"
          }
        },
        "dx": {
          "dashboard": {
            "multiViews": []
          },
          "fieldMetadata": {
            "AWS": {
              "columnPosition": 25
            },
            "Company Name": {
              "columnPosition": 6
            },
            "Competitors": {
              "columnPosition": 15
            },
            "Excel": {
              "columnPosition": 20
            },
            "Founded": {
              "columnPosition": 10
            },
            "Headquarters": {
              "columnPosition": 8
            },
            "Industry": {
              "columnPosition": 12
            },
            "Job Description": {
              "columnPosition": 4
            },
            "Job Title": {
              "columnPosition": 2
            },
            "Location": {
              "columnPosition": 7
            },
            "Machine Learing": {
              "columnPosition": 24
            },
            "Python": {
              "columnPosition": 19
            },
            "Rating": {
              "columnPosition": 5
            },
            "Revenue": {
              "columnPosition": 14
            },
            "SQL": {
              "columnPosition": 21
            },
            "Salary Estimate": {
              "columnPosition": 3
            },
            "Sector": {
              "columnPosition": 13
            },
            "Size": {
              "columnPosition": 9
            },
            "Sparx": {
              "columnPosition": 23
            },
            "Tableau": {
              "columnPosition": 22
            },
            "Type of ownership": {
              "columnPosition": 11
            },
            "avg_salary": {
              "columnPosition": 18
            },
            "index": {
              "columnPosition": 1
            },
            "max_salary": {
              "columnPosition": 17
            },
            "min_salary": {
              "columnPosition": 16
            }
          },
          "simpleTable": false,
          "updated": 1689726183410,
          "views": [
            {
              "annotationRules": [],
              "chart": {},
              "chartMode": "grid",
              "confoRules": [],
              "decoration": {
                "footer": "",
                "subtitle": "",
                "title": "Table"
              },
              "facets": [],
              "filterSettings": {
                "SHOW_FILTER_PANEL": true,
                "filters": []
              },
              "id": "first-view",
              "isDefault": true,
              "type": "public",
              "userID": ""
            },
            {
              "annotationRules": [],
              "chart": {},
              "chartMode": "grid",
              "confoRules": [],
              "decoration": {
                "footer": "",
                "subtitle": "",
                "title": "Table"
              },
              "facets": [],
              "filterSettings": {
                "SHOW_FILTER_PANEL": true,
                "filters": []
              },
              "id": "first-view",
              "isDefault": true,
              "isTransitory": true,
              "type": "public",
              "userID": ""
            }
          ]
        }
      },
      "execution_count": null,
      "source": "unclean_df",
      "outputs": []
    }
  ],
  "metadata": {
    "kernelspec": {
      "display_name": "Python 3 (ipykernel)",
      "language": "python",
      "name": "python3"
    },
    "language_info": {
      "codemirror_mode": {
        "name": "ipython",
        "version": 3
      },
      "file_extension": ".py",
      "mimetype": "text/x-python",
      "name": "python",
      "nbconvert_exporter": "python",
      "pygments_lexer": "ipython3",
      "version": "3.9.16"
    },
    "selected_hardware_size": "small",
    "noteable": {
      "last_transaction_id": "500a370c-f50d-4e0d-9c3b-cd58446854e8"
    }
  },
  "nbformat": 4,
  "nbformat_minor": 5
}
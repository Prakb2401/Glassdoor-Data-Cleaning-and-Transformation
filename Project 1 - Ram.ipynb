{
  "cells": [
    {
      "cell_type": "code",
      "execution_count": 7,
      "id": "bdc02879",
      "metadata": {
        "noteable": {
          "output_collection_id": "a3774967-8363-40a4-81e6-16bf9aff00be"
        },
        "ExecuteTime": {
          "end_time": "2023-07-18T20:17:46.654103+00:00",
          "start_time": "2023-07-18T20:17:46.497993+00:00"
        }
      },
      "outputs": [],
      "source": [
        "import numpy as np\n",
        "import pandas as pd #for data processing\n",
        "import os\n",
        "import csv"
      ]
    },
    {
      "cell_type": "code",
      "execution_count": 16,
      "id": "25843b51",
      "metadata": {
        "noteable": {
          "output_collection_id": "c00d91b2-558b-443f-869e-ca4633e445fb"
        },
        "ExecuteTime": {
          "end_time": "2023-07-18T20:17:51.421465+00:00",
          "start_time": "2023-07-18T20:17:51.113049+00:00"
        },
        "datalink": {
          "16f69847-5e7c-47d5-8fbc-e423d5206889": {
            "applied_filters": [],
            "dataframe_info": {
              "default_index_used": true,
              "orig_num_cols": 15,
              "orig_num_rows": 5,
              "orig_size_bytes": 640,
              "truncated_num_cols": 15,
              "truncated_num_rows": 5,
              "truncated_size_bytes": 640,
              "truncated_string_columns": [
                "Job Description"
              ]
            },
            "display_id": "16f69847-5e7c-47d5-8fbc-e423d5206889",
            "dx_settings": {
              "ALLOW_NOTEABLE_ATTRS": true,
              "COLUMN_SAMPLING_METHOD": "outer",
              "DB_LOCATION": ":memory:",
              "DEV_MODE": false,
              "DISPLAY_MAX_COLUMNS": 100,
              "DISPLAY_MAX_ROWS": 50000,
              "DISPLAY_MODE": "simple",
              "ENABLE_ASSIGNMENT": true,
              "ENABLE_DATALINK": true,
              "FLATTEN_COLUMN_VALUES": true,
              "FLATTEN_INDEX_VALUES": false,
              "GENERATE_DEX_METADATA": false,
              "HTML_TABLE_SCHEMA": false,
              "LOG_LEVEL": 30,
              "MAX_RENDER_SIZE_BYTES": 104857600,
              "MAX_STRING_LENGTH": 250,
              "NUM_PAST_SAMPLES_TRACKED": 3,
              "RANDOM_STATE": 12648430,
              "RESET_INDEX_VALUES": false,
              "ROW_SAMPLING_METHOD": "random",
              "SAMPLING_FACTOR": 0.1,
              "SAMPLING_METHOD": "random",
              "STRINGIFY_COLUMN_VALUES": true,
              "STRINGIFY_INDEX_VALUES": false
            },
            "sample_history": [],
            "sampling_time": "2023-07-18T19:59:57.480819",
            "user_variable_name": null,
            "variable_name": "unk_dataframe_5d9268d77adb4b5bab1ebc013a6b109a"
          },
          "b5373171-f6bb-4882-87de-6e1f78642a19": {
            "applied_filters": [],
            "dataframe_info": {
              "default_index_used": true,
              "orig_num_cols": 15,
              "orig_num_rows": 5,
              "orig_size_bytes": 640,
              "truncated_num_cols": 15,
              "truncated_num_rows": 5,
              "truncated_size_bytes": 640,
              "truncated_string_columns": [
                "Job Description"
              ]
            },
            "display_id": "b5373171-f6bb-4882-87de-6e1f78642a19",
            "dx_settings": {
              "ALLOW_NOTEABLE_ATTRS": true,
              "COLUMN_SAMPLING_METHOD": "outer",
              "DB_LOCATION": ":memory:",
              "DEV_MODE": false,
              "DISPLAY_MAX_COLUMNS": 100,
              "DISPLAY_MAX_ROWS": 50000,
              "DISPLAY_MODE": "simple",
              "ENABLE_ASSIGNMENT": true,
              "ENABLE_DATALINK": true,
              "FLATTEN_COLUMN_VALUES": true,
              "FLATTEN_INDEX_VALUES": false,
              "GENERATE_DEX_METADATA": false,
              "HTML_TABLE_SCHEMA": false,
              "LOG_LEVEL": 30,
              "MAX_RENDER_SIZE_BYTES": 104857600,
              "MAX_STRING_LENGTH": 250,
              "NUM_PAST_SAMPLES_TRACKED": 3,
              "RANDOM_STATE": 12648430,
              "RESET_INDEX_VALUES": false,
              "ROW_SAMPLING_METHOD": "random",
              "SAMPLING_FACTOR": 0.1,
              "SAMPLING_METHOD": "random",
              "STRINGIFY_COLUMN_VALUES": true,
              "STRINGIFY_INDEX_VALUES": false
            },
            "sample_history": [],
            "sampling_time": "2023-07-18T20:16:10.071578",
            "user_variable_name": null,
            "variable_name": "unk_dataframe_dc0e22f510534b61ba646099883ff65a"
          },
          "fd643d69-5d99-4e67-96f0-b962fa4cdb25": {
            "applied_filters": [],
            "dataframe_info": {
              "default_index_used": true,
              "orig_num_cols": 15,
              "orig_num_rows": 5,
              "orig_size_bytes": 640,
              "truncated_num_cols": 15,
              "truncated_num_rows": 5,
              "truncated_size_bytes": 640,
              "truncated_string_columns": [
                "Job Description"
              ]
            },
            "display_id": "fd643d69-5d99-4e67-96f0-b962fa4cdb25",
            "dx_settings": {
              "ALLOW_NOTEABLE_ATTRS": true,
              "COLUMN_SAMPLING_METHOD": "outer",
              "DB_LOCATION": ":memory:",
              "DEV_MODE": false,
              "DISPLAY_MAX_COLUMNS": 100,
              "DISPLAY_MAX_ROWS": 50000,
              "DISPLAY_MODE": "simple",
              "ENABLE_ASSIGNMENT": true,
              "ENABLE_DATALINK": true,
              "FLATTEN_COLUMN_VALUES": true,
              "FLATTEN_INDEX_VALUES": false,
              "GENERATE_DEX_METADATA": false,
              "HTML_TABLE_SCHEMA": false,
              "LOG_LEVEL": 30,
              "MAX_RENDER_SIZE_BYTES": 104857600,
              "MAX_STRING_LENGTH": 250,
              "NUM_PAST_SAMPLES_TRACKED": 3,
              "RANDOM_STATE": 12648430,
              "RESET_INDEX_VALUES": false,
              "ROW_SAMPLING_METHOD": "random",
              "SAMPLING_FACTOR": 0.1,
              "SAMPLING_METHOD": "random",
              "STRINGIFY_COLUMN_VALUES": true,
              "STRINGIFY_INDEX_VALUES": false
            },
            "sample_history": [],
            "sampling_time": "2023-07-18T20:17:51.259585",
            "user_variable_name": null,
            "variable_name": "unk_dataframe_f1057371e1d64c2c954127619176ebc3"
          }
        },
        "dx": {
          "fieldMetadata": {},
          "simpleTable": false,
          "updated": 1689711482932,
          "views": []
        },
        "scrolled": false
      },
      "outputs": [],
      "source": "unclean_data = pd.read_csv('Uncleaned_DS_jobs.csv')\nunclean_df = pd.DataFrame(unclean_data)\nunclean_df.head()"
    },
    {
      "id": "49a77e08-8f89-41ad-a0f2-3c1258a0a4be",
      "cell_type": "code",
      "metadata": {
        "noteable": {
          "cell_type": "code",
          "output_collection_id": "65f906b0-e932-4e54-a6ea-f60075352fa5"
        },
        "ExecuteTime": {
          "end_time": "2023-07-18T20:18:08.076857+00:00",
          "start_time": "2023-07-18T20:18:07.872888+00:00"
        }
      },
      "execution_count": null,
      "source": "unclean_data = pd.read_csv('Uncleaned_DS_jobs.csv')\nunclean_df = pd.DataFrame(unclean_data)\nunclean_df.head()\nunclean_df.info()",
      "outputs": []
    },
    {
      "id": "140f4ce3-4be3-4032-b7ff-0e1d8055c1d5",
      "cell_type": "code",
      "metadata": {
        "jupyter": {
          "outputs_hidden": false,
          "source_hidden": false
        },
        "noteable": {
          "cell_type": "code",
          "output_collection_id": "735216ee-8eba-48e0-b012-5e4ac67e53b7"
        },
        "ExecuteTime": {
          "end_time": "2023-07-18T20:18:11.745110+00:00",
          "start_time": "2023-07-18T20:18:11.554551+00:00"
        },
        "datalink": {
          "d42ff857-38ea-4219-a869-354699010ccb": {
            "applied_filters": [],
            "dataframe_info": {
              "default_index_used": false,
              "orig_num_cols": 1,
              "orig_num_rows": 15,
              "orig_size_bytes": 240,
              "truncated_num_cols": 1,
              "truncated_num_rows": 15,
              "truncated_size_bytes": 240,
              "truncated_string_columns": []
            },
            "display_id": "d42ff857-38ea-4219-a869-354699010ccb",
            "dx_settings": {
              "ALLOW_NOTEABLE_ATTRS": true,
              "COLUMN_SAMPLING_METHOD": "outer",
              "DB_LOCATION": ":memory:",
              "DEV_MODE": false,
              "DISPLAY_MAX_COLUMNS": 100,
              "DISPLAY_MAX_ROWS": 50000,
              "DISPLAY_MODE": "simple",
              "ENABLE_ASSIGNMENT": true,
              "ENABLE_DATALINK": true,
              "FLATTEN_COLUMN_VALUES": true,
              "FLATTEN_INDEX_VALUES": false,
              "GENERATE_DEX_METADATA": false,
              "HTML_TABLE_SCHEMA": false,
              "LOG_LEVEL": 30,
              "MAX_RENDER_SIZE_BYTES": 104857600,
              "MAX_STRING_LENGTH": 250,
              "NUM_PAST_SAMPLES_TRACKED": 3,
              "RANDOM_STATE": 12648430,
              "RESET_INDEX_VALUES": false,
              "ROW_SAMPLING_METHOD": "random",
              "SAMPLING_FACTOR": 0.1,
              "SAMPLING_METHOD": "random",
              "STRINGIFY_COLUMN_VALUES": true,
              "STRINGIFY_INDEX_VALUES": false
            },
            "sample_history": [],
            "sampling_time": "2023-07-18T20:09:20.598831",
            "user_variable_name": null,
            "variable_name": "unk_dataframe_30ee0ad1c26340708269ca048dcd9d73"
          },
          "eab1ecde-d3e6-4ab1-a022-b535befeda68": {
            "applied_filters": [],
            "dataframe_info": {
              "default_index_used": false,
              "orig_num_cols": 1,
              "orig_num_rows": 15,
              "orig_size_bytes": 240,
              "truncated_num_cols": 1,
              "truncated_num_rows": 15,
              "truncated_size_bytes": 240,
              "truncated_string_columns": []
            },
            "display_id": "eab1ecde-d3e6-4ab1-a022-b535befeda68",
            "dx_settings": {
              "ALLOW_NOTEABLE_ATTRS": true,
              "COLUMN_SAMPLING_METHOD": "outer",
              "DB_LOCATION": ":memory:",
              "DEV_MODE": false,
              "DISPLAY_MAX_COLUMNS": 100,
              "DISPLAY_MAX_ROWS": 50000,
              "DISPLAY_MODE": "simple",
              "ENABLE_ASSIGNMENT": true,
              "ENABLE_DATALINK": true,
              "FLATTEN_COLUMN_VALUES": true,
              "FLATTEN_INDEX_VALUES": false,
              "GENERATE_DEX_METADATA": false,
              "HTML_TABLE_SCHEMA": false,
              "LOG_LEVEL": 30,
              "MAX_RENDER_SIZE_BYTES": 104857600,
              "MAX_STRING_LENGTH": 250,
              "NUM_PAST_SAMPLES_TRACKED": 3,
              "RANDOM_STATE": 12648430,
              "RESET_INDEX_VALUES": false,
              "ROW_SAMPLING_METHOD": "random",
              "SAMPLING_FACTOR": 0.1,
              "SAMPLING_METHOD": "random",
              "STRINGIFY_COLUMN_VALUES": true,
              "STRINGIFY_INDEX_VALUES": false
            },
            "sample_history": [],
            "sampling_time": "2023-07-18T20:10:31.688091",
            "user_variable_name": null,
            "variable_name": "unk_dataframe_5e4df0fa950944289fd59cbc2ccdaee9"
          },
          "f8760eff-3e2d-44c5-96fa-33f19fc5726c": {
            "applied_filters": [],
            "dataframe_info": {
              "default_index_used": false,
              "orig_num_cols": 1,
              "orig_num_rows": 15,
              "orig_size_bytes": 240,
              "truncated_num_cols": 1,
              "truncated_num_rows": 15,
              "truncated_size_bytes": 240,
              "truncated_string_columns": []
            },
            "display_id": "f8760eff-3e2d-44c5-96fa-33f19fc5726c",
            "dx_settings": {
              "ALLOW_NOTEABLE_ATTRS": true,
              "COLUMN_SAMPLING_METHOD": "outer",
              "DB_LOCATION": ":memory:",
              "DEV_MODE": false,
              "DISPLAY_MAX_COLUMNS": 100,
              "DISPLAY_MAX_ROWS": 50000,
              "DISPLAY_MODE": "simple",
              "ENABLE_ASSIGNMENT": true,
              "ENABLE_DATALINK": true,
              "FLATTEN_COLUMN_VALUES": true,
              "FLATTEN_INDEX_VALUES": false,
              "GENERATE_DEX_METADATA": false,
              "HTML_TABLE_SCHEMA": false,
              "LOG_LEVEL": 30,
              "MAX_RENDER_SIZE_BYTES": 104857600,
              "MAX_STRING_LENGTH": 250,
              "NUM_PAST_SAMPLES_TRACKED": 3,
              "RANDOM_STATE": 12648430,
              "RESET_INDEX_VALUES": false,
              "ROW_SAMPLING_METHOD": "random",
              "SAMPLING_FACTOR": 0.1,
              "SAMPLING_METHOD": "random",
              "STRINGIFY_COLUMN_VALUES": true,
              "STRINGIFY_INDEX_VALUES": false
            },
            "sample_history": [],
            "sampling_time": "2023-07-18T20:16:24.862516",
            "user_variable_name": null,
            "variable_name": "unk_dataframe_b7b5911b8e754c4a95473182efd5b4d7"
          },
          "6402e673-ccbe-44d1-bd45-a6de8b2aa7d8": {
            "applied_filters": [],
            "dataframe_info": {
              "default_index_used": false,
              "orig_num_cols": 1,
              "orig_num_rows": 15,
              "orig_size_bytes": 240,
              "truncated_num_cols": 1,
              "truncated_num_rows": 15,
              "truncated_size_bytes": 240,
              "truncated_string_columns": []
            },
            "display_id": "6402e673-ccbe-44d1-bd45-a6de8b2aa7d8",
            "dx_settings": {
              "ALLOW_NOTEABLE_ATTRS": true,
              "COLUMN_SAMPLING_METHOD": "outer",
              "DB_LOCATION": ":memory:",
              "DEV_MODE": false,
              "DISPLAY_MAX_COLUMNS": 100,
              "DISPLAY_MAX_ROWS": 50000,
              "DISPLAY_MODE": "simple",
              "ENABLE_ASSIGNMENT": true,
              "ENABLE_DATALINK": true,
              "FLATTEN_COLUMN_VALUES": true,
              "FLATTEN_INDEX_VALUES": false,
              "GENERATE_DEX_METADATA": false,
              "HTML_TABLE_SCHEMA": false,
              "LOG_LEVEL": 30,
              "MAX_RENDER_SIZE_BYTES": 104857600,
              "MAX_STRING_LENGTH": 250,
              "NUM_PAST_SAMPLES_TRACKED": 3,
              "RANDOM_STATE": 12648430,
              "RESET_INDEX_VALUES": false,
              "ROW_SAMPLING_METHOD": "random",
              "SAMPLING_FACTOR": 0.1,
              "SAMPLING_METHOD": "random",
              "STRINGIFY_COLUMN_VALUES": true,
              "STRINGIFY_INDEX_VALUES": false
            },
            "sample_history": [],
            "sampling_time": "2023-07-18T20:18:11.588395",
            "user_variable_name": null,
            "variable_name": "unk_dataframe_b06f914d9c504d9485d965d7884806dd"
          }
        },
        "dx": {
          "fieldMetadata": {},
          "simpleTable": true,
          "simpleTableExpanded": false,
          "updated": 1689710964922,
          "views": []
        }
      },
      "execution_count": null,
      "source": "# check for null values\nunclean_df.isnull().sum()",
      "outputs": []
    },
    {
      "id": "e31bf01a-4538-4761-a6a8-5029562cf2ff",
      "cell_type": "code",
      "metadata": {
        "jupyter": {
          "outputs_hidden": false,
          "source_hidden": false
        },
        "noteable": {
          "cell_type": "code",
          "output_collection_id": "b76f2f56-e0ed-47eb-9dba-843060058ad1"
        },
        "ExecuteTime": {
          "end_time": "2023-07-18T20:18:15.509492+00:00",
          "start_time": "2023-07-18T20:18:15.346726+00:00"
        }
      },
      "execution_count": null,
      "source": "unclean_df.drop('index',axis=1,inplace=True)\nunclean_df.shape",
      "outputs": []
    },
    {
      "id": "85f4f8e6-04b7-43ad-a631-ffcb4b16f9e4",
      "cell_type": "code",
      "metadata": {
        "noteable": {
          "cell_type": "code",
          "output_collection_id": "e0de311a-8b4f-41e1-a6b7-dfa17373c65a"
        },
        "ExecuteTime": {
          "end_time": "2023-07-18T20:19:13.222639+00:00",
          "start_time": "2023-07-18T20:19:12.944627+00:00"
        },
        "datalink": {
          "ee42736d-9639-42ca-8138-80ed5129674c": {
            "applied_filters": [],
            "dataframe_info": {
              "default_index_used": true,
              "orig_num_cols": 14,
              "orig_num_rows": 13,
              "orig_size_bytes": 1560,
              "truncated_num_cols": 14,
              "truncated_num_rows": 13,
              "truncated_size_bytes": 1560,
              "truncated_string_columns": [
                "Job Description"
              ]
            },
            "display_id": "ee42736d-9639-42ca-8138-80ed5129674c",
            "dx_settings": {
              "ALLOW_NOTEABLE_ATTRS": true,
              "COLUMN_SAMPLING_METHOD": "outer",
              "DB_LOCATION": ":memory:",
              "DEV_MODE": false,
              "DISPLAY_MAX_COLUMNS": 100,
              "DISPLAY_MAX_ROWS": 50000,
              "DISPLAY_MODE": "simple",
              "ENABLE_ASSIGNMENT": true,
              "ENABLE_DATALINK": true,
              "FLATTEN_COLUMN_VALUES": true,
              "FLATTEN_INDEX_VALUES": false,
              "GENERATE_DEX_METADATA": false,
              "HTML_TABLE_SCHEMA": false,
              "LOG_LEVEL": 30,
              "MAX_RENDER_SIZE_BYTES": 104857600,
              "MAX_STRING_LENGTH": 250,
              "NUM_PAST_SAMPLES_TRACKED": 3,
              "RANDOM_STATE": 12648430,
              "RESET_INDEX_VALUES": false,
              "ROW_SAMPLING_METHOD": "random",
              "SAMPLING_FACTOR": 0.1,
              "SAMPLING_METHOD": "random",
              "STRINGIFY_COLUMN_VALUES": true,
              "STRINGIFY_INDEX_VALUES": false
            },
            "sample_history": [],
            "sampling_time": "2023-07-18T20:18:31.400034",
            "user_variable_name": null,
            "variable_name": "unk_dataframe_f3f573f863d440d08f9b1704a8cb0c4c"
          },
          "aedd6026-3de4-4e59-83ea-8b12e6339f5d": {
            "applied_filters": [],
            "dataframe_info": {
              "default_index_used": true,
              "orig_num_cols": 14,
              "orig_num_rows": 13,
              "orig_size_bytes": 1560,
              "truncated_num_cols": 14,
              "truncated_num_rows": 13,
              "truncated_size_bytes": 1560,
              "truncated_string_columns": [
                "Job Description"
              ]
            },
            "display_id": "aedd6026-3de4-4e59-83ea-8b12e6339f5d",
            "dx_settings": {
              "ALLOW_NOTEABLE_ATTRS": true,
              "COLUMN_SAMPLING_METHOD": "outer",
              "DB_LOCATION": ":memory:",
              "DEV_MODE": false,
              "DISPLAY_MAX_COLUMNS": 100,
              "DISPLAY_MAX_ROWS": 50000,
              "DISPLAY_MODE": "simple",
              "ENABLE_ASSIGNMENT": true,
              "ENABLE_DATALINK": true,
              "FLATTEN_COLUMN_VALUES": true,
              "FLATTEN_INDEX_VALUES": false,
              "GENERATE_DEX_METADATA": false,
              "HTML_TABLE_SCHEMA": false,
              "LOG_LEVEL": 30,
              "MAX_RENDER_SIZE_BYTES": 104857600,
              "MAX_STRING_LENGTH": 250,
              "NUM_PAST_SAMPLES_TRACKED": 3,
              "RANDOM_STATE": 12648430,
              "RESET_INDEX_VALUES": false,
              "ROW_SAMPLING_METHOD": "random",
              "SAMPLING_FACTOR": 0.1,
              "SAMPLING_METHOD": "random",
              "STRINGIFY_COLUMN_VALUES": true,
              "STRINGIFY_INDEX_VALUES": false
            },
            "sample_history": [],
            "sampling_time": "2023-07-18T20:19:13.058155",
            "user_variable_name": null,
            "variable_name": "unk_dataframe_74bc472025094a04b18ca5229126b016"
          }
        }
      },
      "execution_count": null,
      "source": "print(unclean_df[unclean_df.duplicated()].shape)\n\nunclean_df[unclean_df.duplicated()]",
      "outputs": []
    },
    {
      "id": "66fcb0e5-20bc-43b3-b52e-5e07a282eafe",
      "cell_type": "code",
      "metadata": {
        "jupyter": {
          "outputs_hidden": false,
          "source_hidden": false
        },
        "noteable": {
          "cell_type": "code",
          "output_collection_id": "5b14dde3-7b93-4da8-bc75-a76166560bff"
        },
        "ExecuteTime": {
          "end_time": "2023-07-18T20:41:38.480087+00:00",
          "start_time": "2023-07-18T20:41:38.315206+00:00"
        }
      },
      "execution_count": null,
      "source": "unclean_df.drop_duplicates(inplace=True)",
      "outputs": []
    },
    {
      "id": "14964866-be51-46a1-82b6-51a867dd41a1",
      "cell_type": "code",
      "metadata": {
        "jupyter": {
          "outputs_hidden": false,
          "source_hidden": false
        },
        "noteable": {
          "cell_type": "code",
          "output_collection_id": "8ecce59f-7d5a-4da5-9836-02098673bdd1"
        },
        "ExecuteTime": {
          "end_time": "2023-07-18T20:41:59.646168+00:00",
          "start_time": "2023-07-18T20:41:59.487295+00:00"
        }
      },
      "execution_count": null,
      "source": "unclean_df.shape",
      "outputs": []
    },
    {
      "id": "87357b88-46e0-482f-b689-31211fb3070a",
      "cell_type": "code",
      "metadata": {
        "jupyter": {
          "outputs_hidden": false,
          "source_hidden": false
        },
        "noteable": {
          "cell_type": "code",
          "output_collection_id": "78ff2977-d863-49e3-b8d3-9a9a8136f6ce"
        },
        "ExecuteTime": {
          "end_time": "2023-07-18T20:42:16.111847+00:00",
          "start_time": "2023-07-18T20:42:15.951732+00:00"
        }
      },
      "execution_count": null,
      "source": "unclean_df.reset_index(inplace=True)\nunclean_df.shape",
      "outputs": []
    },
    {
      "id": "b1410c72-3f05-4a63-ae94-b208cddbfc03",
      "cell_type": "code",
      "metadata": {
        "jupyter": {
          "outputs_hidden": false,
          "source_hidden": false
        },
        "noteable": {
          "cell_type": "code",
          "output_collection_id": "14d249f3-96dc-4cd8-979b-22fa33c2b9f9"
        },
        "ExecuteTime": {
          "end_time": "2023-07-18T20:42:32.447062+00:00",
          "start_time": "2023-07-18T20:42:32.103223+00:00"
        },
        "datalink": {
          "b2ef382d-0457-4d28-a610-e94443bf5384": {
            "applied_filters": [],
            "dataframe_info": {
              "default_index_used": true,
              "orig_num_cols": 15,
              "orig_num_rows": 659,
              "orig_size_bytes": 84352,
              "truncated_num_cols": 15,
              "truncated_num_rows": 659,
              "truncated_size_bytes": 84352,
              "truncated_string_columns": [
                "Job Description"
              ]
            },
            "display_id": "b2ef382d-0457-4d28-a610-e94443bf5384",
            "dx_settings": {
              "ALLOW_NOTEABLE_ATTRS": true,
              "COLUMN_SAMPLING_METHOD": "outer",
              "DB_LOCATION": ":memory:",
              "DEV_MODE": false,
              "DISPLAY_MAX_COLUMNS": 100,
              "DISPLAY_MAX_ROWS": 50000,
              "DISPLAY_MODE": "simple",
              "ENABLE_ASSIGNMENT": true,
              "ENABLE_DATALINK": true,
              "FLATTEN_COLUMN_VALUES": true,
              "FLATTEN_INDEX_VALUES": false,
              "GENERATE_DEX_METADATA": false,
              "HTML_TABLE_SCHEMA": false,
              "LOG_LEVEL": 30,
              "MAX_RENDER_SIZE_BYTES": 104857600,
              "MAX_STRING_LENGTH": 250,
              "NUM_PAST_SAMPLES_TRACKED": 3,
              "RANDOM_STATE": 12648430,
              "RESET_INDEX_VALUES": false,
              "ROW_SAMPLING_METHOD": "random",
              "SAMPLING_FACTOR": 0.1,
              "SAMPLING_METHOD": "random",
              "STRINGIFY_COLUMN_VALUES": true,
              "STRINGIFY_INDEX_VALUES": false
            },
            "sample_history": [],
            "sampling_time": "2023-07-18T20:42:32.260681",
            "user_variable_name": "unclean_df",
            "variable_name": "unclean_df"
          }
        }
      },
      "execution_count": null,
      "source": "unclean_df",
      "outputs": []
    },
    {
      "id": "3e82cb24-cde5-4d04-9b6c-b9b59ccd68a2",
      "cell_type": "markdown",
      "source": "### Removing Number in Company Name columns",
      "metadata": {
        "noteable": {
          "cell_type": "markdown"
        }
      }
    },
    {
      "id": "973491de-01fa-4926-a8ec-d14d5c56e61f",
      "cell_type": "code",
      "metadata": {
        "noteable": {
          "cell_type": "code",
          "output_collection_id": "88862f86-0a9f-49ae-b29f-b78b61f100e6"
        },
        "ExecuteTime": {
          "end_time": "2023-07-18T20:47:01.071388+00:00",
          "start_time": "2023-07-18T20:47:00.913272+00:00"
        }
      },
      "execution_count": null,
      "source": "# Remove numbers from 'Company Name' column\nunclean_df['Company Name'] = unclean_df['Company Name'].str.replace('\\d+', '')",
      "outputs": []
    },
    {
      "id": "318c8ad5-423d-4cbd-bf2c-e56aef7c3c29",
      "cell_type": "code",
      "metadata": {
        "noteable": {
          "cell_type": "python",
          "output_collection_id": "5ed21b47-14a5-4b5c-8222-816cd2e556ee"
        },
        "ExecuteTime": {
          "end_time": "2023-07-18T20:47:08.942188+00:00",
          "start_time": "2023-07-18T20:47:08.614136+00:00"
        },
        "datalink": {
          "32cb6683-81d0-41f8-85b4-8711506ea681": {
            "applied_filters": [],
            "dataframe_info": {
              "default_index_used": true,
              "orig_num_cols": 15,
              "orig_num_rows": 659,
              "orig_size_bytes": 84352,
              "truncated_num_cols": 15,
              "truncated_num_rows": 659,
              "truncated_size_bytes": 84352,
              "truncated_string_columns": [
                "Job Description"
              ]
            },
            "display_id": "32cb6683-81d0-41f8-85b4-8711506ea681",
            "dx_settings": {
              "ALLOW_NOTEABLE_ATTRS": true,
              "COLUMN_SAMPLING_METHOD": "outer",
              "DB_LOCATION": ":memory:",
              "DEV_MODE": false,
              "DISPLAY_MAX_COLUMNS": 100,
              "DISPLAY_MAX_ROWS": 50000,
              "DISPLAY_MODE": "simple",
              "ENABLE_ASSIGNMENT": true,
              "ENABLE_DATALINK": true,
              "FLATTEN_COLUMN_VALUES": true,
              "FLATTEN_INDEX_VALUES": false,
              "GENERATE_DEX_METADATA": false,
              "HTML_TABLE_SCHEMA": false,
              "LOG_LEVEL": 30,
              "MAX_RENDER_SIZE_BYTES": 104857600,
              "MAX_STRING_LENGTH": 250,
              "NUM_PAST_SAMPLES_TRACKED": 3,
              "RANDOM_STATE": 12648430,
              "RESET_INDEX_VALUES": false,
              "ROW_SAMPLING_METHOD": "random",
              "SAMPLING_FACTOR": 0.1,
              "SAMPLING_METHOD": "random",
              "STRINGIFY_COLUMN_VALUES": true,
              "STRINGIFY_INDEX_VALUES": false
            },
            "sample_history": [],
            "sampling_time": "2023-07-18T20:47:08.750586",
            "user_variable_name": "unclean_df",
            "variable_name": "unclean_df"
          }
        }
      },
      "execution_count": null,
      "source": "unclean_df",
      "outputs": []
    }
  ],
  "metadata": {
    "kernelspec": {
      "display_name": "Python 3 (ipykernel)",
      "language": "python",
      "name": "python3"
    },
    "language_info": {
      "codemirror_mode": {
        "name": "ipython",
        "version": 3
      },
      "file_extension": ".py",
      "mimetype": "text/x-python",
      "name": "python",
      "nbconvert_exporter": "python",
      "pygments_lexer": "ipython3",
      "version": "3.9.16"
    },
    "selected_hardware_size": "small",
    "noteable": {
      "last_transaction_id": "6c068308-063f-4c8a-9e03-7221e4d6047d"
    }
  },
  "nbformat": 4,
  "nbformat_minor": 5
}
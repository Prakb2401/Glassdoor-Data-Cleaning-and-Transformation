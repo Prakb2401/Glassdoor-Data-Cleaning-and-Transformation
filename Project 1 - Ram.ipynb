{
  "cells": [
    {
      "cell_type": "code",
      "execution_count": 7,
      "id": "bdc02879",
      "metadata": {
        "noteable": {
          "output_collection_id": "8068b047-1397-4b07-af1f-161a727455b7"
        },
        "ExecuteTime": {
          "end_time": "2023-07-18T19:58:34.397160+00:00",
          "start_time": "2023-07-18T19:58:34.239186+00:00"
        }
      },
      "outputs": [],
      "source": [
        "import numpy as np\n",
        "import pandas as pd #for data processing\n",
        "import os\n",
        "import csv"
      ]
    },
    {
      "cell_type": "code",
      "execution_count": 16,
      "id": "25843b51",
      "metadata": {
        "noteable": {
          "output_collection_id": "0fc4c340-3e2c-4d5b-9138-8f987a40b882"
        },
        "ExecuteTime": {
          "end_time": "2023-07-18T19:59:57.640869+00:00",
          "start_time": "2023-07-18T19:59:57.343317+00:00"
        },
        "datalink": {
          "16f69847-5e7c-47d5-8fbc-e423d5206889": {
            "applied_filters": [],
            "dataframe_info": {
              "default_index_used": true,
              "orig_num_cols": 15,
              "orig_num_rows": 5,
              "orig_size_bytes": 640,
              "truncated_num_cols": 15,
              "truncated_num_rows": 5,
              "truncated_size_bytes": 640,
              "truncated_string_columns": [
                "Job Description"
              ]
            },
            "display_id": "16f69847-5e7c-47d5-8fbc-e423d5206889",
            "dx_settings": {
              "ALLOW_NOTEABLE_ATTRS": true,
              "COLUMN_SAMPLING_METHOD": "outer",
              "DB_LOCATION": ":memory:",
              "DEV_MODE": false,
              "DISPLAY_MAX_COLUMNS": 100,
              "DISPLAY_MAX_ROWS": 50000,
              "DISPLAY_MODE": "simple",
              "ENABLE_ASSIGNMENT": true,
              "ENABLE_DATALINK": true,
              "FLATTEN_COLUMN_VALUES": true,
              "FLATTEN_INDEX_VALUES": false,
              "GENERATE_DEX_METADATA": false,
              "HTML_TABLE_SCHEMA": false,
              "LOG_LEVEL": 30,
              "MAX_RENDER_SIZE_BYTES": 104857600,
              "MAX_STRING_LENGTH": 250,
              "NUM_PAST_SAMPLES_TRACKED": 3,
              "RANDOM_STATE": 12648430,
              "RESET_INDEX_VALUES": false,
              "ROW_SAMPLING_METHOD": "random",
              "SAMPLING_FACTOR": 0.1,
              "SAMPLING_METHOD": "random",
              "STRINGIFY_COLUMN_VALUES": true,
              "STRINGIFY_INDEX_VALUES": false
            },
            "sample_history": [],
            "sampling_time": "2023-07-18T19:59:57.480819",
            "user_variable_name": null,
            "variable_name": "unk_dataframe_5d9268d77adb4b5bab1ebc013a6b109a"
          }
        }
      },
      "outputs": [],
      "source": "unclean_data = pd.read_csv('Uncleaned_DS_jobs.csv')\nunclean_df = pd.DataFrame(unclean_data)\nunclean_df.head()"
    },
    {
      "id": "49a77e08-8f89-41ad-a0f2-3c1258a0a4be",
      "cell_type": "code",
      "metadata": {
        "noteable": {
          "cell_type": "code",
          "output_collection_id": "4e7a9b48-f33a-4c26-bd0b-2e298edb4a64"
        },
        "ExecuteTime": {
          "end_time": "2023-07-18T20:06:21.712127+00:00",
          "start_time": "2023-07-18T20:06:21.510473+00:00"
        }
      },
      "execution_count": null,
      "source": "unclean_data = pd.read_csv('Uncleaned_DS_jobs.csv')\nunclean_df = pd.DataFrame(unclean_data)\nunclean_df.head()\nunclean_df.info()",
      "outputs": []
    },
    {
      "id": "140f4ce3-4be3-4032-b7ff-0e1d8055c1d5",
      "cell_type": "code",
      "metadata": {
        "jupyter": {
          "outputs_hidden": false,
          "source_hidden": false
        },
        "noteable": {
          "cell_type": "code",
          "output_collection_id": "4b257693-2b52-42a3-88c4-91f8e813438a"
        },
        "ExecuteTime": {
          "end_time": "2023-07-18T20:10:31.843974+00:00",
          "start_time": "2023-07-18T20:10:31.652221+00:00"
        },
        "datalink": {
          "d42ff857-38ea-4219-a869-354699010ccb": {
            "applied_filters": [],
            "dataframe_info": {
              "default_index_used": false,
              "orig_num_cols": 1,
              "orig_num_rows": 15,
              "orig_size_bytes": 240,
              "truncated_num_cols": 1,
              "truncated_num_rows": 15,
              "truncated_size_bytes": 240,
              "truncated_string_columns": []
            },
            "display_id": "d42ff857-38ea-4219-a869-354699010ccb",
            "dx_settings": {
              "ALLOW_NOTEABLE_ATTRS": true,
              "COLUMN_SAMPLING_METHOD": "outer",
              "DB_LOCATION": ":memory:",
              "DEV_MODE": false,
              "DISPLAY_MAX_COLUMNS": 100,
              "DISPLAY_MAX_ROWS": 50000,
              "DISPLAY_MODE": "simple",
              "ENABLE_ASSIGNMENT": true,
              "ENABLE_DATALINK": true,
              "FLATTEN_COLUMN_VALUES": true,
              "FLATTEN_INDEX_VALUES": false,
              "GENERATE_DEX_METADATA": false,
              "HTML_TABLE_SCHEMA": false,
              "LOG_LEVEL": 30,
              "MAX_RENDER_SIZE_BYTES": 104857600,
              "MAX_STRING_LENGTH": 250,
              "NUM_PAST_SAMPLES_TRACKED": 3,
              "RANDOM_STATE": 12648430,
              "RESET_INDEX_VALUES": false,
              "ROW_SAMPLING_METHOD": "random",
              "SAMPLING_FACTOR": 0.1,
              "SAMPLING_METHOD": "random",
              "STRINGIFY_COLUMN_VALUES": true,
              "STRINGIFY_INDEX_VALUES": false
            },
            "sample_history": [],
            "sampling_time": "2023-07-18T20:09:20.598831",
            "user_variable_name": null,
            "variable_name": "unk_dataframe_30ee0ad1c26340708269ca048dcd9d73"
          },
          "eab1ecde-d3e6-4ab1-a022-b535befeda68": {
            "applied_filters": [],
            "dataframe_info": {
              "default_index_used": false,
              "orig_num_cols": 1,
              "orig_num_rows": 15,
              "orig_size_bytes": 240,
              "truncated_num_cols": 1,
              "truncated_num_rows": 15,
              "truncated_size_bytes": 240,
              "truncated_string_columns": []
            },
            "display_id": "eab1ecde-d3e6-4ab1-a022-b535befeda68",
            "dx_settings": {
              "ALLOW_NOTEABLE_ATTRS": true,
              "COLUMN_SAMPLING_METHOD": "outer",
              "DB_LOCATION": ":memory:",
              "DEV_MODE": false,
              "DISPLAY_MAX_COLUMNS": 100,
              "DISPLAY_MAX_ROWS": 50000,
              "DISPLAY_MODE": "simple",
              "ENABLE_ASSIGNMENT": true,
              "ENABLE_DATALINK": true,
              "FLATTEN_COLUMN_VALUES": true,
              "FLATTEN_INDEX_VALUES": false,
              "GENERATE_DEX_METADATA": false,
              "HTML_TABLE_SCHEMA": false,
              "LOG_LEVEL": 30,
              "MAX_RENDER_SIZE_BYTES": 104857600,
              "MAX_STRING_LENGTH": 250,
              "NUM_PAST_SAMPLES_TRACKED": 3,
              "RANDOM_STATE": 12648430,
              "RESET_INDEX_VALUES": false,
              "ROW_SAMPLING_METHOD": "random",
              "SAMPLING_FACTOR": 0.1,
              "SAMPLING_METHOD": "random",
              "STRINGIFY_COLUMN_VALUES": true,
              "STRINGIFY_INDEX_VALUES": false
            },
            "sample_history": [],
            "sampling_time": "2023-07-18T20:10:31.688091",
            "user_variable_name": null,
            "variable_name": "unk_dataframe_5e4df0fa950944289fd59cbc2ccdaee9"
          }
        },
        "dx": {
          "fieldMetadata": {},
          "simpleTable": true,
          "simpleTableExpanded": false,
          "updated": 1689710964922,
          "views": []
        }
      },
      "execution_count": null,
      "source": "# check for null values\nunclean_df.isnull().sum()",
      "outputs": []
    },
    {
      "id": "e31bf01a-4538-4761-a6a8-5029562cf2ff",
      "cell_type": "code",
      "metadata": {
        "jupyter": {
          "outputs_hidden": false,
          "source_hidden": false
        },
        "noteable": {
          "cell_type": "code",
          "output_collection_id": "0f5284be-7eaf-41ea-b192-65e2156f0664"
        },
        "ExecuteTime": {
          "end_time": "2023-07-18T20:13:48.299394+00:00",
          "start_time": "2023-07-18T20:13:48.137737+00:00"
        }
      },
      "execution_count": null,
      "source": "unclean_df.drop('index',axis=1,inplace=True)\nunclean_df.shape",
      "outputs": []
    },
    {
      "id": "85f4f8e6-04b7-43ad-a631-ffcb4b16f9e4",
      "cell_type": "code",
      "metadata": {
        "noteable": {
          "cell_type": "code",
          "output_collection_id": "7bb3e3b5-8483-4cfc-9fba-fb42eb10c9d3"
        },
        "ExecuteTime": {
          "end_time": "2023-07-18T20:14:04.433934+00:00",
          "start_time": "2023-07-18T20:14:04.256664+00:00"
        }
      },
      "execution_count": null,
      "source": "# Identify duplicate rows\nduplicates = unclean_df.duplicated()\nprint(f'Number of duplicate rows = {duplicates.sum()}')\n\n# Drop duplicates\nunclean_df = unclean_df.drop_duplicates()\nunclean_df.reset_index(drop=True, inplace=True)\n\n# Check the shape of the dataframe after dropping duplicates\nunclean_df.shape",
      "outputs": []
    },
    {
      "id": "f9be7ed4-0a3d-4264-85c2-9bf90074113a",
      "cell_type": "code",
      "metadata": {
        "jupyter": {
          "outputs_hidden": false,
          "source_hidden": false
        },
        "noteable": {
          "cell_type": "code",
          "output_collection_id": "ca551c47-9e6c-4fda-af2f-b210e262deaa"
        },
        "ExecuteTime": {
          "end_time": "2023-07-18T20:14:55.851785+00:00",
          "start_time": "2023-07-18T20:14:55.594578+00:00"
        },
        "datalink": {
          "33e7d758-a095-4990-af7e-ceaa148b473b": {
            "applied_filters": [],
            "dataframe_info": {
              "default_index_used": true,
              "orig_num_cols": 14,
              "orig_num_rows": 0,
              "orig_size_bytes": 0,
              "truncated_num_cols": 14,
              "truncated_num_rows": 0,
              "truncated_size_bytes": 0,
              "truncated_string_columns": []
            },
            "display_id": "33e7d758-a095-4990-af7e-ceaa148b473b",
            "dx_settings": {
              "ALLOW_NOTEABLE_ATTRS": true,
              "COLUMN_SAMPLING_METHOD": "outer",
              "DB_LOCATION": ":memory:",
              "DEV_MODE": false,
              "DISPLAY_MAX_COLUMNS": 100,
              "DISPLAY_MAX_ROWS": 50000,
              "DISPLAY_MODE": "simple",
              "ENABLE_ASSIGNMENT": true,
              "ENABLE_DATALINK": true,
              "FLATTEN_COLUMN_VALUES": true,
              "FLATTEN_INDEX_VALUES": false,
              "GENERATE_DEX_METADATA": false,
              "HTML_TABLE_SCHEMA": false,
              "LOG_LEVEL": 30,
              "MAX_RENDER_SIZE_BYTES": 104857600,
              "MAX_STRING_LENGTH": 250,
              "NUM_PAST_SAMPLES_TRACKED": 3,
              "RANDOM_STATE": 12648430,
              "RESET_INDEX_VALUES": false,
              "ROW_SAMPLING_METHOD": "random",
              "SAMPLING_FACTOR": 0.1,
              "SAMPLING_METHOD": "random",
              "STRINGIFY_COLUMN_VALUES": true,
              "STRINGIFY_INDEX_VALUES": false
            },
            "sample_history": [],
            "sampling_time": "2023-07-18T20:14:55.693013",
            "user_variable_name": null,
            "variable_name": "unk_dataframe_f6384c0fd65d4aeaba5f5c34a305a42c"
          }
        }
      },
      "execution_count": null,
      "source": "print(unclean_df[unclean_df.duplicated()].shape)\n\nunclean_df[unclean_df.duplicated()]",
      "outputs": []
    }
  ],
  "metadata": {
    "kernelspec": {
      "display_name": "Python 3 (ipykernel)",
      "language": "python",
      "name": "python3"
    },
    "language_info": {
      "codemirror_mode": {
        "name": "ipython",
        "version": 3
      },
      "file_extension": ".py",
      "mimetype": "text/x-python",
      "name": "python",
      "nbconvert_exporter": "python",
      "pygments_lexer": "ipython3",
      "version": "3.9.16"
    },
    "selected_hardware_size": "small",
    "noteable": {
      "last_transaction_id": "38e5c3ca-db56-4c94-8c72-1bcc6986fe9c"
    }
  },
  "nbformat": 4,
  "nbformat_minor": 5
}
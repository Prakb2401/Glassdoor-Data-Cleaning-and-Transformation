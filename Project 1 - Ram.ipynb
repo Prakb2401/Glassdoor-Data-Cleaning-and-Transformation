{
  "cells": [
    {
      "cell_type": "code",
      "execution_count": 7,
      "id": "bdc02879",
      "metadata": {
        "noteable": {
          "output_collection_id": "8068b047-1397-4b07-af1f-161a727455b7"
        },
        "ExecuteTime": {
          "end_time": "2023-07-18T19:58:34.397160+00:00",
          "start_time": "2023-07-18T19:58:34.239186+00:00"
        }
      },
      "outputs": [],
      "source": [
        "import numpy as np\n",
        "import pandas as pd #for data processing\n",
        "import os\n",
        "import csv"
      ]
    },
    {
      "cell_type": "code",
      "execution_count": 12,
      "id": "a3901429",
      "metadata": {
        "noteable": {
          "output_collection_id": "5438206c-ee6d-42af-baff-7d89f7f3d37e"
        },
        "ExecuteTime": {
          "end_time": "2023-07-18T19:58:39.385253+00:00",
          "start_time": "2023-07-18T19:58:39.228359+00:00"
        }
      },
      "outputs": [],
      "source": [
        "directory = ('../Project_1')\n",
        "filename = 'Uncleaned_DS_jobs.csv'\n",
        "file_path = os.path.join(directory, filename)"
      ]
    },
    {
      "cell_type": "code",
      "execution_count": 16,
      "id": "25843b51",
      "metadata": {
        "noteable": {
          "output_collection_id": "faf206ca-c24e-46ea-a597-3b598a3425af"
        },
        "ExecuteTime": {
          "end_time": "2023-07-18T19:58:43.729134+00:00",
          "start_time": "2023-07-18T19:58:42.571937+00:00"
        }
      },
      "outputs": [],
      "source": [
        "unclean_data = pd.read_csv(file_path)\n",
        "unclean_df = pd.DataFrame(unclean_data)\n",
        "unclean_df.head()"
      ]
    },
    {
      "cell_type": "code",
      "execution_count": null,
      "id": "d183d8eb",
      "metadata": {},
      "outputs": [],
      "source": []
    }
  ],
  "metadata": {
    "kernelspec": {
      "display_name": "Python 3 (ipykernel)",
      "language": "python",
      "name": "python3"
    },
    "language_info": {
      "codemirror_mode": {
        "name": "ipython",
        "version": 3
      },
      "file_extension": ".py",
      "mimetype": "text/x-python",
      "name": "python",
      "nbconvert_exporter": "python",
      "pygments_lexer": "ipython3",
      "version": "3.9.16"
    },
    "selected_hardware_size": "small",
    "noteable": {
      "last_transaction_id": "adb5ce4f-9311-432d-a161-ee99f7e98feb"
    }
  },
  "nbformat": 4,
  "nbformat_minor": 5
}